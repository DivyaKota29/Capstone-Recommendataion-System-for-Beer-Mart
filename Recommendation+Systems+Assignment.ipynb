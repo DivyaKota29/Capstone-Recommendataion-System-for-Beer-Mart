{
 "cells": [
  {
   "cell_type": "markdown",
   "metadata": {},
   "source": [
    "## Assignment - Recommendation System"
   ]
  },
  {
   "cell_type": "markdown",
   "metadata": {},
   "source": [
    "### Objective\n",
    "The objective of this project is to build  a recommendation system to suggest customers with the beer they are most likely to buy.\n",
    "\n",
    "### Problem Introduction\n",
    "Each record includes a beer's name and the user's name, along with the ratings he/she has given to the beer. All ratings are on a scale from 1 to 5, with 5 being the best rating.\n",
    "\n",
    "The different steps of this project are as follows:\n",
    "1. Data reading\n",
    "2. Cleaning  the data\n",
    "3. Data preparation\n",
    "4. Data Exploration\n",
    "5. Building user-based and item-based recommendation models."
   ]
  },
  {
   "cell_type": "code",
   "execution_count": 1,
   "metadata": {},
   "outputs": [],
   "source": [
    "###Importing the required libraries\n",
    "import pandas as pd\n",
    "import numpy as np\n",
    "import seaborn as sns\n",
    "import matplotlib.pyplot as plt"
   ]
  },
  {
   "cell_type": "code",
   "execution_count": 2,
   "metadata": {},
   "outputs": [
    {
     "data": {
      "text/html": [
       "<div>\n",
       "<style scoped>\n",
       "    .dataframe tbody tr th:only-of-type {\n",
       "        vertical-align: middle;\n",
       "    }\n",
       "\n",
       "    .dataframe tbody tr th {\n",
       "        vertical-align: top;\n",
       "    }\n",
       "\n",
       "    .dataframe thead th {\n",
       "        text-align: right;\n",
       "    }\n",
       "</style>\n",
       "<table border=\"1\" class=\"dataframe\">\n",
       "  <thead>\n",
       "    <tr style=\"text-align: right;\">\n",
       "      <th></th>\n",
       "      <th>beer_beerid</th>\n",
       "      <th>review_profilename</th>\n",
       "      <th>review_overall</th>\n",
       "    </tr>\n",
       "  </thead>\n",
       "  <tbody>\n",
       "    <tr>\n",
       "      <th>0</th>\n",
       "      <td>48215</td>\n",
       "      <td>stcules</td>\n",
       "      <td>3.0</td>\n",
       "    </tr>\n",
       "    <tr>\n",
       "      <th>1</th>\n",
       "      <td>52159</td>\n",
       "      <td>oline73</td>\n",
       "      <td>3.0</td>\n",
       "    </tr>\n",
       "    <tr>\n",
       "      <th>2</th>\n",
       "      <td>52159</td>\n",
       "      <td>alpinebryant</td>\n",
       "      <td>3.0</td>\n",
       "    </tr>\n",
       "    <tr>\n",
       "      <th>3</th>\n",
       "      <td>52159</td>\n",
       "      <td>rawthar</td>\n",
       "      <td>4.0</td>\n",
       "    </tr>\n",
       "    <tr>\n",
       "      <th>4</th>\n",
       "      <td>52159</td>\n",
       "      <td>RangerClegg</td>\n",
       "      <td>3.5</td>\n",
       "    </tr>\n",
       "  </tbody>\n",
       "</table>\n",
       "</div>"
      ],
      "text/plain": [
       "   beer_beerid review_profilename  review_overall\n",
       "0        48215            stcules             3.0\n",
       "1        52159            oline73             3.0\n",
       "2        52159       alpinebryant             3.0\n",
       "3        52159            rawthar             4.0\n",
       "4        52159        RangerClegg             3.5"
      ]
     },
     "execution_count": 2,
     "metadata": {},
     "output_type": "execute_result"
    }
   ],
   "source": [
    "#reading the file\n",
    "beer=pd.read_csv(\"beer_data.csv\", encoding='latin-1')\n",
    "beer.head()"
   ]
  },
  {
   "cell_type": "code",
   "execution_count": 3,
   "metadata": {},
   "outputs": [
    {
     "name": "stdout",
     "output_type": "stream",
     "text": [
      "DF shape (475984, 3)\n"
     ]
    }
   ],
   "source": [
    "#reading the datashape\n",
    "print(\"DF shape\",beer.shape)"
   ]
  },
  {
   "cell_type": "markdown",
   "metadata": {},
   "source": [
    "The dataframe is called as \"beer\" and there are 475984 values in the original dataset alongwith three columns\n"
   ]
  },
  {
   "cell_type": "code",
   "execution_count": 4,
   "metadata": {},
   "outputs": [
    {
     "data": {
      "text/plain": [
       "beer_beerid           0.000000\n",
       "review_profilename    0.021009\n",
       "review_overall        0.000000\n",
       "dtype: float64"
      ]
     },
     "execution_count": 4,
     "metadata": {},
     "output_type": "execute_result"
    }
   ],
   "source": [
    "#checking for nullvalues\n",
    "beer.isnull().sum()* 100 / len(beer)"
   ]
  },
  {
   "cell_type": "markdown",
   "metadata": {},
   "source": [
    "There are 0.021% of missing values in the  column review_profile name which are being removed below"
   ]
  },
  {
   "cell_type": "code",
   "execution_count": 5,
   "metadata": {},
   "outputs": [
    {
     "data": {
      "text/plain": [
       "beer_beerid           0.0\n",
       "review_profilename    0.0\n",
       "review_overall        0.0\n",
       "dtype: float64"
      ]
     },
     "execution_count": 5,
     "metadata": {},
     "output_type": "execute_result"
    }
   ],
   "source": [
    "#dropping null values\n",
    "beer=beer.dropna(axis=0, how=\"any\")\n",
    "beer.isnull().sum()* 100 / len(beer)"
   ]
  },
  {
   "cell_type": "markdown",
   "metadata": {},
   "source": [
    "#### These indicate that the missing values have been removed\n",
    "\n",
    "### Removing Duplicates"
   ]
  },
  {
   "cell_type": "code",
   "execution_count": 6,
   "metadata": {},
   "outputs": [
    {
     "data": {
      "text/plain": [
       "1422"
      ]
     },
     "execution_count": 6,
     "metadata": {},
     "output_type": "execute_result"
    }
   ],
   "source": [
    "#Checking duplicates based on two cloumns\n",
    "beer.duplicated(['beer_beerid','review_profilename']).sum()"
   ]
  },
  {
   "cell_type": "markdown",
   "metadata": {},
   "source": [
    "This indicates that there are nearly 1422 duplicate rows.The duplicate rows have been checked for only two columns because having two duplicates for reviews column is fine but haveing two entries for the same beer id and username will have an impact on the data.Therefore, the duplicates based on two different columns have been identified and are removed below"
   ]
  },
  {
   "cell_type": "code",
   "execution_count": 7,
   "metadata": {},
   "outputs": [],
   "source": [
    "# dropping duplicate columns\n",
    "beer = beer.drop_duplicates(['beer_beerid','review_profilename'],keep='first')"
   ]
  },
  {
   "cell_type": "code",
   "execution_count": 8,
   "metadata": {},
   "outputs": [
    {
     "data": {
      "text/plain": [
       "(474462, 3)"
      ]
     },
     "execution_count": 8,
     "metadata": {},
     "output_type": "execute_result"
    }
   ],
   "source": [
    "#checking the shape of the dataframe to check if duplicates are deleted\n",
    "beer.shape"
   ]
  },
  {
   "cell_type": "markdown",
   "metadata": {},
   "source": [
    "The original shape of the dataframe had 475984 and the number of duplicate rows were 1422, so the remaining rows after removing suplicate rows must be 474562 rows"
   ]
  },
  {
   "cell_type": "code",
   "execution_count": 9,
   "metadata": {},
   "outputs": [
    {
     "name": "stdout",
     "output_type": "stream",
     "text": [
      "<class 'pandas.core.frame.DataFrame'>\n",
      "Int64Index: 474462 entries, 0 to 475983\n",
      "Data columns (total 3 columns):\n",
      " #   Column              Non-Null Count   Dtype  \n",
      "---  ------              --------------   -----  \n",
      " 0   beer_beerid         474462 non-null  int64  \n",
      " 1   review_profilename  474462 non-null  object \n",
      " 2   review_overall      474462 non-null  float64\n",
      "dtypes: float64(1), int64(1), object(1)\n",
      "memory usage: 14.5+ MB\n",
      "None\n"
     ]
    }
   ],
   "source": [
    "#checking the type and nature of dataframe to check datashapes and the final shape\n",
    "print(beer.info())"
   ]
  },
  {
   "cell_type": "code",
   "execution_count": 10,
   "metadata": {
    "scrolled": true
   },
   "outputs": [
    {
     "data": {
      "text/html": [
       "<div>\n",
       "<style scoped>\n",
       "    .dataframe tbody tr th:only-of-type {\n",
       "        vertical-align: middle;\n",
       "    }\n",
       "\n",
       "    .dataframe tbody tr th {\n",
       "        vertical-align: top;\n",
       "    }\n",
       "\n",
       "    .dataframe thead th {\n",
       "        text-align: right;\n",
       "    }\n",
       "</style>\n",
       "<table border=\"1\" class=\"dataframe\">\n",
       "  <thead>\n",
       "    <tr style=\"text-align: right;\">\n",
       "      <th></th>\n",
       "      <th>beer_beerid</th>\n",
       "      <th>review_overall</th>\n",
       "    </tr>\n",
       "  </thead>\n",
       "  <tbody>\n",
       "    <tr>\n",
       "      <th>count</th>\n",
       "      <td>474462.000000</td>\n",
       "      <td>474462.000000</td>\n",
       "    </tr>\n",
       "    <tr>\n",
       "      <th>mean</th>\n",
       "      <td>21674.478038</td>\n",
       "      <td>3.814274</td>\n",
       "    </tr>\n",
       "    <tr>\n",
       "      <th>std</th>\n",
       "      <td>21798.233764</td>\n",
       "      <td>0.720484</td>\n",
       "    </tr>\n",
       "    <tr>\n",
       "      <th>min</th>\n",
       "      <td>3.000000</td>\n",
       "      <td>0.000000</td>\n",
       "    </tr>\n",
       "    <tr>\n",
       "      <th>25%</th>\n",
       "      <td>1717.000000</td>\n",
       "      <td>3.500000</td>\n",
       "    </tr>\n",
       "    <tr>\n",
       "      <th>50%</th>\n",
       "      <td>13896.000000</td>\n",
       "      <td>4.000000</td>\n",
       "    </tr>\n",
       "    <tr>\n",
       "      <th>75%</th>\n",
       "      <td>39417.000000</td>\n",
       "      <td>4.500000</td>\n",
       "    </tr>\n",
       "    <tr>\n",
       "      <th>max</th>\n",
       "      <td>77317.000000</td>\n",
       "      <td>5.000000</td>\n",
       "    </tr>\n",
       "  </tbody>\n",
       "</table>\n",
       "</div>"
      ],
      "text/plain": [
       "         beer_beerid  review_overall\n",
       "count  474462.000000   474462.000000\n",
       "mean    21674.478038        3.814274\n",
       "std     21798.233764        0.720484\n",
       "min         3.000000        0.000000\n",
       "25%      1717.000000        3.500000\n",
       "50%     13896.000000        4.000000\n",
       "75%     39417.000000        4.500000\n",
       "max     77317.000000        5.000000"
      ]
     },
     "execution_count": 10,
     "metadata": {},
     "output_type": "execute_result"
    }
   ],
   "source": [
    "# reading the  distribution of the data over the dataframe using describe\n",
    "beer.describe()"
   ]
  },
  {
   "cell_type": "markdown",
   "metadata": {},
   "source": [
    "## Data preparation\n",
    "\n",
    "The objective of this step is to choose only those beers that have at least N number of reviews and those beers should not have extremely low number of ratings.This is being achieved by plotting a histogram to identify the lowest number of ratings  and have a number of reviews and finally identify the optimum reviews\n",
    "\n",
    "### Beer Reviews\n"
   ]
  },
  {
   "cell_type": "code",
   "execution_count": 11,
   "metadata": {},
   "outputs": [
    {
     "data": {
      "text/html": [
       "<div>\n",
       "<style scoped>\n",
       "    .dataframe tbody tr th:only-of-type {\n",
       "        vertical-align: middle;\n",
       "    }\n",
       "\n",
       "    .dataframe tbody tr th {\n",
       "        vertical-align: top;\n",
       "    }\n",
       "\n",
       "    .dataframe thead th {\n",
       "        text-align: right;\n",
       "    }\n",
       "</style>\n",
       "<table border=\"1\" class=\"dataframe\">\n",
       "  <thead>\n",
       "    <tr style=\"text-align: right;\">\n",
       "      <th></th>\n",
       "      <th>beer_beerid</th>\n",
       "    </tr>\n",
       "  </thead>\n",
       "  <tbody>\n",
       "    <tr>\n",
       "      <th>2093</th>\n",
       "      <td>977</td>\n",
       "    </tr>\n",
       "    <tr>\n",
       "      <th>412</th>\n",
       "      <td>966</td>\n",
       "    </tr>\n",
       "    <tr>\n",
       "      <th>1904</th>\n",
       "      <td>902</td>\n",
       "    </tr>\n",
       "    <tr>\n",
       "      <th>1093</th>\n",
       "      <td>840</td>\n",
       "    </tr>\n",
       "    <tr>\n",
       "      <th>92</th>\n",
       "      <td>812</td>\n",
       "    </tr>\n",
       "    <tr>\n",
       "      <th>...</th>\n",
       "      <td>...</td>\n",
       "    </tr>\n",
       "    <tr>\n",
       "      <th>31461</th>\n",
       "      <td>1</td>\n",
       "    </tr>\n",
       "    <tr>\n",
       "      <th>53362</th>\n",
       "      <td>1</td>\n",
       "    </tr>\n",
       "    <tr>\n",
       "      <th>57460</th>\n",
       "      <td>1</td>\n",
       "    </tr>\n",
       "    <tr>\n",
       "      <th>42666</th>\n",
       "      <td>1</td>\n",
       "    </tr>\n",
       "    <tr>\n",
       "      <th>69794</th>\n",
       "      <td>1</td>\n",
       "    </tr>\n",
       "  </tbody>\n",
       "</table>\n",
       "<p>40304 rows × 1 columns</p>\n",
       "</div>"
      ],
      "text/plain": [
       "       beer_beerid\n",
       "2093           977\n",
       "412            966\n",
       "1904           902\n",
       "1093           840\n",
       "92             812\n",
       "...            ...\n",
       "31461            1\n",
       "53362            1\n",
       "57460            1\n",
       "42666            1\n",
       "69794            1\n",
       "\n",
       "[40304 rows x 1 columns]"
      ]
     },
     "execution_count": 11,
     "metadata": {},
     "output_type": "execute_result"
    }
   ],
   "source": [
    "average_reviews=pd.DataFrame(beer.beer_beerid.value_counts(sort=True))\n",
    "average_reviews"
   ]
  },
  {
   "cell_type": "markdown",
   "metadata": {},
   "source": [
    "There are a varied number of ratings for each beer id the highest is for the id 2093 with 977 reviewws and the lowest number of reviews is 1 for few beer ids.The lowest number in the subsequent steps"
   ]
  },
  {
   "cell_type": "code",
   "execution_count": 12,
   "metadata": {},
   "outputs": [
    {
     "data": {
      "text/plain": [
       "Text(0.5, 0, 'number of reviews')"
      ]
     },
     "execution_count": 12,
     "metadata": {},
     "output_type": "execute_result"
    },
    {
     "data": {
      "image/png": "[encoded data removed]",
      "text/plain": [
       "<Figure size 432x288 with 1 Axes>"
      ]
     },
     "metadata": {
      "needs_background": "light"
     },
     "output_type": "display_data"
    }
   ],
   "source": [
    "#plotting a graph\n",
    "average_reviews.plot.hist(bins=10)\n",
    "plt.xlabel('number of reviews')"
   ]
  },
  {
   "cell_type": "markdown",
   "metadata": {},
   "source": [
    "A number of reviews are found to be between 0 to 200"
   ]
  },
  {
   "cell_type": "code",
   "execution_count": 13,
   "metadata": {},
   "outputs": [
    {
     "data": {
      "text/html": [
       "<div>\n",
       "<style scoped>\n",
       "    .dataframe tbody tr th:only-of-type {\n",
       "        vertical-align: middle;\n",
       "    }\n",
       "\n",
       "    .dataframe tbody tr th {\n",
       "        vertical-align: top;\n",
       "    }\n",
       "\n",
       "    .dataframe thead th {\n",
       "        text-align: right;\n",
       "    }\n",
       "</style>\n",
       "<table border=\"1\" class=\"dataframe\">\n",
       "  <thead>\n",
       "    <tr style=\"text-align: right;\">\n",
       "      <th></th>\n",
       "      <th>beer_beerid</th>\n",
       "    </tr>\n",
       "  </thead>\n",
       "  <tbody>\n",
       "    <tr>\n",
       "      <th>2093</th>\n",
       "      <td>977.0</td>\n",
       "    </tr>\n",
       "    <tr>\n",
       "      <th>412</th>\n",
       "      <td>966.0</td>\n",
       "    </tr>\n",
       "    <tr>\n",
       "      <th>1904</th>\n",
       "      <td>902.0</td>\n",
       "    </tr>\n",
       "    <tr>\n",
       "      <th>1093</th>\n",
       "      <td>840.0</td>\n",
       "    </tr>\n",
       "    <tr>\n",
       "      <th>92</th>\n",
       "      <td>812.0</td>\n",
       "    </tr>\n",
       "    <tr>\n",
       "      <th>...</th>\n",
       "      <td>...</td>\n",
       "    </tr>\n",
       "    <tr>\n",
       "      <th>72138</th>\n",
       "      <td>201.0</td>\n",
       "    </tr>\n",
       "    <tr>\n",
       "      <th>47360</th>\n",
       "      <td>201.0</td>\n",
       "    </tr>\n",
       "    <tr>\n",
       "      <th>50697</th>\n",
       "      <td>201.0</td>\n",
       "    </tr>\n",
       "    <tr>\n",
       "      <th>1483</th>\n",
       "      <td>200.0</td>\n",
       "    </tr>\n",
       "    <tr>\n",
       "      <th>9873</th>\n",
       "      <td>200.0</td>\n",
       "    </tr>\n",
       "  </tbody>\n",
       "</table>\n",
       "<p>389 rows × 1 columns</p>\n",
       "</div>"
      ],
      "text/plain": [
       "       beer_beerid\n",
       "2093         977.0\n",
       "412          966.0\n",
       "1904         902.0\n",
       "1093         840.0\n",
       "92           812.0\n",
       "...            ...\n",
       "72138        201.0\n",
       "47360        201.0\n",
       "50697        201.0\n",
       "1483         200.0\n",
       "9873         200.0\n",
       "\n",
       "[389 rows x 1 columns]"
      ]
     },
     "execution_count": 13,
     "metadata": {},
     "output_type": "execute_result"
    }
   ],
   "source": [
    "#Checking Beerid which have recieved less than or equal 100 review\n",
    "reviews = pd.DataFrame(average_reviews[average_reviews>=200])\n",
    "reviews.dropna(axis=0,how='any')"
   ]
  },
  {
   "cell_type": "code",
   "execution_count": 14,
   "metadata": {},
   "outputs": [
    {
     "data": {
      "text/plain": [
       "Text(0.5, 0, 'number of reviews')"
      ]
     },
     "execution_count": 14,
     "metadata": {},
     "output_type": "execute_result"
    },
    {
     "data": {
      "image/png": "[encoded data removed]",
      "text/plain": [
       "<Figure size 432x288 with 1 Axes>"
      ]
     },
     "metadata": {
      "needs_background": "light"
     },
     "output_type": "display_data"
    }
   ],
   "source": [
    "### plotting a histogram with the new filtered values\n",
    "reviews.plot.hist(bins=10)\n",
    "plt.xlabel('number of reviews')"
   ]
  },
  {
   "cell_type": "markdown",
   "metadata": {},
   "source": [
    "The above graph indicates the frequency distribution of number of reviews"
   ]
  },
  {
   "cell_type": "code",
   "execution_count": 15,
   "metadata": {},
   "outputs": [
    {
     "data": {
      "text/plain": [
       "Text(0.5, 0, 'number of reviews')"
      ]
     },
     "execution_count": 15,
     "metadata": {},
     "output_type": "execute_result"
    },
    {
     "data": {
      "image/png": "[encoded data removed]",
      "text/plain": [
       "<Figure size 432x288 with 1 Axes>"
      ]
     },
     "metadata": {
      "needs_background": "light"
     },
     "output_type": "display_data"
    }
   ],
   "source": [
    "reviews_less=pd.DataFrame(average_reviews[average_reviews<200])\n",
    "reviews_less.dropna(axis=0,how='any')\n",
    "### plotting a histogram with the new filtered values\n",
    "reviews_less.plot.hist(bins=10)\n",
    "plt.xlabel('number of reviews')"
   ]
  },
  {
   "cell_type": "markdown",
   "metadata": {},
   "source": [
    "The above histogram indicates that a number of reviews are greater than 75 hence fitlering the dataframe with reviews greater than 75 "
   ]
  },
  {
   "cell_type": "code",
   "execution_count": 16,
   "metadata": {},
   "outputs": [
    {
     "data": {
      "text/plain": [
       "beer_beerid    18080.0\n",
       "dtype: float64"
      ]
     },
     "execution_count": 16,
     "metadata": {},
     "output_type": "execute_result"
    }
   ],
   "source": [
    "## counting the number of beerids with only one review\n",
    "average_reviews_one=average_reviews[average_reviews<=1]\n",
    "average_reviews_one=average_reviews_one.dropna()\n",
    "average_reviews_one.sum()"
   ]
  },
  {
   "cell_type": "markdown",
   "metadata": {},
   "source": [
    "There are nearly 18080 beerids with one review"
   ]
  },
  {
   "cell_type": "code",
   "execution_count": 17,
   "metadata": {},
   "outputs": [
    {
     "name": "stdout",
     "output_type": "stream",
     "text": [
      "beer_beerid       40304\n",
      "review_overall    40304\n",
      "dtype: int64\n",
      "<class 'pandas.core.frame.DataFrame'>\n",
      "Int64Index: 2499 entries, 1574 to 34210\n",
      "Data columns (total 2 columns):\n",
      " #   Column          Non-Null Count  Dtype\n",
      "---  ------          --------------  -----\n",
      " 0   beer_beerid     2499 non-null   int64\n",
      " 1   review_overall  2499 non-null   int64\n",
      "dtypes: int64(2)\n",
      "memory usage: 58.6 KB\n"
     ]
    }
   ],
   "source": [
    "#counting the number of values and filtering the fateatrame with more thant 40 reviews\n",
    "beers_new = beer.groupby('beer_beerid')['review_overall'].count().reset_index()\n",
    "print(beers_new.count())\n",
    "beers_new = beers_new.sort_values('review_overall', ascending=False)\n",
    "beers_new= beers_new[beers_new.review_overall >= 40]\n",
    "beers_new.info()"
   ]
  },
  {
   "cell_type": "markdown",
   "metadata": {},
   "source": [
    "### Finding the optimal number based on the user reviews"
   ]
  },
  {
   "cell_type": "code",
   "execution_count": 18,
   "metadata": {},
   "outputs": [
    {
     "data": {
      "text/plain": [
       "Text(0.5, 0, 'number of reviews')"
      ]
     },
     "execution_count": 18,
     "metadata": {},
     "output_type": "execute_result"
    },
    {
     "data": {
      "image/png": "[encoded data removed]",
      "text/plain": [
       "<Figure size 432x288 with 1 Axes>"
      ]
     },
     "metadata": {
      "needs_background": "light"
     },
     "output_type": "display_data"
    }
   ],
   "source": [
    "average_users = pd.DataFrame(beer.review_profilename.value_counts(sort=True))\n",
    "#plotting a graph\n",
    "average_users.plot.hist(bins=10)\n",
    "plt.xlabel('number of reviews')"
   ]
  },
  {
   "cell_type": "code",
   "execution_count": 19,
   "metadata": {},
   "outputs": [
    {
     "data": {
      "text/plain": [
       "Text(0.5, 0, 'number of reviews')"
      ]
     },
     "execution_count": 19,
     "metadata": {},
     "output_type": "execute_result"
    },
    {
     "data": {
      "image/png": "[encoded data removed]",
      "text/plain": [
       "<Figure size 432x288 with 1 Axes>"
      ]
     },
     "metadata": {
      "needs_background": "light"
     },
     "output_type": "display_data"
    }
   ],
   "source": [
    "user_reviews = average_users[average_users>=200]\n",
    "user_reviews=user_reviews.dropna(axis=0,how='any')\n",
    "user_reviews.plot.hist(bins=10)\n",
    "plt.xlabel('number of reviews')"
   ]
  },
  {
   "cell_type": "code",
   "execution_count": 20,
   "metadata": {},
   "outputs": [
    {
     "data": {
      "text/plain": [
       "Text(0.5, 0, 'number of reviews')"
      ]
     },
     "execution_count": 20,
     "metadata": {},
     "output_type": "execute_result"
    },
    {
     "data": {
      "image/png": "[encoded data removed]",
      "text/plain": [
       "<Figure size 432x288 with 1 Axes>"
      ]
     },
     "metadata": {
      "needs_background": "light"
     },
     "output_type": "display_data"
    }
   ],
   "source": [
    "user_reviews_less = average_users[average_users<=200]\n",
    "user_reviews=user_reviews_less.dropna(axis=0,how='any')\n",
    "user_reviews_less.plot.hist(bins=10)\n",
    "plt.xlabel('number of reviews')"
   ]
  },
  {
   "cell_type": "code",
   "execution_count": 21,
   "metadata": {},
   "outputs": [
    {
     "data": {
      "text/plain": [
       "review_profilename    7977.0\n",
       "dtype: float64"
      ]
     },
     "execution_count": 21,
     "metadata": {},
     "output_type": "execute_result"
    }
   ],
   "source": [
    "average_users_one=average_users[average_users<=1]\n",
    "average_users_one=average_users_one.dropna()\n",
    "average_users_one.sum()"
   ]
  },
  {
   "cell_type": "markdown",
   "metadata": {},
   "source": [
    "There are 7977 profiles with one review"
   ]
  },
  {
   "cell_type": "code",
   "execution_count": 22,
   "metadata": {},
   "outputs": [
    {
     "data": {
      "text/html": [
       "<div>\n",
       "<style scoped>\n",
       "    .dataframe tbody tr th:only-of-type {\n",
       "        vertical-align: middle;\n",
       "    }\n",
       "\n",
       "    .dataframe tbody tr th {\n",
       "        vertical-align: top;\n",
       "    }\n",
       "\n",
       "    .dataframe thead th {\n",
       "        text-align: right;\n",
       "    }\n",
       "</style>\n",
       "<table border=\"1\" class=\"dataframe\">\n",
       "  <thead>\n",
       "    <tr style=\"text-align: right;\">\n",
       "      <th></th>\n",
       "      <th>review_profilename</th>\n",
       "      <th>review_overall</th>\n",
       "    </tr>\n",
       "  </thead>\n",
       "  <tbody>\n",
       "    <tr>\n",
       "      <th>18188</th>\n",
       "      <td>northyorksammy</td>\n",
       "      <td>1842</td>\n",
       "    </tr>\n",
       "    <tr>\n",
       "      <th>17373</th>\n",
       "      <td>mikesgroove</td>\n",
       "      <td>1373</td>\n",
       "    </tr>\n",
       "    <tr>\n",
       "      <th>1629</th>\n",
       "      <td>BuckeyeNation</td>\n",
       "      <td>1336</td>\n",
       "    </tr>\n",
       "    <tr>\n",
       "      <th>8470</th>\n",
       "      <td>Thorpe429</td>\n",
       "      <td>1072</td>\n",
       "    </tr>\n",
       "    <tr>\n",
       "      <th>1910</th>\n",
       "      <td>ChainGangGuy</td>\n",
       "      <td>1046</td>\n",
       "    </tr>\n",
       "  </tbody>\n",
       "</table>\n",
       "</div>"
      ],
      "text/plain": [
       "      review_profilename  review_overall\n",
       "18188     northyorksammy            1842\n",
       "17373        mikesgroove            1373\n",
       "1629       BuckeyeNation            1336\n",
       "8470           Thorpe429            1072\n",
       "1910        ChainGangGuy            1046"
      ]
     },
     "execution_count": 22,
     "metadata": {},
     "output_type": "execute_result"
    }
   ],
   "source": [
    "users = beer.groupby('review_profilename')['review_overall'].count().reset_index()\n",
    "users= users[users.review_overall >= 50]\n",
    "users = users.sort_values('review_overall', ascending=False)\n",
    "users.head(5)"
   ]
  },
  {
   "cell_type": "markdown",
   "metadata": {},
   "source": [
    "Filtering the reviews with values greater than fifty as a larger number of reviews are greater than fifty and merging these dataframes would provide us with the optimal values"
   ]
  },
  {
   "cell_type": "code",
   "execution_count": 23,
   "metadata": {},
   "outputs": [
    {
     "data": {
      "text/html": [
       "<div>\n",
       "<style scoped>\n",
       "    .dataframe tbody tr th:only-of-type {\n",
       "        vertical-align: middle;\n",
       "    }\n",
       "\n",
       "    .dataframe tbody tr th {\n",
       "        vertical-align: top;\n",
       "    }\n",
       "\n",
       "    .dataframe thead th {\n",
       "        text-align: right;\n",
       "    }\n",
       "</style>\n",
       "<table border=\"1\" class=\"dataframe\">\n",
       "  <thead>\n",
       "    <tr style=\"text-align: right;\">\n",
       "      <th></th>\n",
       "      <th>index</th>\n",
       "      <th>beer_beerid</th>\n",
       "      <th>review_profilename</th>\n",
       "      <th>review_overall_x</th>\n",
       "      <th>review_overall_y</th>\n",
       "      <th>review_overall</th>\n",
       "    </tr>\n",
       "  </thead>\n",
       "  <tbody>\n",
       "    <tr>\n",
       "      <th>0</th>\n",
       "      <td>0</td>\n",
       "      <td>436</td>\n",
       "      <td>Brent</td>\n",
       "      <td>3.0</td>\n",
       "      <td>127</td>\n",
       "      <td>518</td>\n",
       "    </tr>\n",
       "    <tr>\n",
       "      <th>1</th>\n",
       "      <td>1</td>\n",
       "      <td>10784</td>\n",
       "      <td>Brent</td>\n",
       "      <td>4.0</td>\n",
       "      <td>119</td>\n",
       "      <td>518</td>\n",
       "    </tr>\n",
       "    <tr>\n",
       "      <th>2</th>\n",
       "      <td>2</td>\n",
       "      <td>16074</td>\n",
       "      <td>Brent</td>\n",
       "      <td>4.0</td>\n",
       "      <td>431</td>\n",
       "      <td>518</td>\n",
       "    </tr>\n",
       "    <tr>\n",
       "      <th>3</th>\n",
       "      <td>3</td>\n",
       "      <td>33644</td>\n",
       "      <td>Brent</td>\n",
       "      <td>4.0</td>\n",
       "      <td>261</td>\n",
       "      <td>518</td>\n",
       "    </tr>\n",
       "    <tr>\n",
       "      <th>4</th>\n",
       "      <td>4</td>\n",
       "      <td>1122</td>\n",
       "      <td>Brent</td>\n",
       "      <td>5.0</td>\n",
       "      <td>54</td>\n",
       "      <td>518</td>\n",
       "    </tr>\n",
       "    <tr>\n",
       "      <th>...</th>\n",
       "      <td>...</td>\n",
       "      <td>...</td>\n",
       "      <td>...</td>\n",
       "      <td>...</td>\n",
       "      <td>...</td>\n",
       "      <td>...</td>\n",
       "    </tr>\n",
       "    <tr>\n",
       "      <th>217552</th>\n",
       "      <td>217552</td>\n",
       "      <td>878</td>\n",
       "      <td>kmacphail</td>\n",
       "      <td>3.0</td>\n",
       "      <td>63</td>\n",
       "      <td>56</td>\n",
       "    </tr>\n",
       "    <tr>\n",
       "      <th>217553</th>\n",
       "      <td>217553</td>\n",
       "      <td>724</td>\n",
       "      <td>kmacphail</td>\n",
       "      <td>3.5</td>\n",
       "      <td>104</td>\n",
       "      <td>56</td>\n",
       "    </tr>\n",
       "    <tr>\n",
       "      <th>217554</th>\n",
       "      <td>217554</td>\n",
       "      <td>1826</td>\n",
       "      <td>kmacphail</td>\n",
       "      <td>5.0</td>\n",
       "      <td>113</td>\n",
       "      <td>56</td>\n",
       "    </tr>\n",
       "    <tr>\n",
       "      <th>217555</th>\n",
       "      <td>217555</td>\n",
       "      <td>401</td>\n",
       "      <td>kmacphail</td>\n",
       "      <td>4.5</td>\n",
       "      <td>63</td>\n",
       "      <td>56</td>\n",
       "    </tr>\n",
       "    <tr>\n",
       "      <th>217556</th>\n",
       "      <td>217556</td>\n",
       "      <td>875</td>\n",
       "      <td>kmacphail</td>\n",
       "      <td>4.5</td>\n",
       "      <td>199</td>\n",
       "      <td>56</td>\n",
       "    </tr>\n",
       "  </tbody>\n",
       "</table>\n",
       "<p>217557 rows × 6 columns</p>\n",
       "</div>"
      ],
      "text/plain": [
       "         index  beer_beerid review_profilename  review_overall_x  \\\n",
       "0            0          436              Brent               3.0   \n",
       "1            1        10784              Brent               4.0   \n",
       "2            2        16074              Brent               4.0   \n",
       "3            3        33644              Brent               4.0   \n",
       "4            4         1122              Brent               5.0   \n",
       "...        ...          ...                ...               ...   \n",
       "217552  217552          878          kmacphail               3.0   \n",
       "217553  217553          724          kmacphail               3.5   \n",
       "217554  217554         1826          kmacphail               5.0   \n",
       "217555  217555          401          kmacphail               4.5   \n",
       "217556  217556          875          kmacphail               4.5   \n",
       "\n",
       "        review_overall_y  review_overall  \n",
       "0                    127             518  \n",
       "1                    119             518  \n",
       "2                    431             518  \n",
       "3                    261             518  \n",
       "4                     54             518  \n",
       "...                  ...             ...  \n",
       "217552                63              56  \n",
       "217553               104              56  \n",
       "217554               113              56  \n",
       "217555                63              56  \n",
       "217556               199              56  \n",
       "\n",
       "[217557 rows x 6 columns]"
      ]
     },
     "execution_count": 23,
     "metadata": {},
     "output_type": "execute_result"
    }
   ],
   "source": [
    "#Creating new Data Frame after applying filter \n",
    "beer_final= beer.merge(beers_new,how='inner',on='beer_beerid')\n",
    "beer_final = beer_final.merge(users,how='inner',on='review_profilename')\n",
    "beer_final=beer_final.reset_index()\n",
    "beer_final"
   ]
  },
  {
   "cell_type": "code",
   "execution_count": 24,
   "metadata": {},
   "outputs": [
    {
     "name": "stdout",
     "output_type": "stream",
     "text": [
      "<class 'pandas.core.frame.DataFrame'>\n",
      "RangeIndex: 217557 entries, 0 to 217556\n",
      "Data columns (total 6 columns):\n",
      " #   Column              Non-Null Count   Dtype  \n",
      "---  ------              --------------   -----  \n",
      " 0   index               217557 non-null  int64  \n",
      " 1   beer_beerid         217557 non-null  int64  \n",
      " 2   review_profilename  217557 non-null  object \n",
      " 3   reviews             217557 non-null  float64\n",
      " 4   beers_reviews       217557 non-null  int64  \n",
      " 5   users_reviews       217557 non-null  int64  \n",
      "dtypes: float64(1), int64(4), object(1)\n",
      "memory usage: 10.0+ MB\n"
     ]
    }
   ],
   "source": [
    "# renaming the values in the dataframe for better readability\n",
    "beer_final.rename(columns={'review_overall_x' : 'reviews','review_overall_y':'beers_reviews',\n",
    "                           'review_overall' : 'users_reviews'},    inplace = True)\n",
    "beer_final.info()"
   ]
  },
  {
   "cell_type": "markdown",
   "metadata": {},
   "source": [
    "The current dataframe has 21757 values and 6 columns.The beers with atleast  beer review >= 40 and user reviews >=50 bhas been chose for further data analysis."
   ]
  },
  {
   "cell_type": "markdown",
   "metadata": {},
   "source": [
    "## Data exploration\n",
    "\n",
    "The objectives of the current dataframe are as follows:\n",
    "\n",
    "1. To identify the unique values of ratings\n",
    "\n",
    "2. Visualise the rating values and notice: \n",
    "\n",
    "\n",
    "   a. The average beer ratings\n",
    "   b. The average user ratings\n",
    "   c. The average number of ratings given to the beers\n",
    "   d.The average number of ratings given by the users\n"
   ]
  },
  {
   "cell_type": "markdown",
   "metadata": {},
   "source": [
    "### Unique Values of the Ratings\n",
    "\n"
   ]
  },
  {
   "cell_type": "code",
   "execution_count": 25,
   "metadata": {},
   "outputs": [
    {
     "data": {
      "text/plain": [
       "4.0    83321\n",
       "4.5    47379\n",
       "3.5    41332\n",
       "3.0    20382\n",
       "5.0    11782\n",
       "2.5     6755\n",
       "2.0     4291\n",
       "1.5     1258\n",
       "1.0     1057\n",
       "Name: reviews, dtype: int64"
      ]
     },
     "execution_count": 25,
     "metadata": {},
     "output_type": "execute_result"
    }
   ],
   "source": [
    "a= beer_final.reviews.value_counts(sort=True)\n",
    "a"
   ]
  },
  {
   "cell_type": "code",
   "execution_count": 26,
   "metadata": {},
   "outputs": [
    {
     "data": {
      "text/plain": [
       "Text(0, 0.5, 'Number of Ratings')"
      ]
     },
     "execution_count": 26,
     "metadata": {},
     "output_type": "execute_result"
    },
    {
     "data": {
      "image/png": "[encoded data removed]",
      "text/plain": [
       "<Figure size 432x288 with 1 Axes>"
      ]
     },
     "metadata": {
      "needs_background": "light"
     },
     "output_type": "display_data"
    }
   ],
   "source": [
    "## visualing representing the number of ratings\n",
    "a.plot(kind='bar')\n",
    "plt.xlabel(\"Ratings\")\n",
    "plt.ylabel(\"Number of Ratings\")"
   ]
  },
  {
   "cell_type": "markdown",
   "metadata": {},
   "source": [
    "The above list indicates that there are a larger number of ratings with 4 followed by 4.5 and very few ratings with 1\n",
    "\n",
    "### Visualise the Rating values\n",
    "\n",
    "#### The average beer ratings "
   ]
  },
  {
   "cell_type": "code",
   "execution_count": 27,
   "metadata": {},
   "outputs": [
    {
     "data": {
      "text/html": [
       "<div>\n",
       "<style scoped>\n",
       "    .dataframe tbody tr th:only-of-type {\n",
       "        vertical-align: middle;\n",
       "    }\n",
       "\n",
       "    .dataframe tbody tr th {\n",
       "        vertical-align: top;\n",
       "    }\n",
       "\n",
       "    .dataframe thead th {\n",
       "        text-align: right;\n",
       "    }\n",
       "</style>\n",
       "<table border=\"1\" class=\"dataframe\">\n",
       "  <thead>\n",
       "    <tr style=\"text-align: right;\">\n",
       "      <th></th>\n",
       "      <th>beer_beerid</th>\n",
       "      <th>mean</th>\n",
       "    </tr>\n",
       "  </thead>\n",
       "  <tbody>\n",
       "    <tr>\n",
       "      <th>0</th>\n",
       "      <td>5</td>\n",
       "      <td>3.506173</td>\n",
       "    </tr>\n",
       "    <tr>\n",
       "      <th>1</th>\n",
       "      <td>6</td>\n",
       "      <td>3.700617</td>\n",
       "    </tr>\n",
       "    <tr>\n",
       "      <th>2</th>\n",
       "      <td>7</td>\n",
       "      <td>3.248000</td>\n",
       "    </tr>\n",
       "    <tr>\n",
       "      <th>3</th>\n",
       "      <td>10</td>\n",
       "      <td>3.855346</td>\n",
       "    </tr>\n",
       "    <tr>\n",
       "      <th>4</th>\n",
       "      <td>14</td>\n",
       "      <td>3.875000</td>\n",
       "    </tr>\n",
       "    <tr>\n",
       "      <th>...</th>\n",
       "      <td>...</td>\n",
       "      <td>...</td>\n",
       "    </tr>\n",
       "    <tr>\n",
       "      <th>2494</th>\n",
       "      <td>74530</td>\n",
       "      <td>4.000000</td>\n",
       "    </tr>\n",
       "    <tr>\n",
       "      <th>2495</th>\n",
       "      <td>74548</td>\n",
       "      <td>3.800000</td>\n",
       "    </tr>\n",
       "    <tr>\n",
       "      <th>2496</th>\n",
       "      <td>74579</td>\n",
       "      <td>3.697368</td>\n",
       "    </tr>\n",
       "    <tr>\n",
       "      <th>2497</th>\n",
       "      <td>74986</td>\n",
       "      <td>4.201299</td>\n",
       "    </tr>\n",
       "    <tr>\n",
       "      <th>2498</th>\n",
       "      <td>75086</td>\n",
       "      <td>3.646552</td>\n",
       "    </tr>\n",
       "  </tbody>\n",
       "</table>\n",
       "<p>2499 rows × 2 columns</p>\n",
       "</div>"
      ],
      "text/plain": [
       "      beer_beerid      mean\n",
       "0               5  3.506173\n",
       "1               6  3.700617\n",
       "2               7  3.248000\n",
       "3              10  3.855346\n",
       "4              14  3.875000\n",
       "...           ...       ...\n",
       "2494        74530  4.000000\n",
       "2495        74548  3.800000\n",
       "2496        74579  3.697368\n",
       "2497        74986  4.201299\n",
       "2498        75086  3.646552\n",
       "\n",
       "[2499 rows x 2 columns]"
      ]
     },
     "execution_count": 27,
     "metadata": {},
     "output_type": "execute_result"
    }
   ],
   "source": [
    "avg_bybeer=beer_final.groupby('beer_beerid')['reviews'].agg(['mean']).reset_index()\n",
    "avg_bybeer"
   ]
  },
  {
   "cell_type": "code",
   "execution_count": 28,
   "metadata": {},
   "outputs": [
    {
     "data": {
      "image/png": "[encoded data removed]",
      "text/plain": [
       "<Figure size 432x288 with 1 Axes>"
      ]
     },
     "metadata": {
      "needs_background": "light"
     },
     "output_type": "display_data"
    }
   ],
   "source": [
    "#plotting a graph\n",
    "plt.hist(avg_bybeer['mean'], bins=10)\n",
    "plt.grid(axis='x', alpha=0.50)\n",
    "plt.grid(axis='y', alpha=0.50)\n",
    "plt.xlabel('Average Rating')\n",
    "plt.ylabel('Number of Beers')\n",
    "plt.show()"
   ]
  },
  {
   "cell_type": "markdown",
   "metadata": {},
   "source": [
    "### The average user ratings"
   ]
  },
  {
   "cell_type": "code",
   "execution_count": 29,
   "metadata": {},
   "outputs": [
    {
     "data": {
      "text/html": [
       "<div>\n",
       "<style scoped>\n",
       "    .dataframe tbody tr th:only-of-type {\n",
       "        vertical-align: middle;\n",
       "    }\n",
       "\n",
       "    .dataframe tbody tr th {\n",
       "        vertical-align: top;\n",
       "    }\n",
       "\n",
       "    .dataframe thead th {\n",
       "        text-align: right;\n",
       "    }\n",
       "</style>\n",
       "<table border=\"1\" class=\"dataframe\">\n",
       "  <thead>\n",
       "    <tr style=\"text-align: right;\">\n",
       "      <th></th>\n",
       "      <th>review_profilename</th>\n",
       "      <th>mean</th>\n",
       "    </tr>\n",
       "  </thead>\n",
       "  <tbody>\n",
       "    <tr>\n",
       "      <th>0</th>\n",
       "      <td>1759Girl</td>\n",
       "      <td>3.682927</td>\n",
       "    </tr>\n",
       "    <tr>\n",
       "      <th>1</th>\n",
       "      <td>1fastz28</td>\n",
       "      <td>3.862745</td>\n",
       "    </tr>\n",
       "    <tr>\n",
       "      <th>2</th>\n",
       "      <td>3Vandoo</td>\n",
       "      <td>3.891304</td>\n",
       "    </tr>\n",
       "    <tr>\n",
       "      <th>3</th>\n",
       "      <td>4000qtrap</td>\n",
       "      <td>3.763158</td>\n",
       "    </tr>\n",
       "    <tr>\n",
       "      <th>4</th>\n",
       "      <td>4DAloveofSTOUT</td>\n",
       "      <td>4.000000</td>\n",
       "    </tr>\n",
       "    <tr>\n",
       "      <th>...</th>\n",
       "      <td>...</td>\n",
       "      <td>...</td>\n",
       "    </tr>\n",
       "    <tr>\n",
       "      <th>2181</th>\n",
       "      <td>zimm421</td>\n",
       "      <td>3.946429</td>\n",
       "    </tr>\n",
       "    <tr>\n",
       "      <th>2182</th>\n",
       "      <td>zoolzoo</td>\n",
       "      <td>3.666667</td>\n",
       "    </tr>\n",
       "    <tr>\n",
       "      <th>2183</th>\n",
       "      <td>zoso1967</td>\n",
       "      <td>3.969231</td>\n",
       "    </tr>\n",
       "    <tr>\n",
       "      <th>2184</th>\n",
       "      <td>zoso493</td>\n",
       "      <td>3.981132</td>\n",
       "    </tr>\n",
       "    <tr>\n",
       "      <th>2185</th>\n",
       "      <td>zrab11</td>\n",
       "      <td>3.957627</td>\n",
       "    </tr>\n",
       "  </tbody>\n",
       "</table>\n",
       "<p>2186 rows × 2 columns</p>\n",
       "</div>"
      ],
      "text/plain": [
       "     review_profilename      mean\n",
       "0              1759Girl  3.682927\n",
       "1              1fastz28  3.862745\n",
       "2               3Vandoo  3.891304\n",
       "3             4000qtrap  3.763158\n",
       "4        4DAloveofSTOUT  4.000000\n",
       "...                 ...       ...\n",
       "2181            zimm421  3.946429\n",
       "2182            zoolzoo  3.666667\n",
       "2183           zoso1967  3.969231\n",
       "2184            zoso493  3.981132\n",
       "2185             zrab11  3.957627\n",
       "\n",
       "[2186 rows x 2 columns]"
      ]
     },
     "execution_count": 29,
     "metadata": {},
     "output_type": "execute_result"
    }
   ],
   "source": [
    "#calcularing average user ratings\n",
    "avg_byuser=beer_final.groupby('review_profilename')['reviews'].agg(['mean']).reset_index()\n",
    "avg_byuser"
   ]
  },
  {
   "cell_type": "code",
   "execution_count": 30,
   "metadata": {},
   "outputs": [
    {
     "data": {
      "image/png": "[encoded data removed]",
      "text/plain": [
       "<Figure size 432x288 with 1 Axes>"
      ]
     },
     "metadata": {
      "needs_background": "light"
     },
     "output_type": "display_data"
    }
   ],
   "source": [
    "## plotting a graph to show the same\n",
    "plt.hist(avg_byuser['mean'], bins=10)\n",
    "plt.xlabel('Average Rating')\n",
    "plt.ylabel('Number of Beers')\n",
    "plt.show()"
   ]
  },
  {
   "cell_type": "markdown",
   "metadata": {},
   "source": [
    "### The average number of ratings given to the beers"
   ]
  },
  {
   "cell_type": "code",
   "execution_count": 31,
   "metadata": {},
   "outputs": [
    {
     "data": {
      "text/html": [
       "<div>\n",
       "<style scoped>\n",
       "    .dataframe tbody tr th:only-of-type {\n",
       "        vertical-align: middle;\n",
       "    }\n",
       "\n",
       "    .dataframe tbody tr th {\n",
       "        vertical-align: top;\n",
       "    }\n",
       "\n",
       "    .dataframe thead th {\n",
       "        text-align: right;\n",
       "    }\n",
       "</style>\n",
       "<table border=\"1\" class=\"dataframe\">\n",
       "  <thead>\n",
       "    <tr style=\"text-align: right;\">\n",
       "      <th></th>\n",
       "      <th>beer_beerid</th>\n",
       "      <th>mean</th>\n",
       "    </tr>\n",
       "  </thead>\n",
       "  <tbody>\n",
       "    <tr>\n",
       "      <th>0</th>\n",
       "      <td>5</td>\n",
       "      <td>113</td>\n",
       "    </tr>\n",
       "    <tr>\n",
       "      <th>1</th>\n",
       "      <td>6</td>\n",
       "      <td>253</td>\n",
       "    </tr>\n",
       "    <tr>\n",
       "      <th>2</th>\n",
       "      <td>7</td>\n",
       "      <td>205</td>\n",
       "    </tr>\n",
       "    <tr>\n",
       "      <th>3</th>\n",
       "      <td>10</td>\n",
       "      <td>218</td>\n",
       "    </tr>\n",
       "    <tr>\n",
       "      <th>4</th>\n",
       "      <td>14</td>\n",
       "      <td>59</td>\n",
       "    </tr>\n",
       "  </tbody>\n",
       "</table>\n",
       "</div>"
      ],
      "text/plain": [
       "   beer_beerid  mean\n",
       "0            5   113\n",
       "1            6   253\n",
       "2            7   205\n",
       "3           10   218\n",
       "4           14    59"
      ]
     },
     "execution_count": 31,
     "metadata": {},
     "output_type": "execute_result"
    }
   ],
   "source": [
    "beer_reviews = beer_final.groupby('beer_beerid')['beers_reviews'].agg(['mean']).reset_index()\n",
    "beer_reviews.head()"
   ]
  },
  {
   "cell_type": "code",
   "execution_count": 32,
   "metadata": {},
   "outputs": [
    {
     "data": {
      "image/png": "[encoded data removed]",
      "text/plain": [
       "<Figure size 432x288 with 1 Axes>"
      ]
     },
     "metadata": {
      "needs_background": "light"
     },
     "output_type": "display_data"
    }
   ],
   "source": [
    "## plotting a graph to show the same\n",
    "plt.hist(beer_reviews['mean'], bins=10)\n",
    "plt.xlabel('Average Rating')\n",
    "plt.ylabel('Number of Beers')\n",
    "plt.show()"
   ]
  },
  {
   "cell_type": "markdown",
   "metadata": {},
   "source": [
    "### The average number of ratings given by the users"
   ]
  },
  {
   "cell_type": "code",
   "execution_count": 33,
   "metadata": {},
   "outputs": [
    {
     "data": {
      "text/html": [
       "<div>\n",
       "<style scoped>\n",
       "    .dataframe tbody tr th:only-of-type {\n",
       "        vertical-align: middle;\n",
       "    }\n",
       "\n",
       "    .dataframe tbody tr th {\n",
       "        vertical-align: top;\n",
       "    }\n",
       "\n",
       "    .dataframe thead th {\n",
       "        text-align: right;\n",
       "    }\n",
       "</style>\n",
       "<table border=\"1\" class=\"dataframe\">\n",
       "  <thead>\n",
       "    <tr style=\"text-align: right;\">\n",
       "      <th></th>\n",
       "      <th>beer_beerid</th>\n",
       "      <th>mean</th>\n",
       "    </tr>\n",
       "  </thead>\n",
       "  <tbody>\n",
       "    <tr>\n",
       "      <th>0</th>\n",
       "      <td>5</td>\n",
       "      <td>277.234568</td>\n",
       "    </tr>\n",
       "    <tr>\n",
       "      <th>1</th>\n",
       "      <td>6</td>\n",
       "      <td>234.030864</td>\n",
       "    </tr>\n",
       "    <tr>\n",
       "      <th>2</th>\n",
       "      <td>7</td>\n",
       "      <td>240.408000</td>\n",
       "    </tr>\n",
       "    <tr>\n",
       "      <th>3</th>\n",
       "      <td>10</td>\n",
       "      <td>230.075472</td>\n",
       "    </tr>\n",
       "    <tr>\n",
       "      <th>4</th>\n",
       "      <td>14</td>\n",
       "      <td>340.583333</td>\n",
       "    </tr>\n",
       "  </tbody>\n",
       "</table>\n",
       "</div>"
      ],
      "text/plain": [
       "   beer_beerid        mean\n",
       "0            5  277.234568\n",
       "1            6  234.030864\n",
       "2            7  240.408000\n",
       "3           10  230.075472\n",
       "4           14  340.583333"
      ]
     },
     "execution_count": 33,
     "metadata": {},
     "output_type": "execute_result"
    }
   ],
   "source": [
    "user_reviews = beer_final.groupby('beer_beerid')['users_reviews'].agg(['mean']).reset_index()\n",
    "user_reviews.head()"
   ]
  },
  {
   "cell_type": "code",
   "execution_count": 34,
   "metadata": {},
   "outputs": [
    {
     "data": {
      "image/png": "[encoded data removed]",
      "text/plain": [
       "<Figure size 432x288 with 1 Axes>"
      ]
     },
     "metadata": {
      "needs_background": "light"
     },
     "output_type": "display_data"
    }
   ],
   "source": [
    "## plotting a graph to show the same\n",
    "plt.hist(user_reviews['mean'], bins=10)\n",
    "plt.xlabel('Average Rating')\n",
    "plt.ylabel('Number of Beers')\n",
    "plt.show()"
   ]
  },
  {
   "cell_type": "markdown",
   "metadata": {},
   "source": [
    "## Recommnedation System\n",
    "\n",
    "The different steps in the development of the recommendation system are as follows:\n",
    "1. Splitting the data\n",
    "2. Using similarity matrix/cosine simialrity\n",
    "3. Normalisation of the data\n",
    "4. Prediction\n",
    "5. Evaluation of the test \n",
    "6. Calculation of RMSE to identify the better fit\n",
    "\n",
    "### Splitting the Data"
   ]
  },
  {
   "cell_type": "code",
   "execution_count": 35,
   "metadata": {},
   "outputs": [
    {
     "name": "stdout",
     "output_type": "stream",
     "text": [
      "(152289, 6)\n",
      "(65268, 6)\n"
     ]
    }
   ],
   "source": [
    "from sklearn.model_selection import train_test_split\n",
    "train, test = train_test_split(beer_final, test_size=0.30, random_state=31)\n",
    "print(train.shape)\n",
    "print(test.shape)\n"
   ]
  },
  {
   "cell_type": "code",
   "execution_count": 36,
   "metadata": {},
   "outputs": [
    {
     "data": {
      "text/html": [
       "<div>\n",
       "<style scoped>\n",
       "    .dataframe tbody tr th:only-of-type {\n",
       "        vertical-align: middle;\n",
       "    }\n",
       "\n",
       "    .dataframe tbody tr th {\n",
       "        vertical-align: top;\n",
       "    }\n",
       "\n",
       "    .dataframe thead th {\n",
       "        text-align: right;\n",
       "    }\n",
       "</style>\n",
       "<table border=\"1\" class=\"dataframe\">\n",
       "  <thead>\n",
       "    <tr style=\"text-align: right;\">\n",
       "      <th>beer_beerid</th>\n",
       "      <th>5</th>\n",
       "      <th>6</th>\n",
       "      <th>7</th>\n",
       "      <th>10</th>\n",
       "      <th>14</th>\n",
       "      <th>15</th>\n",
       "      <th>17</th>\n",
       "      <th>19</th>\n",
       "      <th>30</th>\n",
       "      <th>31</th>\n",
       "      <th>...</th>\n",
       "      <th>74123</th>\n",
       "      <th>74272</th>\n",
       "      <th>74321</th>\n",
       "      <th>74323</th>\n",
       "      <th>74390</th>\n",
       "      <th>74530</th>\n",
       "      <th>74548</th>\n",
       "      <th>74579</th>\n",
       "      <th>74986</th>\n",
       "      <th>75086</th>\n",
       "    </tr>\n",
       "    <tr>\n",
       "      <th>review_profilename</th>\n",
       "      <th></th>\n",
       "      <th></th>\n",
       "      <th></th>\n",
       "      <th></th>\n",
       "      <th></th>\n",
       "      <th></th>\n",
       "      <th></th>\n",
       "      <th></th>\n",
       "      <th></th>\n",
       "      <th></th>\n",
       "      <th></th>\n",
       "      <th></th>\n",
       "      <th></th>\n",
       "      <th></th>\n",
       "      <th></th>\n",
       "      <th></th>\n",
       "      <th></th>\n",
       "      <th></th>\n",
       "      <th></th>\n",
       "      <th></th>\n",
       "      <th></th>\n",
       "    </tr>\n",
       "  </thead>\n",
       "  <tbody>\n",
       "    <tr>\n",
       "      <th>1759Girl</th>\n",
       "      <td>0.0</td>\n",
       "      <td>0.0</td>\n",
       "      <td>0.0</td>\n",
       "      <td>0.0</td>\n",
       "      <td>0.0</td>\n",
       "      <td>0.0</td>\n",
       "      <td>0.0</td>\n",
       "      <td>0.0</td>\n",
       "      <td>0.0</td>\n",
       "      <td>0.0</td>\n",
       "      <td>...</td>\n",
       "      <td>0.0</td>\n",
       "      <td>0.0</td>\n",
       "      <td>0.0</td>\n",
       "      <td>0.0</td>\n",
       "      <td>0.0</td>\n",
       "      <td>0.0</td>\n",
       "      <td>0.0</td>\n",
       "      <td>0.0</td>\n",
       "      <td>0.0</td>\n",
       "      <td>0.0</td>\n",
       "    </tr>\n",
       "    <tr>\n",
       "      <th>1fastz28</th>\n",
       "      <td>0.0</td>\n",
       "      <td>3.5</td>\n",
       "      <td>0.0</td>\n",
       "      <td>4.0</td>\n",
       "      <td>0.0</td>\n",
       "      <td>0.0</td>\n",
       "      <td>0.0</td>\n",
       "      <td>0.0</td>\n",
       "      <td>0.0</td>\n",
       "      <td>0.0</td>\n",
       "      <td>...</td>\n",
       "      <td>3.5</td>\n",
       "      <td>0.0</td>\n",
       "      <td>0.0</td>\n",
       "      <td>0.0</td>\n",
       "      <td>0.0</td>\n",
       "      <td>0.0</td>\n",
       "      <td>0.0</td>\n",
       "      <td>0.0</td>\n",
       "      <td>0.0</td>\n",
       "      <td>0.0</td>\n",
       "    </tr>\n",
       "    <tr>\n",
       "      <th>3Vandoo</th>\n",
       "      <td>0.0</td>\n",
       "      <td>0.0</td>\n",
       "      <td>0.0</td>\n",
       "      <td>0.0</td>\n",
       "      <td>0.0</td>\n",
       "      <td>0.0</td>\n",
       "      <td>0.0</td>\n",
       "      <td>0.0</td>\n",
       "      <td>0.0</td>\n",
       "      <td>0.0</td>\n",
       "      <td>...</td>\n",
       "      <td>0.0</td>\n",
       "      <td>0.0</td>\n",
       "      <td>0.0</td>\n",
       "      <td>0.0</td>\n",
       "      <td>0.0</td>\n",
       "      <td>0.0</td>\n",
       "      <td>0.0</td>\n",
       "      <td>0.0</td>\n",
       "      <td>0.0</td>\n",
       "      <td>0.0</td>\n",
       "    </tr>\n",
       "    <tr>\n",
       "      <th>4000qtrap</th>\n",
       "      <td>0.0</td>\n",
       "      <td>0.0</td>\n",
       "      <td>0.0</td>\n",
       "      <td>0.0</td>\n",
       "      <td>0.0</td>\n",
       "      <td>0.0</td>\n",
       "      <td>0.0</td>\n",
       "      <td>0.0</td>\n",
       "      <td>0.0</td>\n",
       "      <td>0.0</td>\n",
       "      <td>...</td>\n",
       "      <td>0.0</td>\n",
       "      <td>0.0</td>\n",
       "      <td>0.0</td>\n",
       "      <td>0.0</td>\n",
       "      <td>0.0</td>\n",
       "      <td>0.0</td>\n",
       "      <td>0.0</td>\n",
       "      <td>0.0</td>\n",
       "      <td>4.5</td>\n",
       "      <td>0.0</td>\n",
       "    </tr>\n",
       "    <tr>\n",
       "      <th>4DAloveofSTOUT</th>\n",
       "      <td>0.0</td>\n",
       "      <td>0.0</td>\n",
       "      <td>0.0</td>\n",
       "      <td>0.0</td>\n",
       "      <td>0.0</td>\n",
       "      <td>0.0</td>\n",
       "      <td>0.0</td>\n",
       "      <td>0.0</td>\n",
       "      <td>0.0</td>\n",
       "      <td>0.0</td>\n",
       "      <td>...</td>\n",
       "      <td>0.0</td>\n",
       "      <td>0.0</td>\n",
       "      <td>0.0</td>\n",
       "      <td>0.0</td>\n",
       "      <td>0.0</td>\n",
       "      <td>0.0</td>\n",
       "      <td>0.0</td>\n",
       "      <td>0.0</td>\n",
       "      <td>0.0</td>\n",
       "      <td>0.0</td>\n",
       "    </tr>\n",
       "  </tbody>\n",
       "</table>\n",
       "<p>5 rows × 2499 columns</p>\n",
       "</div>"
      ],
      "text/plain": [
       "beer_beerid         5      6      7      10     14     15     17     19     \\\n",
       "review_profilename                                                           \n",
       "1759Girl              0.0    0.0    0.0    0.0    0.0    0.0    0.0    0.0   \n",
       "1fastz28              0.0    3.5    0.0    4.0    0.0    0.0    0.0    0.0   \n",
       "3Vandoo               0.0    0.0    0.0    0.0    0.0    0.0    0.0    0.0   \n",
       "4000qtrap             0.0    0.0    0.0    0.0    0.0    0.0    0.0    0.0   \n",
       "4DAloveofSTOUT        0.0    0.0    0.0    0.0    0.0    0.0    0.0    0.0   \n",
       "\n",
       "beer_beerid         30     31     ...  74123  74272  74321  74323  74390  \\\n",
       "review_profilename                ...                                      \n",
       "1759Girl              0.0    0.0  ...    0.0    0.0    0.0    0.0    0.0   \n",
       "1fastz28              0.0    0.0  ...    3.5    0.0    0.0    0.0    0.0   \n",
       "3Vandoo               0.0    0.0  ...    0.0    0.0    0.0    0.0    0.0   \n",
       "4000qtrap             0.0    0.0  ...    0.0    0.0    0.0    0.0    0.0   \n",
       "4DAloveofSTOUT        0.0    0.0  ...    0.0    0.0    0.0    0.0    0.0   \n",
       "\n",
       "beer_beerid         74530  74548  74579  74986  75086  \n",
       "review_profilename                                     \n",
       "1759Girl              0.0    0.0    0.0    0.0    0.0  \n",
       "1fastz28              0.0    0.0    0.0    0.0    0.0  \n",
       "3Vandoo               0.0    0.0    0.0    0.0    0.0  \n",
       "4000qtrap             0.0    0.0    0.0    4.5    0.0  \n",
       "4DAloveofSTOUT        0.0    0.0    0.0    0.0    0.0  \n",
       "\n",
       "[5 rows x 2499 columns]"
      ]
     },
     "execution_count": 36,
     "metadata": {},
     "output_type": "execute_result"
    }
   ],
   "source": [
    "# pivoting features from the dataframe \n",
    "features_beer = train.pivot_table(index='review_profilename',columns='beer_beerid',values='reviews').fillna(0)\n",
    "features_beer.head()"
   ]
  },
  {
   "cell_type": "code",
   "execution_count": 37,
   "metadata": {},
   "outputs": [],
   "source": [
    "dummy_train = train.copy()\n",
    "dummy_test = test.copy()"
   ]
  },
  {
   "cell_type": "code",
   "execution_count": 38,
   "metadata": {},
   "outputs": [],
   "source": [
    "dummy_train['reviews'] = dummy_train['reviews'].apply(lambda x: 0 if x>=1 else 1)\n",
    "dummy_test['reviews'] = dummy_test['reviews'].apply(lambda x: 1 if x>=1 else 0)"
   ]
  },
  {
   "cell_type": "code",
   "execution_count": 39,
   "metadata": {},
   "outputs": [],
   "source": [
    "# The beers not rated by user is marked as 1 for prediction. \n",
    "dummy_train = dummy_train.pivot_table(index='review_profilename',columns='beer_beerid',values='reviews').fillna(1)\n",
    "# The beers not rated by user is marked as 0 for evaluation. \n",
    "dummy_test = dummy_test.pivot_table(index='review_profilename',columns='beer_beerid',values='reviews').fillna(0)"
   ]
  },
  {
   "cell_type": "code",
   "execution_count": 40,
   "metadata": {},
   "outputs": [
    {
     "data": {
      "text/html": [
       "<div>\n",
       "<style scoped>\n",
       "    .dataframe tbody tr th:only-of-type {\n",
       "        vertical-align: middle;\n",
       "    }\n",
       "\n",
       "    .dataframe tbody tr th {\n",
       "        vertical-align: top;\n",
       "    }\n",
       "\n",
       "    .dataframe thead th {\n",
       "        text-align: right;\n",
       "    }\n",
       "</style>\n",
       "<table border=\"1\" class=\"dataframe\">\n",
       "  <thead>\n",
       "    <tr style=\"text-align: right;\">\n",
       "      <th>beer_beerid</th>\n",
       "      <th>5</th>\n",
       "      <th>6</th>\n",
       "      <th>7</th>\n",
       "      <th>10</th>\n",
       "      <th>14</th>\n",
       "      <th>15</th>\n",
       "      <th>17</th>\n",
       "      <th>19</th>\n",
       "      <th>30</th>\n",
       "      <th>31</th>\n",
       "      <th>...</th>\n",
       "      <th>74123</th>\n",
       "      <th>74272</th>\n",
       "      <th>74321</th>\n",
       "      <th>74323</th>\n",
       "      <th>74390</th>\n",
       "      <th>74530</th>\n",
       "      <th>74548</th>\n",
       "      <th>74579</th>\n",
       "      <th>74986</th>\n",
       "      <th>75086</th>\n",
       "    </tr>\n",
       "    <tr>\n",
       "      <th>review_profilename</th>\n",
       "      <th></th>\n",
       "      <th></th>\n",
       "      <th></th>\n",
       "      <th></th>\n",
       "      <th></th>\n",
       "      <th></th>\n",
       "      <th></th>\n",
       "      <th></th>\n",
       "      <th></th>\n",
       "      <th></th>\n",
       "      <th></th>\n",
       "      <th></th>\n",
       "      <th></th>\n",
       "      <th></th>\n",
       "      <th></th>\n",
       "      <th></th>\n",
       "      <th></th>\n",
       "      <th></th>\n",
       "      <th></th>\n",
       "      <th></th>\n",
       "      <th></th>\n",
       "    </tr>\n",
       "  </thead>\n",
       "  <tbody>\n",
       "    <tr>\n",
       "      <th>1759Girl</th>\n",
       "      <td>1.0</td>\n",
       "      <td>1.0</td>\n",
       "      <td>1.0</td>\n",
       "      <td>1.0</td>\n",
       "      <td>1.0</td>\n",
       "      <td>1.0</td>\n",
       "      <td>1.0</td>\n",
       "      <td>1.0</td>\n",
       "      <td>1.0</td>\n",
       "      <td>1.0</td>\n",
       "      <td>...</td>\n",
       "      <td>1.0</td>\n",
       "      <td>1.0</td>\n",
       "      <td>1.0</td>\n",
       "      <td>1.0</td>\n",
       "      <td>1.0</td>\n",
       "      <td>1.0</td>\n",
       "      <td>1.0</td>\n",
       "      <td>1.0</td>\n",
       "      <td>1.0</td>\n",
       "      <td>1.0</td>\n",
       "    </tr>\n",
       "    <tr>\n",
       "      <th>1fastz28</th>\n",
       "      <td>1.0</td>\n",
       "      <td>0.0</td>\n",
       "      <td>1.0</td>\n",
       "      <td>0.0</td>\n",
       "      <td>1.0</td>\n",
       "      <td>1.0</td>\n",
       "      <td>1.0</td>\n",
       "      <td>1.0</td>\n",
       "      <td>1.0</td>\n",
       "      <td>1.0</td>\n",
       "      <td>...</td>\n",
       "      <td>0.0</td>\n",
       "      <td>1.0</td>\n",
       "      <td>1.0</td>\n",
       "      <td>1.0</td>\n",
       "      <td>1.0</td>\n",
       "      <td>1.0</td>\n",
       "      <td>1.0</td>\n",
       "      <td>1.0</td>\n",
       "      <td>1.0</td>\n",
       "      <td>1.0</td>\n",
       "    </tr>\n",
       "    <tr>\n",
       "      <th>3Vandoo</th>\n",
       "      <td>1.0</td>\n",
       "      <td>1.0</td>\n",
       "      <td>1.0</td>\n",
       "      <td>1.0</td>\n",
       "      <td>1.0</td>\n",
       "      <td>1.0</td>\n",
       "      <td>1.0</td>\n",
       "      <td>1.0</td>\n",
       "      <td>1.0</td>\n",
       "      <td>1.0</td>\n",
       "      <td>...</td>\n",
       "      <td>1.0</td>\n",
       "      <td>1.0</td>\n",
       "      <td>1.0</td>\n",
       "      <td>1.0</td>\n",
       "      <td>1.0</td>\n",
       "      <td>1.0</td>\n",
       "      <td>1.0</td>\n",
       "      <td>1.0</td>\n",
       "      <td>1.0</td>\n",
       "      <td>1.0</td>\n",
       "    </tr>\n",
       "    <tr>\n",
       "      <th>4000qtrap</th>\n",
       "      <td>1.0</td>\n",
       "      <td>1.0</td>\n",
       "      <td>1.0</td>\n",
       "      <td>1.0</td>\n",
       "      <td>1.0</td>\n",
       "      <td>1.0</td>\n",
       "      <td>1.0</td>\n",
       "      <td>1.0</td>\n",
       "      <td>1.0</td>\n",
       "      <td>1.0</td>\n",
       "      <td>...</td>\n",
       "      <td>1.0</td>\n",
       "      <td>1.0</td>\n",
       "      <td>1.0</td>\n",
       "      <td>1.0</td>\n",
       "      <td>1.0</td>\n",
       "      <td>1.0</td>\n",
       "      <td>1.0</td>\n",
       "      <td>1.0</td>\n",
       "      <td>0.0</td>\n",
       "      <td>1.0</td>\n",
       "    </tr>\n",
       "    <tr>\n",
       "      <th>4DAloveofSTOUT</th>\n",
       "      <td>1.0</td>\n",
       "      <td>1.0</td>\n",
       "      <td>1.0</td>\n",
       "      <td>1.0</td>\n",
       "      <td>1.0</td>\n",
       "      <td>1.0</td>\n",
       "      <td>1.0</td>\n",
       "      <td>1.0</td>\n",
       "      <td>1.0</td>\n",
       "      <td>1.0</td>\n",
       "      <td>...</td>\n",
       "      <td>1.0</td>\n",
       "      <td>1.0</td>\n",
       "      <td>1.0</td>\n",
       "      <td>1.0</td>\n",
       "      <td>1.0</td>\n",
       "      <td>1.0</td>\n",
       "      <td>1.0</td>\n",
       "      <td>1.0</td>\n",
       "      <td>1.0</td>\n",
       "      <td>1.0</td>\n",
       "    </tr>\n",
       "  </tbody>\n",
       "</table>\n",
       "<p>5 rows × 2499 columns</p>\n",
       "</div>"
      ],
      "text/plain": [
       "beer_beerid         5      6      7      10     14     15     17     19     \\\n",
       "review_profilename                                                           \n",
       "1759Girl              1.0    1.0    1.0    1.0    1.0    1.0    1.0    1.0   \n",
       "1fastz28              1.0    0.0    1.0    0.0    1.0    1.0    1.0    1.0   \n",
       "3Vandoo               1.0    1.0    1.0    1.0    1.0    1.0    1.0    1.0   \n",
       "4000qtrap             1.0    1.0    1.0    1.0    1.0    1.0    1.0    1.0   \n",
       "4DAloveofSTOUT        1.0    1.0    1.0    1.0    1.0    1.0    1.0    1.0   \n",
       "\n",
       "beer_beerid         30     31     ...  74123  74272  74321  74323  74390  \\\n",
       "review_profilename                ...                                      \n",
       "1759Girl              1.0    1.0  ...    1.0    1.0    1.0    1.0    1.0   \n",
       "1fastz28              1.0    1.0  ...    0.0    1.0    1.0    1.0    1.0   \n",
       "3Vandoo               1.0    1.0  ...    1.0    1.0    1.0    1.0    1.0   \n",
       "4000qtrap             1.0    1.0  ...    1.0    1.0    1.0    1.0    1.0   \n",
       "4DAloveofSTOUT        1.0    1.0  ...    1.0    1.0    1.0    1.0    1.0   \n",
       "\n",
       "beer_beerid         74530  74548  74579  74986  75086  \n",
       "review_profilename                                     \n",
       "1759Girl              1.0    1.0    1.0    1.0    1.0  \n",
       "1fastz28              1.0    1.0    1.0    1.0    1.0  \n",
       "3Vandoo               1.0    1.0    1.0    1.0    1.0  \n",
       "4000qtrap             1.0    1.0    1.0    0.0    1.0  \n",
       "4DAloveofSTOUT        1.0    1.0    1.0    1.0    1.0  \n",
       "\n",
       "[5 rows x 2499 columns]"
      ]
     },
     "execution_count": 40,
     "metadata": {},
     "output_type": "execute_result"
    }
   ],
   "source": [
    "dummy_train.head()"
   ]
  },
  {
   "cell_type": "code",
   "execution_count": 41,
   "metadata": {},
   "outputs": [
    {
     "data": {
      "text/html": [
       "<div>\n",
       "<style scoped>\n",
       "    .dataframe tbody tr th:only-of-type {\n",
       "        vertical-align: middle;\n",
       "    }\n",
       "\n",
       "    .dataframe tbody tr th {\n",
       "        vertical-align: top;\n",
       "    }\n",
       "\n",
       "    .dataframe thead th {\n",
       "        text-align: right;\n",
       "    }\n",
       "</style>\n",
       "<table border=\"1\" class=\"dataframe\">\n",
       "  <thead>\n",
       "    <tr style=\"text-align: right;\">\n",
       "      <th>beer_beerid</th>\n",
       "      <th>5</th>\n",
       "      <th>6</th>\n",
       "      <th>7</th>\n",
       "      <th>10</th>\n",
       "      <th>14</th>\n",
       "      <th>15</th>\n",
       "      <th>17</th>\n",
       "      <th>19</th>\n",
       "      <th>30</th>\n",
       "      <th>31</th>\n",
       "      <th>...</th>\n",
       "      <th>74123</th>\n",
       "      <th>74272</th>\n",
       "      <th>74321</th>\n",
       "      <th>74323</th>\n",
       "      <th>74390</th>\n",
       "      <th>74530</th>\n",
       "      <th>74548</th>\n",
       "      <th>74579</th>\n",
       "      <th>74986</th>\n",
       "      <th>75086</th>\n",
       "    </tr>\n",
       "    <tr>\n",
       "      <th>review_profilename</th>\n",
       "      <th></th>\n",
       "      <th></th>\n",
       "      <th></th>\n",
       "      <th></th>\n",
       "      <th></th>\n",
       "      <th></th>\n",
       "      <th></th>\n",
       "      <th></th>\n",
       "      <th></th>\n",
       "      <th></th>\n",
       "      <th></th>\n",
       "      <th></th>\n",
       "      <th></th>\n",
       "      <th></th>\n",
       "      <th></th>\n",
       "      <th></th>\n",
       "      <th></th>\n",
       "      <th></th>\n",
       "      <th></th>\n",
       "      <th></th>\n",
       "      <th></th>\n",
       "    </tr>\n",
       "  </thead>\n",
       "  <tbody>\n",
       "    <tr>\n",
       "      <th>1759Girl</th>\n",
       "      <td>0.0</td>\n",
       "      <td>0.0</td>\n",
       "      <td>0.0</td>\n",
       "      <td>0.0</td>\n",
       "      <td>0.0</td>\n",
       "      <td>0.0</td>\n",
       "      <td>0.0</td>\n",
       "      <td>0.0</td>\n",
       "      <td>0.0</td>\n",
       "      <td>0.0</td>\n",
       "      <td>...</td>\n",
       "      <td>0.0</td>\n",
       "      <td>0.0</td>\n",
       "      <td>0.0</td>\n",
       "      <td>0.0</td>\n",
       "      <td>0.0</td>\n",
       "      <td>0.0</td>\n",
       "      <td>0.0</td>\n",
       "      <td>0.0</td>\n",
       "      <td>0.0</td>\n",
       "      <td>0.0</td>\n",
       "    </tr>\n",
       "    <tr>\n",
       "      <th>1fastz28</th>\n",
       "      <td>0.0</td>\n",
       "      <td>0.0</td>\n",
       "      <td>0.0</td>\n",
       "      <td>0.0</td>\n",
       "      <td>0.0</td>\n",
       "      <td>0.0</td>\n",
       "      <td>0.0</td>\n",
       "      <td>0.0</td>\n",
       "      <td>0.0</td>\n",
       "      <td>0.0</td>\n",
       "      <td>...</td>\n",
       "      <td>0.0</td>\n",
       "      <td>0.0</td>\n",
       "      <td>0.0</td>\n",
       "      <td>0.0</td>\n",
       "      <td>0.0</td>\n",
       "      <td>0.0</td>\n",
       "      <td>0.0</td>\n",
       "      <td>0.0</td>\n",
       "      <td>0.0</td>\n",
       "      <td>0.0</td>\n",
       "    </tr>\n",
       "    <tr>\n",
       "      <th>3Vandoo</th>\n",
       "      <td>0.0</td>\n",
       "      <td>0.0</td>\n",
       "      <td>0.0</td>\n",
       "      <td>0.0</td>\n",
       "      <td>0.0</td>\n",
       "      <td>0.0</td>\n",
       "      <td>0.0</td>\n",
       "      <td>0.0</td>\n",
       "      <td>0.0</td>\n",
       "      <td>0.0</td>\n",
       "      <td>...</td>\n",
       "      <td>0.0</td>\n",
       "      <td>0.0</td>\n",
       "      <td>0.0</td>\n",
       "      <td>0.0</td>\n",
       "      <td>0.0</td>\n",
       "      <td>0.0</td>\n",
       "      <td>0.0</td>\n",
       "      <td>0.0</td>\n",
       "      <td>0.0</td>\n",
       "      <td>0.0</td>\n",
       "    </tr>\n",
       "    <tr>\n",
       "      <th>4000qtrap</th>\n",
       "      <td>0.0</td>\n",
       "      <td>0.0</td>\n",
       "      <td>0.0</td>\n",
       "      <td>0.0</td>\n",
       "      <td>0.0</td>\n",
       "      <td>0.0</td>\n",
       "      <td>0.0</td>\n",
       "      <td>0.0</td>\n",
       "      <td>0.0</td>\n",
       "      <td>0.0</td>\n",
       "      <td>...</td>\n",
       "      <td>0.0</td>\n",
       "      <td>0.0</td>\n",
       "      <td>0.0</td>\n",
       "      <td>0.0</td>\n",
       "      <td>0.0</td>\n",
       "      <td>0.0</td>\n",
       "      <td>0.0</td>\n",
       "      <td>0.0</td>\n",
       "      <td>0.0</td>\n",
       "      <td>0.0</td>\n",
       "    </tr>\n",
       "    <tr>\n",
       "      <th>4DAloveofSTOUT</th>\n",
       "      <td>0.0</td>\n",
       "      <td>0.0</td>\n",
       "      <td>0.0</td>\n",
       "      <td>0.0</td>\n",
       "      <td>0.0</td>\n",
       "      <td>0.0</td>\n",
       "      <td>0.0</td>\n",
       "      <td>0.0</td>\n",
       "      <td>0.0</td>\n",
       "      <td>0.0</td>\n",
       "      <td>...</td>\n",
       "      <td>0.0</td>\n",
       "      <td>0.0</td>\n",
       "      <td>0.0</td>\n",
       "      <td>0.0</td>\n",
       "      <td>0.0</td>\n",
       "      <td>0.0</td>\n",
       "      <td>0.0</td>\n",
       "      <td>0.0</td>\n",
       "      <td>0.0</td>\n",
       "      <td>0.0</td>\n",
       "    </tr>\n",
       "  </tbody>\n",
       "</table>\n",
       "<p>5 rows × 2499 columns</p>\n",
       "</div>"
      ],
      "text/plain": [
       "beer_beerid         5      6      7      10     14     15     17     19     \\\n",
       "review_profilename                                                           \n",
       "1759Girl              0.0    0.0    0.0    0.0    0.0    0.0    0.0    0.0   \n",
       "1fastz28              0.0    0.0    0.0    0.0    0.0    0.0    0.0    0.0   \n",
       "3Vandoo               0.0    0.0    0.0    0.0    0.0    0.0    0.0    0.0   \n",
       "4000qtrap             0.0    0.0    0.0    0.0    0.0    0.0    0.0    0.0   \n",
       "4DAloveofSTOUT        0.0    0.0    0.0    0.0    0.0    0.0    0.0    0.0   \n",
       "\n",
       "beer_beerid         30     31     ...  74123  74272  74321  74323  74390  \\\n",
       "review_profilename                ...                                      \n",
       "1759Girl              0.0    0.0  ...    0.0    0.0    0.0    0.0    0.0   \n",
       "1fastz28              0.0    0.0  ...    0.0    0.0    0.0    0.0    0.0   \n",
       "3Vandoo               0.0    0.0  ...    0.0    0.0    0.0    0.0    0.0   \n",
       "4000qtrap             0.0    0.0  ...    0.0    0.0    0.0    0.0    0.0   \n",
       "4DAloveofSTOUT        0.0    0.0  ...    0.0    0.0    0.0    0.0    0.0   \n",
       "\n",
       "beer_beerid         74530  74548  74579  74986  75086  \n",
       "review_profilename                                     \n",
       "1759Girl              0.0    0.0    0.0    0.0    0.0  \n",
       "1fastz28              0.0    0.0    0.0    0.0    0.0  \n",
       "3Vandoo               0.0    0.0    0.0    0.0    0.0  \n",
       "4000qtrap             0.0    0.0    0.0    0.0    0.0  \n",
       "4DAloveofSTOUT        0.0    0.0    0.0    0.0    0.0  \n",
       "\n",
       "[5 rows x 2499 columns]"
      ]
     },
     "execution_count": 41,
     "metadata": {},
     "output_type": "execute_result"
    }
   ],
   "source": [
    "dummy_test.head()"
   ]
  },
  {
   "cell_type": "markdown",
   "metadata": {},
   "source": [
    "### Using Similarity Matrix\n",
    "\n",
    "#### Using Cosine Similarity"
   ]
  },
  {
   "cell_type": "code",
   "execution_count": 42,
   "metadata": {},
   "outputs": [
    {
     "data": {
      "text/plain": [
       "array([[1.        , 0.02450219, 0.0115569 , ..., 0.0149272 , 0.        ,\n",
       "        0.03581032],\n",
       "       [0.02450219, 1.        , 0.04140889, ..., 0.1004938 , 0.13626082,\n",
       "        0.04448299],\n",
       "       [0.0115569 , 0.04140889, 1.        , ..., 0.02145559, 0.        ,\n",
       "        0.0867397 ],\n",
       "       ...,\n",
       "       [0.0149272 , 0.1004938 , 0.02145559, ..., 1.        , 0.06799455,\n",
       "        0.08130767],\n",
       "       [0.        , 0.13626082, 0.        , ..., 0.06799455, 1.        ,\n",
       "        0.02010772],\n",
       "       [0.03581032, 0.04448299, 0.0867397 , ..., 0.08130767, 0.02010772,\n",
       "        1.        ]])"
      ]
     },
     "execution_count": 42,
     "metadata": {},
     "output_type": "execute_result"
    }
   ],
   "source": [
    "from sklearn.metrics.pairwise import pairwise_distances\n",
    "# User Similarity Matrix\n",
    "user_correlation = 1 - pairwise_distances(features_beer, metric='cosine')\n",
    "user_correlation"
   ]
  },
  {
   "cell_type": "code",
   "execution_count": 43,
   "metadata": {},
   "outputs": [
    {
     "data": {
      "text/plain": [
       "(2186, 2186)"
      ]
     },
     "execution_count": 43,
     "metadata": {},
     "output_type": "execute_result"
    }
   ],
   "source": [
    "## reading the shape of the similarity matrix\n",
    "user_correlation.shape"
   ]
  },
  {
   "cell_type": "markdown",
   "metadata": {},
   "source": [
    "### Using adjusted Cosine"
   ]
  },
  {
   "cell_type": "code",
   "execution_count": 44,
   "metadata": {},
   "outputs": [
    {
     "data": {
      "text/html": [
       "<div>\n",
       "<style scoped>\n",
       "    .dataframe tbody tr th:only-of-type {\n",
       "        vertical-align: middle;\n",
       "    }\n",
       "\n",
       "    .dataframe tbody tr th {\n",
       "        vertical-align: top;\n",
       "    }\n",
       "\n",
       "    .dataframe thead th {\n",
       "        text-align: right;\n",
       "    }\n",
       "</style>\n",
       "<table border=\"1\" class=\"dataframe\">\n",
       "  <thead>\n",
       "    <tr style=\"text-align: right;\">\n",
       "      <th>beer_beerid</th>\n",
       "      <th>5</th>\n",
       "      <th>6</th>\n",
       "      <th>7</th>\n",
       "      <th>10</th>\n",
       "      <th>14</th>\n",
       "      <th>15</th>\n",
       "      <th>17</th>\n",
       "      <th>19</th>\n",
       "      <th>30</th>\n",
       "      <th>31</th>\n",
       "      <th>...</th>\n",
       "      <th>74123</th>\n",
       "      <th>74272</th>\n",
       "      <th>74321</th>\n",
       "      <th>74323</th>\n",
       "      <th>74390</th>\n",
       "      <th>74530</th>\n",
       "      <th>74548</th>\n",
       "      <th>74579</th>\n",
       "      <th>74986</th>\n",
       "      <th>75086</th>\n",
       "    </tr>\n",
       "    <tr>\n",
       "      <th>review_profilename</th>\n",
       "      <th></th>\n",
       "      <th></th>\n",
       "      <th></th>\n",
       "      <th></th>\n",
       "      <th></th>\n",
       "      <th></th>\n",
       "      <th></th>\n",
       "      <th></th>\n",
       "      <th></th>\n",
       "      <th></th>\n",
       "      <th></th>\n",
       "      <th></th>\n",
       "      <th></th>\n",
       "      <th></th>\n",
       "      <th></th>\n",
       "      <th></th>\n",
       "      <th></th>\n",
       "      <th></th>\n",
       "      <th></th>\n",
       "      <th></th>\n",
       "      <th></th>\n",
       "    </tr>\n",
       "  </thead>\n",
       "  <tbody>\n",
       "    <tr>\n",
       "      <th>1759Girl</th>\n",
       "      <td>NaN</td>\n",
       "      <td>NaN</td>\n",
       "      <td>NaN</td>\n",
       "      <td>NaN</td>\n",
       "      <td>NaN</td>\n",
       "      <td>NaN</td>\n",
       "      <td>NaN</td>\n",
       "      <td>NaN</td>\n",
       "      <td>NaN</td>\n",
       "      <td>NaN</td>\n",
       "      <td>...</td>\n",
       "      <td>NaN</td>\n",
       "      <td>NaN</td>\n",
       "      <td>NaN</td>\n",
       "      <td>NaN</td>\n",
       "      <td>NaN</td>\n",
       "      <td>NaN</td>\n",
       "      <td>NaN</td>\n",
       "      <td>NaN</td>\n",
       "      <td>NaN</td>\n",
       "      <td>NaN</td>\n",
       "    </tr>\n",
       "    <tr>\n",
       "      <th>1fastz28</th>\n",
       "      <td>NaN</td>\n",
       "      <td>3.5</td>\n",
       "      <td>NaN</td>\n",
       "      <td>4.0</td>\n",
       "      <td>NaN</td>\n",
       "      <td>NaN</td>\n",
       "      <td>NaN</td>\n",
       "      <td>NaN</td>\n",
       "      <td>NaN</td>\n",
       "      <td>NaN</td>\n",
       "      <td>...</td>\n",
       "      <td>3.5</td>\n",
       "      <td>NaN</td>\n",
       "      <td>NaN</td>\n",
       "      <td>NaN</td>\n",
       "      <td>NaN</td>\n",
       "      <td>NaN</td>\n",
       "      <td>NaN</td>\n",
       "      <td>NaN</td>\n",
       "      <td>NaN</td>\n",
       "      <td>NaN</td>\n",
       "    </tr>\n",
       "    <tr>\n",
       "      <th>3Vandoo</th>\n",
       "      <td>NaN</td>\n",
       "      <td>NaN</td>\n",
       "      <td>NaN</td>\n",
       "      <td>NaN</td>\n",
       "      <td>NaN</td>\n",
       "      <td>NaN</td>\n",
       "      <td>NaN</td>\n",
       "      <td>NaN</td>\n",
       "      <td>NaN</td>\n",
       "      <td>NaN</td>\n",
       "      <td>...</td>\n",
       "      <td>NaN</td>\n",
       "      <td>NaN</td>\n",
       "      <td>NaN</td>\n",
       "      <td>NaN</td>\n",
       "      <td>NaN</td>\n",
       "      <td>NaN</td>\n",
       "      <td>NaN</td>\n",
       "      <td>NaN</td>\n",
       "      <td>NaN</td>\n",
       "      <td>NaN</td>\n",
       "    </tr>\n",
       "    <tr>\n",
       "      <th>4000qtrap</th>\n",
       "      <td>NaN</td>\n",
       "      <td>NaN</td>\n",
       "      <td>NaN</td>\n",
       "      <td>NaN</td>\n",
       "      <td>NaN</td>\n",
       "      <td>NaN</td>\n",
       "      <td>NaN</td>\n",
       "      <td>NaN</td>\n",
       "      <td>NaN</td>\n",
       "      <td>NaN</td>\n",
       "      <td>...</td>\n",
       "      <td>NaN</td>\n",
       "      <td>NaN</td>\n",
       "      <td>NaN</td>\n",
       "      <td>NaN</td>\n",
       "      <td>NaN</td>\n",
       "      <td>NaN</td>\n",
       "      <td>NaN</td>\n",
       "      <td>NaN</td>\n",
       "      <td>4.5</td>\n",
       "      <td>NaN</td>\n",
       "    </tr>\n",
       "    <tr>\n",
       "      <th>4DAloveofSTOUT</th>\n",
       "      <td>NaN</td>\n",
       "      <td>NaN</td>\n",
       "      <td>NaN</td>\n",
       "      <td>NaN</td>\n",
       "      <td>NaN</td>\n",
       "      <td>NaN</td>\n",
       "      <td>NaN</td>\n",
       "      <td>NaN</td>\n",
       "      <td>NaN</td>\n",
       "      <td>NaN</td>\n",
       "      <td>...</td>\n",
       "      <td>NaN</td>\n",
       "      <td>NaN</td>\n",
       "      <td>NaN</td>\n",
       "      <td>NaN</td>\n",
       "      <td>NaN</td>\n",
       "      <td>NaN</td>\n",
       "      <td>NaN</td>\n",
       "      <td>NaN</td>\n",
       "      <td>NaN</td>\n",
       "      <td>NaN</td>\n",
       "    </tr>\n",
       "  </tbody>\n",
       "</table>\n",
       "<p>5 rows × 2499 columns</p>\n",
       "</div>"
      ],
      "text/plain": [
       "beer_beerid         5      6      7      10     14     15     17     19     \\\n",
       "review_profilename                                                           \n",
       "1759Girl              NaN    NaN    NaN    NaN    NaN    NaN    NaN    NaN   \n",
       "1fastz28              NaN    3.5    NaN    4.0    NaN    NaN    NaN    NaN   \n",
       "3Vandoo               NaN    NaN    NaN    NaN    NaN    NaN    NaN    NaN   \n",
       "4000qtrap             NaN    NaN    NaN    NaN    NaN    NaN    NaN    NaN   \n",
       "4DAloveofSTOUT        NaN    NaN    NaN    NaN    NaN    NaN    NaN    NaN   \n",
       "\n",
       "beer_beerid         30     31     ...  74123  74272  74321  74323  74390  \\\n",
       "review_profilename                ...                                      \n",
       "1759Girl              NaN    NaN  ...    NaN    NaN    NaN    NaN    NaN   \n",
       "1fastz28              NaN    NaN  ...    3.5    NaN    NaN    NaN    NaN   \n",
       "3Vandoo               NaN    NaN  ...    NaN    NaN    NaN    NaN    NaN   \n",
       "4000qtrap             NaN    NaN  ...    NaN    NaN    NaN    NaN    NaN   \n",
       "4DAloveofSTOUT        NaN    NaN  ...    NaN    NaN    NaN    NaN    NaN   \n",
       "\n",
       "beer_beerid         74530  74548  74579  74986  75086  \n",
       "review_profilename                                     \n",
       "1759Girl              NaN    NaN    NaN    NaN    NaN  \n",
       "1fastz28              NaN    NaN    NaN    NaN    NaN  \n",
       "3Vandoo               NaN    NaN    NaN    NaN    NaN  \n",
       "4000qtrap             NaN    NaN    NaN    4.5    NaN  \n",
       "4DAloveofSTOUT        NaN    NaN    NaN    NaN    NaN  \n",
       "\n",
       "[5 rows x 2499 columns]"
      ]
     },
     "execution_count": 44,
     "metadata": {},
     "output_type": "execute_result"
    }
   ],
   "source": [
    "beerfeatures_adjusted = train.pivot_table(index='review_profilename',columns='beer_beerid',values='reviews')\n",
    "beerfeatures_adjusted.head()"
   ]
  },
  {
   "cell_type": "markdown",
   "metadata": {},
   "source": [
    "### Normalising the beer reviews for every user  around the Zero mean"
   ]
  },
  {
   "cell_type": "code",
   "execution_count": 45,
   "metadata": {},
   "outputs": [
    {
     "data": {
      "text/html": [
       "<div>\n",
       "<style scoped>\n",
       "    .dataframe tbody tr th:only-of-type {\n",
       "        vertical-align: middle;\n",
       "    }\n",
       "\n",
       "    .dataframe tbody tr th {\n",
       "        vertical-align: top;\n",
       "    }\n",
       "\n",
       "    .dataframe thead th {\n",
       "        text-align: right;\n",
       "    }\n",
       "</style>\n",
       "<table border=\"1\" class=\"dataframe\">\n",
       "  <thead>\n",
       "    <tr style=\"text-align: right;\">\n",
       "      <th>beer_beerid</th>\n",
       "      <th>5</th>\n",
       "      <th>6</th>\n",
       "      <th>7</th>\n",
       "      <th>10</th>\n",
       "      <th>14</th>\n",
       "      <th>15</th>\n",
       "      <th>17</th>\n",
       "      <th>19</th>\n",
       "      <th>30</th>\n",
       "      <th>31</th>\n",
       "      <th>...</th>\n",
       "      <th>74123</th>\n",
       "      <th>74272</th>\n",
       "      <th>74321</th>\n",
       "      <th>74323</th>\n",
       "      <th>74390</th>\n",
       "      <th>74530</th>\n",
       "      <th>74548</th>\n",
       "      <th>74579</th>\n",
       "      <th>74986</th>\n",
       "      <th>75086</th>\n",
       "    </tr>\n",
       "    <tr>\n",
       "      <th>review_profilename</th>\n",
       "      <th></th>\n",
       "      <th></th>\n",
       "      <th></th>\n",
       "      <th></th>\n",
       "      <th></th>\n",
       "      <th></th>\n",
       "      <th></th>\n",
       "      <th></th>\n",
       "      <th></th>\n",
       "      <th></th>\n",
       "      <th></th>\n",
       "      <th></th>\n",
       "      <th></th>\n",
       "      <th></th>\n",
       "      <th></th>\n",
       "      <th></th>\n",
       "      <th></th>\n",
       "      <th></th>\n",
       "      <th></th>\n",
       "      <th></th>\n",
       "      <th></th>\n",
       "    </tr>\n",
       "  </thead>\n",
       "  <tbody>\n",
       "    <tr>\n",
       "      <th>1759Girl</th>\n",
       "      <td>NaN</td>\n",
       "      <td>NaN</td>\n",
       "      <td>NaN</td>\n",
       "      <td>NaN</td>\n",
       "      <td>NaN</td>\n",
       "      <td>NaN</td>\n",
       "      <td>NaN</td>\n",
       "      <td>NaN</td>\n",
       "      <td>NaN</td>\n",
       "      <td>NaN</td>\n",
       "      <td>...</td>\n",
       "      <td>NaN</td>\n",
       "      <td>NaN</td>\n",
       "      <td>NaN</td>\n",
       "      <td>NaN</td>\n",
       "      <td>NaN</td>\n",
       "      <td>NaN</td>\n",
       "      <td>NaN</td>\n",
       "      <td>NaN</td>\n",
       "      <td>NaN</td>\n",
       "      <td>NaN</td>\n",
       "    </tr>\n",
       "    <tr>\n",
       "      <th>1fastz28</th>\n",
       "      <td>NaN</td>\n",
       "      <td>-0.368421</td>\n",
       "      <td>NaN</td>\n",
       "      <td>0.131579</td>\n",
       "      <td>NaN</td>\n",
       "      <td>NaN</td>\n",
       "      <td>NaN</td>\n",
       "      <td>NaN</td>\n",
       "      <td>NaN</td>\n",
       "      <td>NaN</td>\n",
       "      <td>...</td>\n",
       "      <td>-0.368421</td>\n",
       "      <td>NaN</td>\n",
       "      <td>NaN</td>\n",
       "      <td>NaN</td>\n",
       "      <td>NaN</td>\n",
       "      <td>NaN</td>\n",
       "      <td>NaN</td>\n",
       "      <td>NaN</td>\n",
       "      <td>NaN</td>\n",
       "      <td>NaN</td>\n",
       "    </tr>\n",
       "    <tr>\n",
       "      <th>3Vandoo</th>\n",
       "      <td>NaN</td>\n",
       "      <td>NaN</td>\n",
       "      <td>NaN</td>\n",
       "      <td>NaN</td>\n",
       "      <td>NaN</td>\n",
       "      <td>NaN</td>\n",
       "      <td>NaN</td>\n",
       "      <td>NaN</td>\n",
       "      <td>NaN</td>\n",
       "      <td>NaN</td>\n",
       "      <td>...</td>\n",
       "      <td>NaN</td>\n",
       "      <td>NaN</td>\n",
       "      <td>NaN</td>\n",
       "      <td>NaN</td>\n",
       "      <td>NaN</td>\n",
       "      <td>NaN</td>\n",
       "      <td>NaN</td>\n",
       "      <td>NaN</td>\n",
       "      <td>NaN</td>\n",
       "      <td>NaN</td>\n",
       "    </tr>\n",
       "    <tr>\n",
       "      <th>4000qtrap</th>\n",
       "      <td>NaN</td>\n",
       "      <td>NaN</td>\n",
       "      <td>NaN</td>\n",
       "      <td>NaN</td>\n",
       "      <td>NaN</td>\n",
       "      <td>NaN</td>\n",
       "      <td>NaN</td>\n",
       "      <td>NaN</td>\n",
       "      <td>NaN</td>\n",
       "      <td>NaN</td>\n",
       "      <td>...</td>\n",
       "      <td>NaN</td>\n",
       "      <td>NaN</td>\n",
       "      <td>NaN</td>\n",
       "      <td>NaN</td>\n",
       "      <td>NaN</td>\n",
       "      <td>NaN</td>\n",
       "      <td>NaN</td>\n",
       "      <td>NaN</td>\n",
       "      <td>0.534483</td>\n",
       "      <td>NaN</td>\n",
       "    </tr>\n",
       "    <tr>\n",
       "      <th>4DAloveofSTOUT</th>\n",
       "      <td>NaN</td>\n",
       "      <td>NaN</td>\n",
       "      <td>NaN</td>\n",
       "      <td>NaN</td>\n",
       "      <td>NaN</td>\n",
       "      <td>NaN</td>\n",
       "      <td>NaN</td>\n",
       "      <td>NaN</td>\n",
       "      <td>NaN</td>\n",
       "      <td>NaN</td>\n",
       "      <td>...</td>\n",
       "      <td>NaN</td>\n",
       "      <td>NaN</td>\n",
       "      <td>NaN</td>\n",
       "      <td>NaN</td>\n",
       "      <td>NaN</td>\n",
       "      <td>NaN</td>\n",
       "      <td>NaN</td>\n",
       "      <td>NaN</td>\n",
       "      <td>NaN</td>\n",
       "      <td>NaN</td>\n",
       "    </tr>\n",
       "    <tr>\n",
       "      <th>...</th>\n",
       "      <td>...</td>\n",
       "      <td>...</td>\n",
       "      <td>...</td>\n",
       "      <td>...</td>\n",
       "      <td>...</td>\n",
       "      <td>...</td>\n",
       "      <td>...</td>\n",
       "      <td>...</td>\n",
       "      <td>...</td>\n",
       "      <td>...</td>\n",
       "      <td>...</td>\n",
       "      <td>...</td>\n",
       "      <td>...</td>\n",
       "      <td>...</td>\n",
       "      <td>...</td>\n",
       "      <td>...</td>\n",
       "      <td>...</td>\n",
       "      <td>...</td>\n",
       "      <td>...</td>\n",
       "      <td>...</td>\n",
       "      <td>...</td>\n",
       "    </tr>\n",
       "    <tr>\n",
       "      <th>zimm421</th>\n",
       "      <td>NaN</td>\n",
       "      <td>NaN</td>\n",
       "      <td>NaN</td>\n",
       "      <td>NaN</td>\n",
       "      <td>NaN</td>\n",
       "      <td>NaN</td>\n",
       "      <td>NaN</td>\n",
       "      <td>NaN</td>\n",
       "      <td>NaN</td>\n",
       "      <td>NaN</td>\n",
       "      <td>...</td>\n",
       "      <td>NaN</td>\n",
       "      <td>NaN</td>\n",
       "      <td>NaN</td>\n",
       "      <td>NaN</td>\n",
       "      <td>NaN</td>\n",
       "      <td>NaN</td>\n",
       "      <td>NaN</td>\n",
       "      <td>-0.368421</td>\n",
       "      <td>NaN</td>\n",
       "      <td>NaN</td>\n",
       "    </tr>\n",
       "    <tr>\n",
       "      <th>zoolzoo</th>\n",
       "      <td>NaN</td>\n",
       "      <td>NaN</td>\n",
       "      <td>NaN</td>\n",
       "      <td>NaN</td>\n",
       "      <td>NaN</td>\n",
       "      <td>NaN</td>\n",
       "      <td>NaN</td>\n",
       "      <td>NaN</td>\n",
       "      <td>NaN</td>\n",
       "      <td>NaN</td>\n",
       "      <td>...</td>\n",
       "      <td>NaN</td>\n",
       "      <td>NaN</td>\n",
       "      <td>NaN</td>\n",
       "      <td>NaN</td>\n",
       "      <td>NaN</td>\n",
       "      <td>NaN</td>\n",
       "      <td>NaN</td>\n",
       "      <td>-0.657895</td>\n",
       "      <td>NaN</td>\n",
       "      <td>NaN</td>\n",
       "    </tr>\n",
       "    <tr>\n",
       "      <th>zoso1967</th>\n",
       "      <td>NaN</td>\n",
       "      <td>NaN</td>\n",
       "      <td>NaN</td>\n",
       "      <td>NaN</td>\n",
       "      <td>NaN</td>\n",
       "      <td>NaN</td>\n",
       "      <td>NaN</td>\n",
       "      <td>NaN</td>\n",
       "      <td>NaN</td>\n",
       "      <td>NaN</td>\n",
       "      <td>...</td>\n",
       "      <td>NaN</td>\n",
       "      <td>NaN</td>\n",
       "      <td>NaN</td>\n",
       "      <td>NaN</td>\n",
       "      <td>NaN</td>\n",
       "      <td>NaN</td>\n",
       "      <td>NaN</td>\n",
       "      <td>NaN</td>\n",
       "      <td>NaN</td>\n",
       "      <td>NaN</td>\n",
       "    </tr>\n",
       "    <tr>\n",
       "      <th>zoso493</th>\n",
       "      <td>NaN</td>\n",
       "      <td>NaN</td>\n",
       "      <td>NaN</td>\n",
       "      <td>NaN</td>\n",
       "      <td>NaN</td>\n",
       "      <td>NaN</td>\n",
       "      <td>NaN</td>\n",
       "      <td>NaN</td>\n",
       "      <td>0.0</td>\n",
       "      <td>NaN</td>\n",
       "      <td>...</td>\n",
       "      <td>NaN</td>\n",
       "      <td>NaN</td>\n",
       "      <td>NaN</td>\n",
       "      <td>NaN</td>\n",
       "      <td>NaN</td>\n",
       "      <td>NaN</td>\n",
       "      <td>NaN</td>\n",
       "      <td>NaN</td>\n",
       "      <td>NaN</td>\n",
       "      <td>NaN</td>\n",
       "    </tr>\n",
       "    <tr>\n",
       "      <th>zrab11</th>\n",
       "      <td>NaN</td>\n",
       "      <td>NaN</td>\n",
       "      <td>NaN</td>\n",
       "      <td>NaN</td>\n",
       "      <td>NaN</td>\n",
       "      <td>NaN</td>\n",
       "      <td>NaN</td>\n",
       "      <td>NaN</td>\n",
       "      <td>NaN</td>\n",
       "      <td>NaN</td>\n",
       "      <td>...</td>\n",
       "      <td>NaN</td>\n",
       "      <td>NaN</td>\n",
       "      <td>NaN</td>\n",
       "      <td>NaN</td>\n",
       "      <td>NaN</td>\n",
       "      <td>NaN</td>\n",
       "      <td>NaN</td>\n",
       "      <td>NaN</td>\n",
       "      <td>NaN</td>\n",
       "      <td>NaN</td>\n",
       "    </tr>\n",
       "  </tbody>\n",
       "</table>\n",
       "<p>2186 rows × 2499 columns</p>\n",
       "</div>"
      ],
      "text/plain": [
       "beer_beerid         5         6      7         10     14     15     17     \\\n",
       "review_profilename                                                          \n",
       "1759Girl              NaN       NaN    NaN       NaN    NaN    NaN    NaN   \n",
       "1fastz28              NaN -0.368421    NaN  0.131579    NaN    NaN    NaN   \n",
       "3Vandoo               NaN       NaN    NaN       NaN    NaN    NaN    NaN   \n",
       "4000qtrap             NaN       NaN    NaN       NaN    NaN    NaN    NaN   \n",
       "4DAloveofSTOUT        NaN       NaN    NaN       NaN    NaN    NaN    NaN   \n",
       "...                   ...       ...    ...       ...    ...    ...    ...   \n",
       "zimm421               NaN       NaN    NaN       NaN    NaN    NaN    NaN   \n",
       "zoolzoo               NaN       NaN    NaN       NaN    NaN    NaN    NaN   \n",
       "zoso1967              NaN       NaN    NaN       NaN    NaN    NaN    NaN   \n",
       "zoso493               NaN       NaN    NaN       NaN    NaN    NaN    NaN   \n",
       "zrab11                NaN       NaN    NaN       NaN    NaN    NaN    NaN   \n",
       "\n",
       "beer_beerid         19     30     31     ...     74123  74272  74321  74323  \\\n",
       "review_profilename                       ...                                  \n",
       "1759Girl              NaN    NaN    NaN  ...       NaN    NaN    NaN    NaN   \n",
       "1fastz28              NaN    NaN    NaN  ... -0.368421    NaN    NaN    NaN   \n",
       "3Vandoo               NaN    NaN    NaN  ...       NaN    NaN    NaN    NaN   \n",
       "4000qtrap             NaN    NaN    NaN  ...       NaN    NaN    NaN    NaN   \n",
       "4DAloveofSTOUT        NaN    NaN    NaN  ...       NaN    NaN    NaN    NaN   \n",
       "...                   ...    ...    ...  ...       ...    ...    ...    ...   \n",
       "zimm421               NaN    NaN    NaN  ...       NaN    NaN    NaN    NaN   \n",
       "zoolzoo               NaN    NaN    NaN  ...       NaN    NaN    NaN    NaN   \n",
       "zoso1967              NaN    NaN    NaN  ...       NaN    NaN    NaN    NaN   \n",
       "zoso493               NaN    0.0    NaN  ...       NaN    NaN    NaN    NaN   \n",
       "zrab11                NaN    NaN    NaN  ...       NaN    NaN    NaN    NaN   \n",
       "\n",
       "beer_beerid         74390  74530  74548     74579     74986  75086  \n",
       "review_profilename                                                  \n",
       "1759Girl              NaN    NaN    NaN       NaN       NaN    NaN  \n",
       "1fastz28              NaN    NaN    NaN       NaN       NaN    NaN  \n",
       "3Vandoo               NaN    NaN    NaN       NaN       NaN    NaN  \n",
       "4000qtrap             NaN    NaN    NaN       NaN  0.534483    NaN  \n",
       "4DAloveofSTOUT        NaN    NaN    NaN       NaN       NaN    NaN  \n",
       "...                   ...    ...    ...       ...       ...    ...  \n",
       "zimm421               NaN    NaN    NaN -0.368421       NaN    NaN  \n",
       "zoolzoo               NaN    NaN    NaN -0.657895       NaN    NaN  \n",
       "zoso1967              NaN    NaN    NaN       NaN       NaN    NaN  \n",
       "zoso493               NaN    NaN    NaN       NaN       NaN    NaN  \n",
       "zrab11                NaN    NaN    NaN       NaN       NaN    NaN  \n",
       "\n",
       "[2186 rows x 2499 columns]"
      ]
     },
     "execution_count": 45,
     "metadata": {},
     "output_type": "execute_result"
    }
   ],
   "source": [
    "mean = np.nanmean(beerfeatures_adjusted, axis=1)\n",
    "normalised_df = (beerfeatures_adjusted.T-mean).T\n",
    "normalised_df"
   ]
  },
  {
   "cell_type": "code",
   "execution_count": 46,
   "metadata": {},
   "outputs": [
    {
     "name": "stdout",
     "output_type": "stream",
     "text": [
      "[[1.         0.00153196 0.18943133 ... 0.02184202 0.         0.        ]\n",
      " [0.00153196 1.         0.01429336 ... 0.05101203 0.07904762 0.01752856]\n",
      " [0.18943133 0.01429336 1.         ... 0.00513534 0.         0.00751435]\n",
      " ...\n",
      " [0.02184202 0.05101203 0.00513534 ... 1.         0.02071871 0.09869374]\n",
      " [0.         0.07904762 0.         ... 0.02071871 1.         0.        ]\n",
      " [0.         0.01752856 0.00751435 ... 0.09869374 0.         1.        ]]\n"
     ]
    }
   ],
   "source": [
    "from sklearn.metrics.pairwise import pairwise_distances\n",
    "# User Similarity Matrix\n",
    "user_correlation = 1 - pairwise_distances(normalised_df.fillna(0), metric='cosine')\n",
    "user_correlation[np.isnan(user_correlation)] = 0\n",
    "print(user_correlation)"
   ]
  },
  {
   "cell_type": "markdown",
   "metadata": {},
   "source": [
    "### Prediction"
   ]
  },
  {
   "cell_type": "code",
   "execution_count": 47,
   "metadata": {},
   "outputs": [
    {
     "data": {
      "text/plain": [
       "array([[1.        , 0.00153196, 0.18943133, ..., 0.02184202, 0.        ,\n",
       "        0.        ],\n",
       "       [0.00153196, 1.        , 0.01429336, ..., 0.05101203, 0.07904762,\n",
       "        0.01752856],\n",
       "       [0.18943133, 0.01429336, 1.        , ..., 0.00513534, 0.        ,\n",
       "        0.00751435],\n",
       "       ...,\n",
       "       [0.02184202, 0.05101203, 0.00513534, ..., 1.        , 0.02071871,\n",
       "        0.09869374],\n",
       "       [0.        , 0.07904762, 0.        , ..., 0.02071871, 1.        ,\n",
       "        0.        ],\n",
       "       [0.        , 0.01752856, 0.00751435, ..., 0.09869374, 0.        ,\n",
       "        1.        ]])"
      ]
     },
     "execution_count": 47,
     "metadata": {},
     "output_type": "execute_result"
    }
   ],
   "source": [
    "user_correlation[user_correlation<0]=0\n",
    "user_correlation"
   ]
  },
  {
   "cell_type": "code",
   "execution_count": 48,
   "metadata": {},
   "outputs": [
    {
     "data": {
      "text/plain": [
       "array([[3.24210326, 4.40369615, 5.250132  , ..., 2.05217815, 2.94613011,\n",
       "        2.98225085],\n",
       "       [3.93350605, 9.8858272 , 5.17460203, ..., 1.37926963, 2.97500012,\n",
       "        2.86248454],\n",
       "       [3.53667061, 5.23192674, 5.67773266, ..., 1.28812535, 2.36125554,\n",
       "        1.79565538],\n",
       "       ...,\n",
       "       [3.08143364, 4.7022764 , 4.43189664, ..., 1.83839538, 4.91321476,\n",
       "        2.40932655],\n",
       "       [4.66758912, 6.17359262, 3.85057704, ..., 1.01846119, 2.76484337,\n",
       "        2.28003126],\n",
       "       [2.69216372, 4.46961576, 4.3970018 , ..., 1.18946409, 3.43910826,\n",
       "        1.84577088]])"
      ]
     },
     "execution_count": 48,
     "metadata": {},
     "output_type": "execute_result"
    }
   ],
   "source": [
    "user_predicted_ratings = np.dot(user_correlation, beerfeatures_adjusted.fillna(0))\n",
    "user_predicted_ratings"
   ]
  },
  {
   "cell_type": "code",
   "execution_count": 49,
   "metadata": {},
   "outputs": [
    {
     "data": {
      "text/plain": [
       "(2186, 2499)"
      ]
     },
     "execution_count": 49,
     "metadata": {},
     "output_type": "execute_result"
    }
   ],
   "source": [
    "# reading the shape of the user predicted matrix\n",
    "user_predicted_ratings.shape"
   ]
  },
  {
   "cell_type": "code",
   "execution_count": 50,
   "metadata": {},
   "outputs": [
    {
     "data": {
      "text/html": [
       "<div>\n",
       "<style scoped>\n",
       "    .dataframe tbody tr th:only-of-type {\n",
       "        vertical-align: middle;\n",
       "    }\n",
       "\n",
       "    .dataframe tbody tr th {\n",
       "        vertical-align: top;\n",
       "    }\n",
       "\n",
       "    .dataframe thead th {\n",
       "        text-align: right;\n",
       "    }\n",
       "</style>\n",
       "<table border=\"1\" class=\"dataframe\">\n",
       "  <thead>\n",
       "    <tr style=\"text-align: right;\">\n",
       "      <th>beer_beerid</th>\n",
       "      <th>5</th>\n",
       "      <th>6</th>\n",
       "      <th>7</th>\n",
       "      <th>10</th>\n",
       "      <th>14</th>\n",
       "      <th>15</th>\n",
       "      <th>17</th>\n",
       "      <th>19</th>\n",
       "      <th>30</th>\n",
       "      <th>31</th>\n",
       "      <th>...</th>\n",
       "      <th>74123</th>\n",
       "      <th>74272</th>\n",
       "      <th>74321</th>\n",
       "      <th>74323</th>\n",
       "      <th>74390</th>\n",
       "      <th>74530</th>\n",
       "      <th>74548</th>\n",
       "      <th>74579</th>\n",
       "      <th>74986</th>\n",
       "      <th>75086</th>\n",
       "    </tr>\n",
       "    <tr>\n",
       "      <th>review_profilename</th>\n",
       "      <th></th>\n",
       "      <th></th>\n",
       "      <th></th>\n",
       "      <th></th>\n",
       "      <th></th>\n",
       "      <th></th>\n",
       "      <th></th>\n",
       "      <th></th>\n",
       "      <th></th>\n",
       "      <th></th>\n",
       "      <th></th>\n",
       "      <th></th>\n",
       "      <th></th>\n",
       "      <th></th>\n",
       "      <th></th>\n",
       "      <th></th>\n",
       "      <th></th>\n",
       "      <th></th>\n",
       "      <th></th>\n",
       "      <th></th>\n",
       "      <th></th>\n",
       "    </tr>\n",
       "  </thead>\n",
       "  <tbody>\n",
       "    <tr>\n",
       "      <th>1759Girl</th>\n",
       "      <td>3.242103</td>\n",
       "      <td>4.403696</td>\n",
       "      <td>5.250132</td>\n",
       "      <td>5.804868</td>\n",
       "      <td>1.642118</td>\n",
       "      <td>2.396965</td>\n",
       "      <td>7.681927</td>\n",
       "      <td>6.102232</td>\n",
       "      <td>12.867322</td>\n",
       "      <td>8.059615</td>\n",
       "      <td>...</td>\n",
       "      <td>0.930113</td>\n",
       "      <td>1.690372</td>\n",
       "      <td>1.349585</td>\n",
       "      <td>2.343183</td>\n",
       "      <td>2.566897</td>\n",
       "      <td>1.151313</td>\n",
       "      <td>0.668424</td>\n",
       "      <td>2.052178</td>\n",
       "      <td>2.946130</td>\n",
       "      <td>2.982251</td>\n",
       "    </tr>\n",
       "    <tr>\n",
       "      <th>1fastz28</th>\n",
       "      <td>3.933506</td>\n",
       "      <td>0.000000</td>\n",
       "      <td>5.174602</td>\n",
       "      <td>0.000000</td>\n",
       "      <td>1.034186</td>\n",
       "      <td>2.037258</td>\n",
       "      <td>6.087829</td>\n",
       "      <td>3.950527</td>\n",
       "      <td>15.179556</td>\n",
       "      <td>7.893319</td>\n",
       "      <td>...</td>\n",
       "      <td>0.000000</td>\n",
       "      <td>1.244397</td>\n",
       "      <td>1.536703</td>\n",
       "      <td>1.758379</td>\n",
       "      <td>1.930603</td>\n",
       "      <td>1.760217</td>\n",
       "      <td>1.334151</td>\n",
       "      <td>1.379270</td>\n",
       "      <td>2.975000</td>\n",
       "      <td>2.862485</td>\n",
       "    </tr>\n",
       "    <tr>\n",
       "      <th>3Vandoo</th>\n",
       "      <td>3.536671</td>\n",
       "      <td>5.231927</td>\n",
       "      <td>5.677733</td>\n",
       "      <td>6.009572</td>\n",
       "      <td>1.488423</td>\n",
       "      <td>2.527335</td>\n",
       "      <td>4.473697</td>\n",
       "      <td>4.931595</td>\n",
       "      <td>11.967693</td>\n",
       "      <td>7.913088</td>\n",
       "      <td>...</td>\n",
       "      <td>1.609019</td>\n",
       "      <td>1.614942</td>\n",
       "      <td>0.837825</td>\n",
       "      <td>1.435440</td>\n",
       "      <td>1.609429</td>\n",
       "      <td>1.669123</td>\n",
       "      <td>0.609506</td>\n",
       "      <td>1.288125</td>\n",
       "      <td>2.361256</td>\n",
       "      <td>1.795655</td>\n",
       "    </tr>\n",
       "    <tr>\n",
       "      <th>4000qtrap</th>\n",
       "      <td>1.284632</td>\n",
       "      <td>3.046665</td>\n",
       "      <td>1.901469</td>\n",
       "      <td>3.292398</td>\n",
       "      <td>0.631267</td>\n",
       "      <td>0.762963</td>\n",
       "      <td>2.839423</td>\n",
       "      <td>2.472467</td>\n",
       "      <td>6.772330</td>\n",
       "      <td>4.119555</td>\n",
       "      <td>...</td>\n",
       "      <td>0.483043</td>\n",
       "      <td>0.834666</td>\n",
       "      <td>0.822173</td>\n",
       "      <td>1.389092</td>\n",
       "      <td>1.406189</td>\n",
       "      <td>0.611393</td>\n",
       "      <td>0.379194</td>\n",
       "      <td>1.025736</td>\n",
       "      <td>0.000000</td>\n",
       "      <td>1.259125</td>\n",
       "    </tr>\n",
       "    <tr>\n",
       "      <th>4DAloveofSTOUT</th>\n",
       "      <td>1.704423</td>\n",
       "      <td>2.319942</td>\n",
       "      <td>2.284142</td>\n",
       "      <td>2.629483</td>\n",
       "      <td>0.317840</td>\n",
       "      <td>0.958389</td>\n",
       "      <td>3.303078</td>\n",
       "      <td>1.298406</td>\n",
       "      <td>5.182159</td>\n",
       "      <td>2.438262</td>\n",
       "      <td>...</td>\n",
       "      <td>0.436414</td>\n",
       "      <td>1.342595</td>\n",
       "      <td>1.203952</td>\n",
       "      <td>0.963201</td>\n",
       "      <td>0.631208</td>\n",
       "      <td>0.618455</td>\n",
       "      <td>0.558318</td>\n",
       "      <td>0.701145</td>\n",
       "      <td>3.622417</td>\n",
       "      <td>2.256616</td>\n",
       "    </tr>\n",
       "  </tbody>\n",
       "</table>\n",
       "<p>5 rows × 2499 columns</p>\n",
       "</div>"
      ],
      "text/plain": [
       "beer_beerid            5         6         7         10        14     \\\n",
       "review_profilename                                                     \n",
       "1759Girl            3.242103  4.403696  5.250132  5.804868  1.642118   \n",
       "1fastz28            3.933506  0.000000  5.174602  0.000000  1.034186   \n",
       "3Vandoo             3.536671  5.231927  5.677733  6.009572  1.488423   \n",
       "4000qtrap           1.284632  3.046665  1.901469  3.292398  0.631267   \n",
       "4DAloveofSTOUT      1.704423  2.319942  2.284142  2.629483  0.317840   \n",
       "\n",
       "beer_beerid            15        17        19         30        31     ...  \\\n",
       "review_profilename                                                     ...   \n",
       "1759Girl            2.396965  7.681927  6.102232  12.867322  8.059615  ...   \n",
       "1fastz28            2.037258  6.087829  3.950527  15.179556  7.893319  ...   \n",
       "3Vandoo             2.527335  4.473697  4.931595  11.967693  7.913088  ...   \n",
       "4000qtrap           0.762963  2.839423  2.472467   6.772330  4.119555  ...   \n",
       "4DAloveofSTOUT      0.958389  3.303078  1.298406   5.182159  2.438262  ...   \n",
       "\n",
       "beer_beerid            74123     74272     74321     74323     74390  \\\n",
       "review_profilename                                                     \n",
       "1759Girl            0.930113  1.690372  1.349585  2.343183  2.566897   \n",
       "1fastz28            0.000000  1.244397  1.536703  1.758379  1.930603   \n",
       "3Vandoo             1.609019  1.614942  0.837825  1.435440  1.609429   \n",
       "4000qtrap           0.483043  0.834666  0.822173  1.389092  1.406189   \n",
       "4DAloveofSTOUT      0.436414  1.342595  1.203952  0.963201  0.631208   \n",
       "\n",
       "beer_beerid            74530     74548     74579     74986     75086  \n",
       "review_profilename                                                    \n",
       "1759Girl            1.151313  0.668424  2.052178  2.946130  2.982251  \n",
       "1fastz28            1.760217  1.334151  1.379270  2.975000  2.862485  \n",
       "3Vandoo             1.669123  0.609506  1.288125  2.361256  1.795655  \n",
       "4000qtrap           0.611393  0.379194  1.025736  0.000000  1.259125  \n",
       "4DAloveofSTOUT      0.618455  0.558318  0.701145  3.622417  2.256616  \n",
       "\n",
       "[5 rows x 2499 columns]"
      ]
     },
     "execution_count": 50,
     "metadata": {},
     "output_type": "execute_result"
    }
   ],
   "source": [
    "user_final_rating = np.multiply(user_predicted_ratings,dummy_train)\n",
    "user_final_rating.head()"
   ]
  },
  {
   "cell_type": "markdown",
   "metadata": {},
   "source": [
    "#### Shortlisting the top ten users"
   ]
  },
  {
   "cell_type": "code",
   "execution_count": 51,
   "metadata": {},
   "outputs": [
    {
     "data": {
      "text/plain": [
       "beer_beerid\n",
       "1093    23.669560\n",
       "412     23.601339\n",
       "2093    23.582053\n",
       "1904    20.923352\n",
       "1708    20.850969\n",
       "731     20.762737\n",
       "1013    20.404158\n",
       "34      20.073946\n",
       "4083    19.944896\n",
       "680     19.817724\n",
       "Name: 1fastz28, dtype: float64"
      ]
     },
     "execution_count": 51,
     "metadata": {},
     "output_type": "execute_result"
    }
   ],
   "source": [
    "user_final_rating.iloc[1].sort_values(ascending=False)[0:10]"
   ]
  },
  {
   "cell_type": "code",
   "execution_count": 52,
   "metadata": {},
   "outputs": [
    {
     "data": {
      "text/html": [
       "<div>\n",
       "<style scoped>\n",
       "    .dataframe tbody tr th:only-of-type {\n",
       "        vertical-align: middle;\n",
       "    }\n",
       "\n",
       "    .dataframe tbody tr th {\n",
       "        vertical-align: top;\n",
       "    }\n",
       "\n",
       "    .dataframe thead th {\n",
       "        text-align: right;\n",
       "    }\n",
       "</style>\n",
       "<table border=\"1\" class=\"dataframe\">\n",
       "  <thead>\n",
       "    <tr style=\"text-align: right;\">\n",
       "      <th>beer_beerid</th>\n",
       "      <th>5</th>\n",
       "      <th>6</th>\n",
       "      <th>7</th>\n",
       "      <th>10</th>\n",
       "      <th>14</th>\n",
       "      <th>15</th>\n",
       "      <th>17</th>\n",
       "      <th>19</th>\n",
       "      <th>30</th>\n",
       "      <th>31</th>\n",
       "    </tr>\n",
       "    <tr>\n",
       "      <th>review_profilename</th>\n",
       "      <th></th>\n",
       "      <th></th>\n",
       "      <th></th>\n",
       "      <th></th>\n",
       "      <th></th>\n",
       "      <th></th>\n",
       "      <th></th>\n",
       "      <th></th>\n",
       "      <th></th>\n",
       "      <th></th>\n",
       "    </tr>\n",
       "  </thead>\n",
       "  <tbody>\n",
       "    <tr>\n",
       "      <th>1759Girl</th>\n",
       "      <td>3.242103</td>\n",
       "      <td>4.403696</td>\n",
       "      <td>5.250132</td>\n",
       "      <td>5.804868</td>\n",
       "      <td>1.642118</td>\n",
       "      <td>2.396965</td>\n",
       "      <td>7.681927</td>\n",
       "      <td>6.102232</td>\n",
       "      <td>12.867322</td>\n",
       "      <td>8.059615</td>\n",
       "    </tr>\n",
       "    <tr>\n",
       "      <th>1fastz28</th>\n",
       "      <td>3.933506</td>\n",
       "      <td>0.000000</td>\n",
       "      <td>5.174602</td>\n",
       "      <td>0.000000</td>\n",
       "      <td>1.034186</td>\n",
       "      <td>2.037258</td>\n",
       "      <td>6.087829</td>\n",
       "      <td>3.950527</td>\n",
       "      <td>15.179556</td>\n",
       "      <td>7.893319</td>\n",
       "    </tr>\n",
       "    <tr>\n",
       "      <th>3Vandoo</th>\n",
       "      <td>3.536671</td>\n",
       "      <td>5.231927</td>\n",
       "      <td>5.677733</td>\n",
       "      <td>6.009572</td>\n",
       "      <td>1.488423</td>\n",
       "      <td>2.527335</td>\n",
       "      <td>4.473697</td>\n",
       "      <td>4.931595</td>\n",
       "      <td>11.967693</td>\n",
       "      <td>7.913088</td>\n",
       "    </tr>\n",
       "    <tr>\n",
       "      <th>4000qtrap</th>\n",
       "      <td>1.284632</td>\n",
       "      <td>3.046665</td>\n",
       "      <td>1.901469</td>\n",
       "      <td>3.292398</td>\n",
       "      <td>0.631267</td>\n",
       "      <td>0.762963</td>\n",
       "      <td>2.839423</td>\n",
       "      <td>2.472467</td>\n",
       "      <td>6.772330</td>\n",
       "      <td>4.119555</td>\n",
       "    </tr>\n",
       "    <tr>\n",
       "      <th>4DAloveofSTOUT</th>\n",
       "      <td>1.704423</td>\n",
       "      <td>2.319942</td>\n",
       "      <td>2.284142</td>\n",
       "      <td>2.629483</td>\n",
       "      <td>0.317840</td>\n",
       "      <td>0.958389</td>\n",
       "      <td>3.303078</td>\n",
       "      <td>1.298406</td>\n",
       "      <td>5.182159</td>\n",
       "      <td>2.438262</td>\n",
       "    </tr>\n",
       "    <tr>\n",
       "      <th>99bottles</th>\n",
       "      <td>5.202239</td>\n",
       "      <td>9.172454</td>\n",
       "      <td>6.162626</td>\n",
       "      <td>10.280235</td>\n",
       "      <td>2.096923</td>\n",
       "      <td>2.149838</td>\n",
       "      <td>9.956680</td>\n",
       "      <td>6.599382</td>\n",
       "      <td>17.287328</td>\n",
       "      <td>15.422540</td>\n",
       "    </tr>\n",
       "    <tr>\n",
       "      <th>9InchNails</th>\n",
       "      <td>3.408252</td>\n",
       "      <td>6.116250</td>\n",
       "      <td>4.516018</td>\n",
       "      <td>0.000000</td>\n",
       "      <td>1.559361</td>\n",
       "      <td>2.759295</td>\n",
       "      <td>7.869669</td>\n",
       "      <td>6.071748</td>\n",
       "      <td>12.689310</td>\n",
       "      <td>11.330972</td>\n",
       "    </tr>\n",
       "    <tr>\n",
       "      <th>AChamberlain</th>\n",
       "      <td>3.268267</td>\n",
       "      <td>3.815585</td>\n",
       "      <td>3.546730</td>\n",
       "      <td>5.491565</td>\n",
       "      <td>0.993670</td>\n",
       "      <td>1.831227</td>\n",
       "      <td>4.116203</td>\n",
       "      <td>3.012098</td>\n",
       "      <td>10.485896</td>\n",
       "      <td>5.334955</td>\n",
       "    </tr>\n",
       "    <tr>\n",
       "      <th>ADR</th>\n",
       "      <td>6.475921</td>\n",
       "      <td>11.764320</td>\n",
       "      <td>7.599235</td>\n",
       "      <td>10.859793</td>\n",
       "      <td>2.884059</td>\n",
       "      <td>4.329297</td>\n",
       "      <td>11.022531</td>\n",
       "      <td>7.965466</td>\n",
       "      <td>0.000000</td>\n",
       "      <td>16.758206</td>\n",
       "    </tr>\n",
       "    <tr>\n",
       "      <th>ADZA</th>\n",
       "      <td>5.451223</td>\n",
       "      <td>8.675291</td>\n",
       "      <td>6.970594</td>\n",
       "      <td>7.819794</td>\n",
       "      <td>1.221709</td>\n",
       "      <td>1.941798</td>\n",
       "      <td>7.466208</td>\n",
       "      <td>4.291829</td>\n",
       "      <td>17.412804</td>\n",
       "      <td>9.907183</td>\n",
       "    </tr>\n",
       "  </tbody>\n",
       "</table>\n",
       "</div>"
      ],
      "text/plain": [
       "beer_beerid               5          6         7          10        14  \\\n",
       "review_profilename                                                       \n",
       "1759Girl            3.242103   4.403696  5.250132   5.804868  1.642118   \n",
       "1fastz28            3.933506   0.000000  5.174602   0.000000  1.034186   \n",
       "3Vandoo             3.536671   5.231927  5.677733   6.009572  1.488423   \n",
       "4000qtrap           1.284632   3.046665  1.901469   3.292398  0.631267   \n",
       "4DAloveofSTOUT      1.704423   2.319942  2.284142   2.629483  0.317840   \n",
       "99bottles           5.202239   9.172454  6.162626  10.280235  2.096923   \n",
       "9InchNails          3.408252   6.116250  4.516018   0.000000  1.559361   \n",
       "AChamberlain        3.268267   3.815585  3.546730   5.491565  0.993670   \n",
       "ADR                 6.475921  11.764320  7.599235  10.859793  2.884059   \n",
       "ADZA                5.451223   8.675291  6.970594   7.819794  1.221709   \n",
       "\n",
       "beer_beerid               15         17        19         30         31  \n",
       "review_profilename                                                       \n",
       "1759Girl            2.396965   7.681927  6.102232  12.867322   8.059615  \n",
       "1fastz28            2.037258   6.087829  3.950527  15.179556   7.893319  \n",
       "3Vandoo             2.527335   4.473697  4.931595  11.967693   7.913088  \n",
       "4000qtrap           0.762963   2.839423  2.472467   6.772330   4.119555  \n",
       "4DAloveofSTOUT      0.958389   3.303078  1.298406   5.182159   2.438262  \n",
       "99bottles           2.149838   9.956680  6.599382  17.287328  15.422540  \n",
       "9InchNails          2.759295   7.869669  6.071748  12.689310  11.330972  \n",
       "AChamberlain        1.831227   4.116203  3.012098  10.485896   5.334955  \n",
       "ADR                 4.329297  11.022531  7.965466   0.000000  16.758206  \n",
       "ADZA                1.941798   7.466208  4.291829  17.412804   9.907183  "
      ]
     },
     "execution_count": 52,
     "metadata": {},
     "output_type": "execute_result"
    }
   ],
   "source": [
    "first_ten_users = user_final_rating.iloc[:10,:10]\n",
    "first_ten_users "
   ]
  },
  {
   "cell_type": "code",
   "execution_count": 53,
   "metadata": {},
   "outputs": [],
   "source": [
    "#finding the correlation of the top ten users\n",
    "corr_user=first_ten_users.T.corr"
   ]
  },
  {
   "cell_type": "code",
   "execution_count": 54,
   "metadata": {},
   "outputs": [
    {
     "data": {
      "image/png": "[encoded data removed]",
      "text/plain": [
       "<Figure size 864x576 with 2 Axes>"
      ]
     },
     "metadata": {
      "needs_background": "light"
     },
     "output_type": "display_data"
    }
   ],
   "source": [
    "plt.figure(figsize=(12,8))\n",
    "sns.heatmap(corr_user(method ='pearson'),annot=True,cmap='YlGnBu')\n",
    "plt.show()"
   ]
  },
  {
   "cell_type": "markdown",
   "metadata": {},
   "source": [
    "### Evaluation-User Based Similarity\n",
    "\n",
    "The only difference between evaluation and prediction is that in in evaluation the ratings given by the user are evaluation instead of predicting the user reviews."
   ]
  },
  {
   "cell_type": "code",
   "execution_count": 55,
   "metadata": {},
   "outputs": [],
   "source": [
    "# pivot features\n",
    "test_beer_features = test.pivot_table(index='review_profilename',columns='beer_beerid',values='reviews')"
   ]
  },
  {
   "cell_type": "markdown",
   "metadata": {},
   "source": [
    "Normalising the beer reviews for every user around the Zero mean"
   ]
  },
  {
   "cell_type": "code",
   "execution_count": 56,
   "metadata": {},
   "outputs": [],
   "source": [
    "mean= np.nanmean(test_beer_features, axis=1)\n",
    "test_df_subtracted = (test_beer_features.T-mean).T"
   ]
  },
  {
   "cell_type": "markdown",
   "metadata": {},
   "source": [
    "Using Cosine Similarity matriz"
   ]
  },
  {
   "cell_type": "code",
   "execution_count": 57,
   "metadata": {},
   "outputs": [
    {
     "name": "stdout",
     "output_type": "stream",
     "text": [
      "[[1.         0.05925647 0.         ... 0.         0.         0.        ]\n",
      " [0.05925647 1.         0.         ... 0.         0.         0.        ]\n",
      " [0.         0.         1.         ... 0.         0.         0.        ]\n",
      " ...\n",
      " [0.         0.         0.         ... 1.         0.         0.        ]\n",
      " [0.         0.         0.         ... 0.         1.         0.        ]\n",
      " [0.         0.         0.         ... 0.         0.         1.        ]]\n"
     ]
    }
   ],
   "source": [
    "# User Similarity Matrix\n",
    "test_user_correlation = 1 - pairwise_distances(test_df_subtracted.fillna(0), metric='cosine')\n",
    "test_user_correlation[np.isnan(test_user_correlation)] = 0\n",
    "print(test_user_correlation)"
   ]
  },
  {
   "cell_type": "markdown",
   "metadata": {},
   "source": [
    "### prediction"
   ]
  },
  {
   "cell_type": "code",
   "execution_count": 58,
   "metadata": {},
   "outputs": [
    {
     "data": {
      "text/plain": [
       "array([[0.46225217, 2.51398676, 0.45625976, ..., 0.27085671, 0.79877468,\n",
       "        0.13296031],\n",
       "       [0.90408442, 2.36626721, 0.48899153, ..., 0.27619692, 0.45214224,\n",
       "        0.55086097],\n",
       "       [0.77357734, 0.41235527, 0.4832012 , ..., 0.8553778 , 0.37518861,\n",
       "        0.66192996],\n",
       "       ...,\n",
       "       [1.09237059, 1.7813052 , 1.49816191, ..., 1.06322171, 0.35999802,\n",
       "        0.86119958],\n",
       "       [0.89586768, 3.11872342, 0.23175512, ..., 0.18301755, 0.63355355,\n",
       "        0.        ],\n",
       "       [0.59190637, 1.44052187, 0.84492141, ..., 0.27271371, 1.06386847,\n",
       "        0.48099566]])"
      ]
     },
     "execution_count": 58,
     "metadata": {},
     "output_type": "execute_result"
    }
   ],
   "source": [
    "test_user_correlation[test_user_correlation<0]=0\n",
    "test_user_predicted_ratings = np.dot(test_user_correlation, test_beer_features.fillna(0))\n",
    "test_user_predicted_ratings"
   ]
  },
  {
   "cell_type": "code",
   "execution_count": 59,
   "metadata": {},
   "outputs": [],
   "source": [
    "test_user_final_rating = np.multiply(test_user_predicted_ratings,dummy_test)"
   ]
  },
  {
   "cell_type": "code",
   "execution_count": 60,
   "metadata": {},
   "outputs": [
    {
     "name": "stdout",
     "output_type": "stream",
     "text": [
      "MinMaxScaler(feature_range=(1, 5))\n",
      "[[nan nan nan ... nan nan nan]\n",
      " [nan nan nan ... nan nan nan]\n",
      " [nan nan nan ... nan nan nan]\n",
      " ...\n",
      " [nan nan nan ... nan nan nan]\n",
      " [nan nan nan ... nan nan nan]\n",
      " [nan nan nan ... nan nan nan]]\n"
     ]
    }
   ],
   "source": [
    "from sklearn.preprocessing import MinMaxScaler\n",
    "from numpy import *\n",
    "\n",
    "X  = test_user_final_rating.copy() \n",
    "X = X[X>0]\n",
    "\n",
    "scaler = MinMaxScaler(feature_range=(1, 5))\n",
    "print(scaler.fit(X))\n",
    "y = (scaler.transform(X))\n",
    "\n",
    "print(y)"
   ]
  },
  {
   "cell_type": "code",
   "execution_count": 61,
   "metadata": {},
   "outputs": [],
   "source": [
    "test_beer = test.pivot_table(index='review_profilename',columns='beer_beerid',values='reviews')"
   ]
  },
  {
   "cell_type": "code",
   "execution_count": 62,
   "metadata": {},
   "outputs": [],
   "source": [
    "# Finding total non-NaN value\n",
    "total_non_nan = np.count_nonzero(~np.isnan(y))"
   ]
  },
  {
   "cell_type": "code",
   "execution_count": 63,
   "metadata": {},
   "outputs": [
    {
     "name": "stdout",
     "output_type": "stream",
     "text": [
      "1.6203417555559363\n"
     ]
    }
   ],
   "source": [
    "rmse = (sum(sum((test_beer- y )**2))/total_non_nan)**0.5\n",
    "print(rmse)"
   ]
  },
  {
   "cell_type": "markdown",
   "metadata": {},
   "source": [
    "### Item Based "
   ]
  },
  {
   "cell_type": "code",
   "execution_count": 64,
   "metadata": {},
   "outputs": [],
   "source": [
    "# pivot features\n",
    "beerfeatures_item= train.pivot_table(index='review_profilename',columns='beer_beerid',values='reviews').T"
   ]
  },
  {
   "cell_type": "code",
   "execution_count": 65,
   "metadata": {},
   "outputs": [],
   "source": [
    "### Normalisation"
   ]
  },
  {
   "cell_type": "code",
   "execution_count": 66,
   "metadata": {},
   "outputs": [],
   "source": [
    "mean = np.nanmean(beerfeatures_item, axis=1)\n",
    "beeradj_subtracted = (beerfeatures_item.T-mean).T"
   ]
  },
  {
   "cell_type": "code",
   "execution_count": 67,
   "metadata": {},
   "outputs": [
    {
     "data": {
      "text/html": [
       "<div>\n",
       "<style scoped>\n",
       "    .dataframe tbody tr th:only-of-type {\n",
       "        vertical-align: middle;\n",
       "    }\n",
       "\n",
       "    .dataframe tbody tr th {\n",
       "        vertical-align: top;\n",
       "    }\n",
       "\n",
       "    .dataframe thead th {\n",
       "        text-align: right;\n",
       "    }\n",
       "</style>\n",
       "<table border=\"1\" class=\"dataframe\">\n",
       "  <thead>\n",
       "    <tr style=\"text-align: right;\">\n",
       "      <th>review_profilename</th>\n",
       "      <th>1759Girl</th>\n",
       "      <th>1fastz28</th>\n",
       "      <th>3Vandoo</th>\n",
       "      <th>4000qtrap</th>\n",
       "      <th>4DAloveofSTOUT</th>\n",
       "      <th>99bottles</th>\n",
       "      <th>9InchNails</th>\n",
       "      <th>AChamberlain</th>\n",
       "      <th>ADR</th>\n",
       "      <th>ADZA</th>\n",
       "      <th>...</th>\n",
       "      <th>zdk9</th>\n",
       "      <th>zeff80</th>\n",
       "      <th>zeledonia</th>\n",
       "      <th>zerk</th>\n",
       "      <th>zhanson88</th>\n",
       "      <th>zimm421</th>\n",
       "      <th>zoolzoo</th>\n",
       "      <th>zoso1967</th>\n",
       "      <th>zoso493</th>\n",
       "      <th>zrab11</th>\n",
       "    </tr>\n",
       "    <tr>\n",
       "      <th>beer_beerid</th>\n",
       "      <th></th>\n",
       "      <th></th>\n",
       "      <th></th>\n",
       "      <th></th>\n",
       "      <th></th>\n",
       "      <th></th>\n",
       "      <th></th>\n",
       "      <th></th>\n",
       "      <th></th>\n",
       "      <th></th>\n",
       "      <th></th>\n",
       "      <th></th>\n",
       "      <th></th>\n",
       "      <th></th>\n",
       "      <th></th>\n",
       "      <th></th>\n",
       "      <th></th>\n",
       "      <th></th>\n",
       "      <th></th>\n",
       "      <th></th>\n",
       "      <th></th>\n",
       "    </tr>\n",
       "  </thead>\n",
       "  <tbody>\n",
       "    <tr>\n",
       "      <th>5</th>\n",
       "      <td>NaN</td>\n",
       "      <td>NaN</td>\n",
       "      <td>NaN</td>\n",
       "      <td>NaN</td>\n",
       "      <td>NaN</td>\n",
       "      <td>NaN</td>\n",
       "      <td>NaN</td>\n",
       "      <td>NaN</td>\n",
       "      <td>NaN</td>\n",
       "      <td>NaN</td>\n",
       "      <td>...</td>\n",
       "      <td>NaN</td>\n",
       "      <td>-0.025862</td>\n",
       "      <td>NaN</td>\n",
       "      <td>NaN</td>\n",
       "      <td>NaN</td>\n",
       "      <td>NaN</td>\n",
       "      <td>NaN</td>\n",
       "      <td>NaN</td>\n",
       "      <td>NaN</td>\n",
       "      <td>NaN</td>\n",
       "    </tr>\n",
       "    <tr>\n",
       "      <th>6</th>\n",
       "      <td>NaN</td>\n",
       "      <td>-0.156250</td>\n",
       "      <td>NaN</td>\n",
       "      <td>NaN</td>\n",
       "      <td>NaN</td>\n",
       "      <td>NaN</td>\n",
       "      <td>NaN</td>\n",
       "      <td>NaN</td>\n",
       "      <td>NaN</td>\n",
       "      <td>NaN</td>\n",
       "      <td>...</td>\n",
       "      <td>NaN</td>\n",
       "      <td>-0.656250</td>\n",
       "      <td>NaN</td>\n",
       "      <td>NaN</td>\n",
       "      <td>NaN</td>\n",
       "      <td>NaN</td>\n",
       "      <td>NaN</td>\n",
       "      <td>NaN</td>\n",
       "      <td>NaN</td>\n",
       "      <td>NaN</td>\n",
       "    </tr>\n",
       "    <tr>\n",
       "      <th>7</th>\n",
       "      <td>NaN</td>\n",
       "      <td>NaN</td>\n",
       "      <td>NaN</td>\n",
       "      <td>NaN</td>\n",
       "      <td>NaN</td>\n",
       "      <td>NaN</td>\n",
       "      <td>NaN</td>\n",
       "      <td>NaN</td>\n",
       "      <td>NaN</td>\n",
       "      <td>NaN</td>\n",
       "      <td>...</td>\n",
       "      <td>NaN</td>\n",
       "      <td>NaN</td>\n",
       "      <td>NaN</td>\n",
       "      <td>NaN</td>\n",
       "      <td>NaN</td>\n",
       "      <td>NaN</td>\n",
       "      <td>NaN</td>\n",
       "      <td>NaN</td>\n",
       "      <td>NaN</td>\n",
       "      <td>NaN</td>\n",
       "    </tr>\n",
       "    <tr>\n",
       "      <th>10</th>\n",
       "      <td>NaN</td>\n",
       "      <td>0.146789</td>\n",
       "      <td>NaN</td>\n",
       "      <td>NaN</td>\n",
       "      <td>NaN</td>\n",
       "      <td>NaN</td>\n",
       "      <td>0.146789</td>\n",
       "      <td>NaN</td>\n",
       "      <td>NaN</td>\n",
       "      <td>NaN</td>\n",
       "      <td>...</td>\n",
       "      <td>NaN</td>\n",
       "      <td>NaN</td>\n",
       "      <td>NaN</td>\n",
       "      <td>NaN</td>\n",
       "      <td>NaN</td>\n",
       "      <td>NaN</td>\n",
       "      <td>NaN</td>\n",
       "      <td>NaN</td>\n",
       "      <td>NaN</td>\n",
       "      <td>NaN</td>\n",
       "    </tr>\n",
       "    <tr>\n",
       "      <th>14</th>\n",
       "      <td>NaN</td>\n",
       "      <td>NaN</td>\n",
       "      <td>NaN</td>\n",
       "      <td>NaN</td>\n",
       "      <td>NaN</td>\n",
       "      <td>NaN</td>\n",
       "      <td>NaN</td>\n",
       "      <td>NaN</td>\n",
       "      <td>NaN</td>\n",
       "      <td>NaN</td>\n",
       "      <td>...</td>\n",
       "      <td>NaN</td>\n",
       "      <td>0.285714</td>\n",
       "      <td>NaN</td>\n",
       "      <td>NaN</td>\n",
       "      <td>NaN</td>\n",
       "      <td>NaN</td>\n",
       "      <td>NaN</td>\n",
       "      <td>NaN</td>\n",
       "      <td>NaN</td>\n",
       "      <td>NaN</td>\n",
       "    </tr>\n",
       "  </tbody>\n",
       "</table>\n",
       "<p>5 rows × 2186 columns</p>\n",
       "</div>"
      ],
      "text/plain": [
       "review_profilename  1759Girl  1fastz28  3Vandoo  4000qtrap  4DAloveofSTOUT  \\\n",
       "beer_beerid                                                                  \n",
       "5                        NaN       NaN      NaN        NaN             NaN   \n",
       "6                        NaN -0.156250      NaN        NaN             NaN   \n",
       "7                        NaN       NaN      NaN        NaN             NaN   \n",
       "10                       NaN  0.146789      NaN        NaN             NaN   \n",
       "14                       NaN       NaN      NaN        NaN             NaN   \n",
       "\n",
       "review_profilename  99bottles  9InchNails  AChamberlain  ADR  ADZA  ...  zdk9  \\\n",
       "beer_beerid                                                         ...         \n",
       "5                         NaN         NaN           NaN  NaN   NaN  ...   NaN   \n",
       "6                         NaN         NaN           NaN  NaN   NaN  ...   NaN   \n",
       "7                         NaN         NaN           NaN  NaN   NaN  ...   NaN   \n",
       "10                        NaN    0.146789           NaN  NaN   NaN  ...   NaN   \n",
       "14                        NaN         NaN           NaN  NaN   NaN  ...   NaN   \n",
       "\n",
       "review_profilename    zeff80  zeledonia  zerk  zhanson88  zimm421  zoolzoo  \\\n",
       "beer_beerid                                                                  \n",
       "5                  -0.025862        NaN   NaN        NaN      NaN      NaN   \n",
       "6                  -0.656250        NaN   NaN        NaN      NaN      NaN   \n",
       "7                        NaN        NaN   NaN        NaN      NaN      NaN   \n",
       "10                       NaN        NaN   NaN        NaN      NaN      NaN   \n",
       "14                  0.285714        NaN   NaN        NaN      NaN      NaN   \n",
       "\n",
       "review_profilename  zoso1967  zoso493  zrab11  \n",
       "beer_beerid                                    \n",
       "5                        NaN      NaN     NaN  \n",
       "6                        NaN      NaN     NaN  \n",
       "7                        NaN      NaN     NaN  \n",
       "10                       NaN      NaN     NaN  \n",
       "14                       NaN      NaN     NaN  \n",
       "\n",
       "[5 rows x 2186 columns]"
      ]
     },
     "execution_count": 67,
     "metadata": {},
     "output_type": "execute_result"
    }
   ],
   "source": [
    "beeradj_subtracted.head()"
   ]
  },
  {
   "cell_type": "markdown",
   "metadata": {},
   "source": [
    "Using Similarity Matrix"
   ]
  },
  {
   "cell_type": "code",
   "execution_count": 68,
   "metadata": {},
   "outputs": [
    {
     "name": "stdout",
     "output_type": "stream",
     "text": [
      "[[ 1.00000000e+00 -3.81534802e-02  9.08590358e-02 ... -1.05950047e-02\n",
      "   1.73744994e-02 -6.95896157e-04]\n",
      " [-3.81534802e-02  1.00000000e+00  5.28395490e-02 ...  1.25138851e-01\n",
      "   4.86840418e-03 -5.42449163e-02]\n",
      " [ 9.08590358e-02  5.28395490e-02  1.00000000e+00 ... -5.85382955e-03\n",
      "  -5.82069334e-05  5.46132035e-02]\n",
      " ...\n",
      " [-1.05950047e-02  1.25138851e-01 -5.85382955e-03 ...  1.00000000e+00\n",
      "  -1.16105819e-02  8.86700703e-03]\n",
      " [ 1.73744994e-02  4.86840418e-03 -5.82069334e-05 ... -1.16105819e-02\n",
      "   1.00000000e+00 -9.01779985e-03]\n",
      " [-6.95896157e-04 -5.42449163e-02  5.46132035e-02 ...  8.86700703e-03\n",
      "  -9.01779985e-03  1.00000000e+00]]\n"
     ]
    }
   ],
   "source": [
    "from sklearn.metrics.pairwise import pairwise_distances\n",
    "\n",
    "# User Similarity Matrix\n",
    "item_correlation = 1 - pairwise_distances(beeradj_subtracted.fillna(0), metric='cosine')\n",
    "item_correlation[np.isnan(item_correlation)] = 0\n",
    "print(item_correlation)"
   ]
  },
  {
   "cell_type": "markdown",
   "metadata": {},
   "source": [
    "Prediction"
   ]
  },
  {
   "cell_type": "code",
   "execution_count": 69,
   "metadata": {},
   "outputs": [
    {
     "data": {
      "text/plain": [
       "array([[1.        , 0.        , 0.09085904, ..., 0.        , 0.0173745 ,\n",
       "        0.        ],\n",
       "       [0.        , 1.        , 0.05283955, ..., 0.12513885, 0.0048684 ,\n",
       "        0.        ],\n",
       "       [0.09085904, 0.05283955, 1.        , ..., 0.        , 0.        ,\n",
       "        0.0546132 ],\n",
       "       ...,\n",
       "       [0.        , 0.12513885, 0.        , ..., 1.        , 0.        ,\n",
       "        0.00886701],\n",
       "       [0.0173745 , 0.0048684 , 0.        , ..., 0.        , 1.        ,\n",
       "        0.        ],\n",
       "       [0.        , 0.        , 0.0546132 , ..., 0.00886701, 0.        ,\n",
       "        1.        ]])"
      ]
     },
     "execution_count": 69,
     "metadata": {},
     "output_type": "execute_result"
    }
   ],
   "source": [
    "item_correlation[item_correlation<0]=0\n",
    "item_correlation"
   ]
  },
  {
   "cell_type": "code",
   "execution_count": 70,
   "metadata": {},
   "outputs": [
    {
     "data": {
      "text/plain": [
       "array([[ 0.13869868, -0.00308189,  0.04365041, ...,  0.05397453,\n",
       "        -0.04647746, -0.04336397],\n",
       "       [ 0.36943549, -0.25542734, -0.0557919 , ...,  0.48208567,\n",
       "        -0.01612503, -0.02783171],\n",
       "       [ 0.01714814,  0.0098575 , -0.00465328, ...,  0.06327759,\n",
       "        -0.00689453,  0.02097322],\n",
       "       ...,\n",
       "       [ 0.14521876,  0.01591127,  0.04988823, ...,  0.00831826,\n",
       "        -0.05391935, -0.05466459],\n",
       "       [ 0.00903384,  0.02366024, -0.01587585, ...,  0.06412841,\n",
       "         0.07939288, -0.00452816],\n",
       "       [ 0.19338614, -0.0138818 ,  0.03034835, ...,  0.02353169,\n",
       "         0.01989423, -0.0237197 ]])"
      ]
     },
     "execution_count": 70,
     "metadata": {},
     "output_type": "execute_result"
    }
   ],
   "source": [
    "item_predicted_ratings = np.dot((beeradj_subtracted.fillna(0).T),item_correlation)\n",
    "item_predicted_ratings"
   ]
  },
  {
   "cell_type": "code",
   "execution_count": 71,
   "metadata": {},
   "outputs": [
    {
     "data": {
      "text/plain": [
       "(2186, 2499)"
      ]
     },
     "execution_count": 71,
     "metadata": {},
     "output_type": "execute_result"
    }
   ],
   "source": [
    "item_predicted_ratings.shape"
   ]
  },
  {
   "cell_type": "code",
   "execution_count": 72,
   "metadata": {},
   "outputs": [
    {
     "data": {
      "text/plain": [
       "(2186, 2499)"
      ]
     },
     "execution_count": 72,
     "metadata": {},
     "output_type": "execute_result"
    }
   ],
   "source": [
    "dummy_train.shape"
   ]
  },
  {
   "cell_type": "code",
   "execution_count": 73,
   "metadata": {},
   "outputs": [
    {
     "data": {
      "text/plain": [
       "(2186, 2499)"
      ]
     },
     "execution_count": 73,
     "metadata": {},
     "output_type": "execute_result"
    }
   ],
   "source": [
    "dummy_test.shape"
   ]
  },
  {
   "cell_type": "code",
   "execution_count": 74,
   "metadata": {},
   "outputs": [
    {
     "data": {
      "text/html": [
       "<div>\n",
       "<style scoped>\n",
       "    .dataframe tbody tr th:only-of-type {\n",
       "        vertical-align: middle;\n",
       "    }\n",
       "\n",
       "    .dataframe tbody tr th {\n",
       "        vertical-align: top;\n",
       "    }\n",
       "\n",
       "    .dataframe thead th {\n",
       "        text-align: right;\n",
       "    }\n",
       "</style>\n",
       "<table border=\"1\" class=\"dataframe\">\n",
       "  <thead>\n",
       "    <tr style=\"text-align: right;\">\n",
       "      <th>beer_beerid</th>\n",
       "      <th>5</th>\n",
       "      <th>6</th>\n",
       "      <th>7</th>\n",
       "      <th>10</th>\n",
       "      <th>14</th>\n",
       "      <th>15</th>\n",
       "      <th>17</th>\n",
       "      <th>19</th>\n",
       "      <th>30</th>\n",
       "      <th>31</th>\n",
       "      <th>...</th>\n",
       "      <th>74123</th>\n",
       "      <th>74272</th>\n",
       "      <th>74321</th>\n",
       "      <th>74323</th>\n",
       "      <th>74390</th>\n",
       "      <th>74530</th>\n",
       "      <th>74548</th>\n",
       "      <th>74579</th>\n",
       "      <th>74986</th>\n",
       "      <th>75086</th>\n",
       "    </tr>\n",
       "    <tr>\n",
       "      <th>review_profilename</th>\n",
       "      <th></th>\n",
       "      <th></th>\n",
       "      <th></th>\n",
       "      <th></th>\n",
       "      <th></th>\n",
       "      <th></th>\n",
       "      <th></th>\n",
       "      <th></th>\n",
       "      <th></th>\n",
       "      <th></th>\n",
       "      <th></th>\n",
       "      <th></th>\n",
       "      <th></th>\n",
       "      <th></th>\n",
       "      <th></th>\n",
       "      <th></th>\n",
       "      <th></th>\n",
       "      <th></th>\n",
       "      <th></th>\n",
       "      <th></th>\n",
       "      <th></th>\n",
       "    </tr>\n",
       "  </thead>\n",
       "  <tbody>\n",
       "    <tr>\n",
       "      <th>1759Girl</th>\n",
       "      <td>0.138699</td>\n",
       "      <td>-0.003082</td>\n",
       "      <td>0.043650</td>\n",
       "      <td>-0.004543</td>\n",
       "      <td>-0.066743</td>\n",
       "      <td>-0.008668</td>\n",
       "      <td>0.041795</td>\n",
       "      <td>0.014568</td>\n",
       "      <td>0.025625</td>\n",
       "      <td>-0.061371</td>\n",
       "      <td>...</td>\n",
       "      <td>-0.135255</td>\n",
       "      <td>-0.066462</td>\n",
       "      <td>-0.023996</td>\n",
       "      <td>-0.092856</td>\n",
       "      <td>-0.059137</td>\n",
       "      <td>0.019262</td>\n",
       "      <td>0.069031</td>\n",
       "      <td>0.053975</td>\n",
       "      <td>-0.046477</td>\n",
       "      <td>-0.043364</td>\n",
       "    </tr>\n",
       "    <tr>\n",
       "      <th>1fastz28</th>\n",
       "      <td>0.369435</td>\n",
       "      <td>-0.000000</td>\n",
       "      <td>-0.055792</td>\n",
       "      <td>0.000000</td>\n",
       "      <td>0.029705</td>\n",
       "      <td>0.169072</td>\n",
       "      <td>0.122394</td>\n",
       "      <td>-0.005985</td>\n",
       "      <td>0.119369</td>\n",
       "      <td>0.147370</td>\n",
       "      <td>...</td>\n",
       "      <td>-0.000000</td>\n",
       "      <td>0.061339</td>\n",
       "      <td>0.056731</td>\n",
       "      <td>0.009842</td>\n",
       "      <td>-0.012552</td>\n",
       "      <td>-0.088026</td>\n",
       "      <td>-0.079199</td>\n",
       "      <td>0.482086</td>\n",
       "      <td>-0.016125</td>\n",
       "      <td>-0.027832</td>\n",
       "    </tr>\n",
       "    <tr>\n",
       "      <th>3Vandoo</th>\n",
       "      <td>0.017148</td>\n",
       "      <td>0.009858</td>\n",
       "      <td>-0.004653</td>\n",
       "      <td>0.121189</td>\n",
       "      <td>-0.161151</td>\n",
       "      <td>0.049843</td>\n",
       "      <td>0.104421</td>\n",
       "      <td>0.106999</td>\n",
       "      <td>0.099989</td>\n",
       "      <td>-0.003896</td>\n",
       "      <td>...</td>\n",
       "      <td>0.030278</td>\n",
       "      <td>0.021506</td>\n",
       "      <td>0.030671</td>\n",
       "      <td>0.057161</td>\n",
       "      <td>-0.053530</td>\n",
       "      <td>-0.005953</td>\n",
       "      <td>0.046256</td>\n",
       "      <td>0.063278</td>\n",
       "      <td>-0.006895</td>\n",
       "      <td>0.020973</td>\n",
       "    </tr>\n",
       "    <tr>\n",
       "      <th>4000qtrap</th>\n",
       "      <td>-0.139791</td>\n",
       "      <td>-0.081949</td>\n",
       "      <td>-0.038828</td>\n",
       "      <td>0.046512</td>\n",
       "      <td>0.009975</td>\n",
       "      <td>0.014868</td>\n",
       "      <td>0.003762</td>\n",
       "      <td>0.054818</td>\n",
       "      <td>-0.076206</td>\n",
       "      <td>0.099480</td>\n",
       "      <td>...</td>\n",
       "      <td>0.035091</td>\n",
       "      <td>0.074355</td>\n",
       "      <td>-0.175845</td>\n",
       "      <td>0.024242</td>\n",
       "      <td>-0.027100</td>\n",
       "      <td>0.047021</td>\n",
       "      <td>0.011525</td>\n",
       "      <td>0.074820</td>\n",
       "      <td>0.000000</td>\n",
       "      <td>0.011409</td>\n",
       "    </tr>\n",
       "    <tr>\n",
       "      <th>4DAloveofSTOUT</th>\n",
       "      <td>-0.129669</td>\n",
       "      <td>-0.034697</td>\n",
       "      <td>-0.042665</td>\n",
       "      <td>-0.004226</td>\n",
       "      <td>-0.054399</td>\n",
       "      <td>-0.078275</td>\n",
       "      <td>0.027048</td>\n",
       "      <td>0.027214</td>\n",
       "      <td>0.047774</td>\n",
       "      <td>0.126145</td>\n",
       "      <td>...</td>\n",
       "      <td>-0.018647</td>\n",
       "      <td>-0.020150</td>\n",
       "      <td>0.062970</td>\n",
       "      <td>-0.014319</td>\n",
       "      <td>-0.029186</td>\n",
       "      <td>-0.020948</td>\n",
       "      <td>-0.025124</td>\n",
       "      <td>-0.013495</td>\n",
       "      <td>-0.173303</td>\n",
       "      <td>-0.008844</td>\n",
       "    </tr>\n",
       "  </tbody>\n",
       "</table>\n",
       "<p>5 rows × 2499 columns</p>\n",
       "</div>"
      ],
      "text/plain": [
       "beer_beerid            5         6         7         10        14     \\\n",
       "review_profilename                                                     \n",
       "1759Girl            0.138699 -0.003082  0.043650 -0.004543 -0.066743   \n",
       "1fastz28            0.369435 -0.000000 -0.055792  0.000000  0.029705   \n",
       "3Vandoo             0.017148  0.009858 -0.004653  0.121189 -0.161151   \n",
       "4000qtrap          -0.139791 -0.081949 -0.038828  0.046512  0.009975   \n",
       "4DAloveofSTOUT     -0.129669 -0.034697 -0.042665 -0.004226 -0.054399   \n",
       "\n",
       "beer_beerid            15        17        19        30        31     ...  \\\n",
       "review_profilename                                                    ...   \n",
       "1759Girl           -0.008668  0.041795  0.014568  0.025625 -0.061371  ...   \n",
       "1fastz28            0.169072  0.122394 -0.005985  0.119369  0.147370  ...   \n",
       "3Vandoo             0.049843  0.104421  0.106999  0.099989 -0.003896  ...   \n",
       "4000qtrap           0.014868  0.003762  0.054818 -0.076206  0.099480  ...   \n",
       "4DAloveofSTOUT     -0.078275  0.027048  0.027214  0.047774  0.126145  ...   \n",
       "\n",
       "beer_beerid            74123     74272     74321     74323     74390  \\\n",
       "review_profilename                                                     \n",
       "1759Girl           -0.135255 -0.066462 -0.023996 -0.092856 -0.059137   \n",
       "1fastz28           -0.000000  0.061339  0.056731  0.009842 -0.012552   \n",
       "3Vandoo             0.030278  0.021506  0.030671  0.057161 -0.053530   \n",
       "4000qtrap           0.035091  0.074355 -0.175845  0.024242 -0.027100   \n",
       "4DAloveofSTOUT     -0.018647 -0.020150  0.062970 -0.014319 -0.029186   \n",
       "\n",
       "beer_beerid            74530     74548     74579     74986     75086  \n",
       "review_profilename                                                    \n",
       "1759Girl            0.019262  0.069031  0.053975 -0.046477 -0.043364  \n",
       "1fastz28           -0.088026 -0.079199  0.482086 -0.016125 -0.027832  \n",
       "3Vandoo            -0.005953  0.046256  0.063278 -0.006895  0.020973  \n",
       "4000qtrap           0.047021  0.011525  0.074820  0.000000  0.011409  \n",
       "4DAloveofSTOUT     -0.020948 -0.025124 -0.013495 -0.173303 -0.008844  \n",
       "\n",
       "[5 rows x 2499 columns]"
      ]
     },
     "execution_count": 74,
     "metadata": {},
     "output_type": "execute_result"
    }
   ],
   "source": [
    "item_final_rating = np.multiply(item_predicted_ratings,dummy_train)\n",
    "item_final_rating.head()"
   ]
  },
  {
   "cell_type": "code",
   "execution_count": 75,
   "metadata": {},
   "outputs": [
    {
     "data": {
      "text/html": [
       "<div>\n",
       "<style scoped>\n",
       "    .dataframe tbody tr th:only-of-type {\n",
       "        vertical-align: middle;\n",
       "    }\n",
       "\n",
       "    .dataframe tbody tr th {\n",
       "        vertical-align: top;\n",
       "    }\n",
       "\n",
       "    .dataframe thead th {\n",
       "        text-align: right;\n",
       "    }\n",
       "</style>\n",
       "<table border=\"1\" class=\"dataframe\">\n",
       "  <thead>\n",
       "    <tr style=\"text-align: right;\">\n",
       "      <th>beer_beerid</th>\n",
       "      <th>5</th>\n",
       "      <th>6</th>\n",
       "      <th>7</th>\n",
       "      <th>10</th>\n",
       "      <th>14</th>\n",
       "      <th>15</th>\n",
       "      <th>17</th>\n",
       "      <th>19</th>\n",
       "      <th>30</th>\n",
       "      <th>31</th>\n",
       "    </tr>\n",
       "    <tr>\n",
       "      <th>review_profilename</th>\n",
       "      <th></th>\n",
       "      <th></th>\n",
       "      <th></th>\n",
       "      <th></th>\n",
       "      <th></th>\n",
       "      <th></th>\n",
       "      <th></th>\n",
       "      <th></th>\n",
       "      <th></th>\n",
       "      <th></th>\n",
       "    </tr>\n",
       "  </thead>\n",
       "  <tbody>\n",
       "    <tr>\n",
       "      <th>1759Girl</th>\n",
       "      <td>0.138699</td>\n",
       "      <td>-0.003082</td>\n",
       "      <td>0.043650</td>\n",
       "      <td>-0.004543</td>\n",
       "      <td>-0.066743</td>\n",
       "      <td>-0.008668</td>\n",
       "      <td>0.041795</td>\n",
       "      <td>0.014568</td>\n",
       "      <td>0.025625</td>\n",
       "      <td>-0.061371</td>\n",
       "    </tr>\n",
       "    <tr>\n",
       "      <th>1fastz28</th>\n",
       "      <td>0.369435</td>\n",
       "      <td>-0.000000</td>\n",
       "      <td>-0.055792</td>\n",
       "      <td>0.000000</td>\n",
       "      <td>0.029705</td>\n",
       "      <td>0.169072</td>\n",
       "      <td>0.122394</td>\n",
       "      <td>-0.005985</td>\n",
       "      <td>0.119369</td>\n",
       "      <td>0.147370</td>\n",
       "    </tr>\n",
       "    <tr>\n",
       "      <th>3Vandoo</th>\n",
       "      <td>0.017148</td>\n",
       "      <td>0.009858</td>\n",
       "      <td>-0.004653</td>\n",
       "      <td>0.121189</td>\n",
       "      <td>-0.161151</td>\n",
       "      <td>0.049843</td>\n",
       "      <td>0.104421</td>\n",
       "      <td>0.106999</td>\n",
       "      <td>0.099989</td>\n",
       "      <td>-0.003896</td>\n",
       "    </tr>\n",
       "    <tr>\n",
       "      <th>4000qtrap</th>\n",
       "      <td>-0.139791</td>\n",
       "      <td>-0.081949</td>\n",
       "      <td>-0.038828</td>\n",
       "      <td>0.046512</td>\n",
       "      <td>0.009975</td>\n",
       "      <td>0.014868</td>\n",
       "      <td>0.003762</td>\n",
       "      <td>0.054818</td>\n",
       "      <td>-0.076206</td>\n",
       "      <td>0.099480</td>\n",
       "    </tr>\n",
       "    <tr>\n",
       "      <th>4DAloveofSTOUT</th>\n",
       "      <td>-0.129669</td>\n",
       "      <td>-0.034697</td>\n",
       "      <td>-0.042665</td>\n",
       "      <td>-0.004226</td>\n",
       "      <td>-0.054399</td>\n",
       "      <td>-0.078275</td>\n",
       "      <td>0.027048</td>\n",
       "      <td>0.027214</td>\n",
       "      <td>0.047774</td>\n",
       "      <td>0.126145</td>\n",
       "    </tr>\n",
       "    <tr>\n",
       "      <th>99bottles</th>\n",
       "      <td>0.132932</td>\n",
       "      <td>0.078795</td>\n",
       "      <td>0.057653</td>\n",
       "      <td>0.065215</td>\n",
       "      <td>0.177921</td>\n",
       "      <td>0.143680</td>\n",
       "      <td>0.079566</td>\n",
       "      <td>0.021144</td>\n",
       "      <td>0.036929</td>\n",
       "      <td>0.138526</td>\n",
       "    </tr>\n",
       "    <tr>\n",
       "      <th>9InchNails</th>\n",
       "      <td>-0.180000</td>\n",
       "      <td>-0.133231</td>\n",
       "      <td>-0.258888</td>\n",
       "      <td>0.000000</td>\n",
       "      <td>0.023373</td>\n",
       "      <td>-0.051081</td>\n",
       "      <td>-0.326699</td>\n",
       "      <td>-0.165532</td>\n",
       "      <td>-0.141480</td>\n",
       "      <td>-0.111925</td>\n",
       "    </tr>\n",
       "    <tr>\n",
       "      <th>AChamberlain</th>\n",
       "      <td>0.093666</td>\n",
       "      <td>0.145290</td>\n",
       "      <td>0.181417</td>\n",
       "      <td>0.104829</td>\n",
       "      <td>-0.186830</td>\n",
       "      <td>-0.138391</td>\n",
       "      <td>0.053041</td>\n",
       "      <td>-0.045168</td>\n",
       "      <td>-0.060460</td>\n",
       "      <td>0.023563</td>\n",
       "    </tr>\n",
       "    <tr>\n",
       "      <th>ADR</th>\n",
       "      <td>-0.057573</td>\n",
       "      <td>0.105821</td>\n",
       "      <td>0.035133</td>\n",
       "      <td>-0.006817</td>\n",
       "      <td>-0.053844</td>\n",
       "      <td>-0.123807</td>\n",
       "      <td>-0.052528</td>\n",
       "      <td>-0.219307</td>\n",
       "      <td>0.000000</td>\n",
       "      <td>-0.148146</td>\n",
       "    </tr>\n",
       "    <tr>\n",
       "      <th>ADZA</th>\n",
       "      <td>0.082475</td>\n",
       "      <td>-0.007834</td>\n",
       "      <td>-0.023326</td>\n",
       "      <td>0.113203</td>\n",
       "      <td>-0.056032</td>\n",
       "      <td>-0.014506</td>\n",
       "      <td>-0.016108</td>\n",
       "      <td>-0.027657</td>\n",
       "      <td>0.034883</td>\n",
       "      <td>-0.039119</td>\n",
       "    </tr>\n",
       "  </tbody>\n",
       "</table>\n",
       "</div>"
      ],
      "text/plain": [
       "beer_beerid               5         6         7         10        14  \\\n",
       "review_profilename                                                     \n",
       "1759Girl            0.138699 -0.003082  0.043650 -0.004543 -0.066743   \n",
       "1fastz28            0.369435 -0.000000 -0.055792  0.000000  0.029705   \n",
       "3Vandoo             0.017148  0.009858 -0.004653  0.121189 -0.161151   \n",
       "4000qtrap          -0.139791 -0.081949 -0.038828  0.046512  0.009975   \n",
       "4DAloveofSTOUT     -0.129669 -0.034697 -0.042665 -0.004226 -0.054399   \n",
       "99bottles           0.132932  0.078795  0.057653  0.065215  0.177921   \n",
       "9InchNails         -0.180000 -0.133231 -0.258888  0.000000  0.023373   \n",
       "AChamberlain        0.093666  0.145290  0.181417  0.104829 -0.186830   \n",
       "ADR                -0.057573  0.105821  0.035133 -0.006817 -0.053844   \n",
       "ADZA                0.082475 -0.007834 -0.023326  0.113203 -0.056032   \n",
       "\n",
       "beer_beerid               15        17        19        30        31  \n",
       "review_profilename                                                    \n",
       "1759Girl           -0.008668  0.041795  0.014568  0.025625 -0.061371  \n",
       "1fastz28            0.169072  0.122394 -0.005985  0.119369  0.147370  \n",
       "3Vandoo             0.049843  0.104421  0.106999  0.099989 -0.003896  \n",
       "4000qtrap           0.014868  0.003762  0.054818 -0.076206  0.099480  \n",
       "4DAloveofSTOUT     -0.078275  0.027048  0.027214  0.047774  0.126145  \n",
       "99bottles           0.143680  0.079566  0.021144  0.036929  0.138526  \n",
       "9InchNails         -0.051081 -0.326699 -0.165532 -0.141480 -0.111925  \n",
       "AChamberlain       -0.138391  0.053041 -0.045168 -0.060460  0.023563  \n",
       "ADR                -0.123807 -0.052528 -0.219307  0.000000 -0.148146  \n",
       "ADZA               -0.014506 -0.016108 -0.027657  0.034883 -0.039119  "
      ]
     },
     "execution_count": 75,
     "metadata": {},
     "output_type": "execute_result"
    }
   ],
   "source": [
    "first_users = item_final_rating.iloc[:10,:10]\n",
    "first_users "
   ]
  },
  {
   "cell_type": "code",
   "execution_count": 76,
   "metadata": {},
   "outputs": [
    {
     "data": {
      "text/plain": [
       "<bound method DataFrame.corr of review_profilename  1759Girl  1fastz28   3Vandoo  4000qtrap  4DAloveofSTOUT  \\\n",
       "beer_beerid                                                                   \n",
       "5                   0.138699  0.369435  0.017148  -0.139791       -0.129669   \n",
       "6                  -0.003082 -0.000000  0.009858  -0.081949       -0.034697   \n",
       "7                   0.043650 -0.055792 -0.004653  -0.038828       -0.042665   \n",
       "10                 -0.004543  0.000000  0.121189   0.046512       -0.004226   \n",
       "14                 -0.066743  0.029705 -0.161151   0.009975       -0.054399   \n",
       "15                 -0.008668  0.169072  0.049843   0.014868       -0.078275   \n",
       "17                  0.041795  0.122394  0.104421   0.003762        0.027048   \n",
       "19                  0.014568 -0.005985  0.106999   0.054818        0.027214   \n",
       "30                  0.025625  0.119369  0.099989  -0.076206        0.047774   \n",
       "31                 -0.061371  0.147370 -0.003896   0.099480        0.126145   \n",
       "\n",
       "review_profilename  99bottles  9InchNails  AChamberlain       ADR      ADZA  \n",
       "beer_beerid                                                                  \n",
       "5                    0.132932   -0.180000      0.093666 -0.057573  0.082475  \n",
       "6                    0.078795   -0.133231      0.145290  0.105821 -0.007834  \n",
       "7                    0.057653   -0.258888      0.181417  0.035133 -0.023326  \n",
       "10                   0.065215    0.000000      0.104829 -0.006817  0.113203  \n",
       "14                   0.177921    0.023373     -0.186830 -0.053844 -0.056032  \n",
       "15                   0.143680   -0.051081     -0.138391 -0.123807 -0.014506  \n",
       "17                   0.079566   -0.326699      0.053041 -0.052528 -0.016108  \n",
       "19                   0.021144   -0.165532     -0.045168 -0.219307 -0.027657  \n",
       "30                   0.036929   -0.141480     -0.060460  0.000000  0.034883  \n",
       "31                   0.138526   -0.111925      0.023563 -0.148146 -0.039119  >"
      ]
     },
     "execution_count": 76,
     "metadata": {},
     "output_type": "execute_result"
    }
   ],
   "source": [
    "#finding correlation\n",
    "corr_item=first_users.T.corr\n",
    "corr_item"
   ]
  },
  {
   "cell_type": "code",
   "execution_count": 77,
   "metadata": {},
   "outputs": [
    {
     "data": {
      "image/png": "[encoded data removed]",
      "text/plain": [
       "<Figure size 864x576 with 2 Axes>"
      ]
     },
     "metadata": {
      "needs_background": "light"
     },
     "output_type": "display_data"
    }
   ],
   "source": [
    "#drawing a correlation map for the first ten users based on item based similarity\n",
    "plt.figure(figsize=(12,8))\n",
    "sns.heatmap(first_users.T.corr(method ='pearson'),annot=True,cmap='YlGnBu')\n",
    "plt.show()"
   ]
  },
  {
   "cell_type": "markdown",
   "metadata": {},
   "source": [
    " ### Evaluation-Item Based Similarity"
   ]
  },
  {
   "cell_type": "code",
   "execution_count": 78,
   "metadata": {},
   "outputs": [],
   "source": [
    "test_beer_item = test.pivot_table(index='review_profilename',columns='beer_beerid',values='reviews').T"
   ]
  },
  {
   "cell_type": "code",
   "execution_count": 79,
   "metadata": {},
   "outputs": [],
   "source": [
    "mean = np.nanmean(test_beer_item, axis=1)\n",
    "test_df_subtracted = (test_beer_item.T-mean).T"
   ]
  },
  {
   "cell_type": "code",
   "execution_count": 80,
   "metadata": {},
   "outputs": [],
   "source": [
    "test_item_correlation = 1 - pairwise_distances(test_df_subtracted.fillna(0), metric='cosine')\n",
    "test_item_correlation[np.isnan(test_item_correlation)] = 0\n",
    "test_item_correlation[test_item_correlation<0]=0"
   ]
  },
  {
   "cell_type": "code",
   "execution_count": 81,
   "metadata": {},
   "outputs": [
    {
     "data": {
      "text/plain": [
       "(2499, 2186)"
      ]
     },
     "execution_count": 81,
     "metadata": {},
     "output_type": "execute_result"
    }
   ],
   "source": [
    "test_beer_item.shape"
   ]
  },
  {
   "cell_type": "code",
   "execution_count": 82,
   "metadata": {},
   "outputs": [
    {
     "data": {
      "text/plain": [
       "(2499, 2499)"
      ]
     },
     "execution_count": 82,
     "metadata": {},
     "output_type": "execute_result"
    }
   ],
   "source": [
    "test_item_correlation.shape"
   ]
  },
  {
   "cell_type": "markdown",
   "metadata": {},
   "source": [
    "### Prediction -Evalutaion"
   ]
  },
  {
   "cell_type": "code",
   "execution_count": 83,
   "metadata": {},
   "outputs": [
    {
     "data": {
      "text/html": [
       "<div>\n",
       "<style scoped>\n",
       "    .dataframe tbody tr th:only-of-type {\n",
       "        vertical-align: middle;\n",
       "    }\n",
       "\n",
       "    .dataframe tbody tr th {\n",
       "        vertical-align: top;\n",
       "    }\n",
       "\n",
       "    .dataframe thead th {\n",
       "        text-align: right;\n",
       "    }\n",
       "</style>\n",
       "<table border=\"1\" class=\"dataframe\">\n",
       "  <thead>\n",
       "    <tr style=\"text-align: right;\">\n",
       "      <th>beer_beerid</th>\n",
       "      <th>5</th>\n",
       "      <th>6</th>\n",
       "      <th>7</th>\n",
       "      <th>10</th>\n",
       "      <th>14</th>\n",
       "      <th>15</th>\n",
       "      <th>17</th>\n",
       "      <th>19</th>\n",
       "      <th>30</th>\n",
       "      <th>31</th>\n",
       "      <th>...</th>\n",
       "      <th>74123</th>\n",
       "      <th>74272</th>\n",
       "      <th>74321</th>\n",
       "      <th>74323</th>\n",
       "      <th>74390</th>\n",
       "      <th>74530</th>\n",
       "      <th>74548</th>\n",
       "      <th>74579</th>\n",
       "      <th>74986</th>\n",
       "      <th>75086</th>\n",
       "    </tr>\n",
       "    <tr>\n",
       "      <th>review_profilename</th>\n",
       "      <th></th>\n",
       "      <th></th>\n",
       "      <th></th>\n",
       "      <th></th>\n",
       "      <th></th>\n",
       "      <th></th>\n",
       "      <th></th>\n",
       "      <th></th>\n",
       "      <th></th>\n",
       "      <th></th>\n",
       "      <th></th>\n",
       "      <th></th>\n",
       "      <th></th>\n",
       "      <th></th>\n",
       "      <th></th>\n",
       "      <th></th>\n",
       "      <th></th>\n",
       "      <th></th>\n",
       "      <th></th>\n",
       "      <th></th>\n",
       "      <th></th>\n",
       "    </tr>\n",
       "  </thead>\n",
       "  <tbody>\n",
       "    <tr>\n",
       "      <th>1759Girl</th>\n",
       "      <td>0.0</td>\n",
       "      <td>0.0</td>\n",
       "      <td>0.0</td>\n",
       "      <td>0.0</td>\n",
       "      <td>0.0</td>\n",
       "      <td>0.0</td>\n",
       "      <td>0.0</td>\n",
       "      <td>0.0</td>\n",
       "      <td>0.0</td>\n",
       "      <td>0.0</td>\n",
       "      <td>...</td>\n",
       "      <td>0.0</td>\n",
       "      <td>0.0</td>\n",
       "      <td>0.0</td>\n",
       "      <td>0.0</td>\n",
       "      <td>0.0</td>\n",
       "      <td>0.0</td>\n",
       "      <td>0.0</td>\n",
       "      <td>0.0</td>\n",
       "      <td>0.0</td>\n",
       "      <td>0.0</td>\n",
       "    </tr>\n",
       "    <tr>\n",
       "      <th>1fastz28</th>\n",
       "      <td>0.0</td>\n",
       "      <td>0.0</td>\n",
       "      <td>0.0</td>\n",
       "      <td>0.0</td>\n",
       "      <td>0.0</td>\n",
       "      <td>0.0</td>\n",
       "      <td>0.0</td>\n",
       "      <td>0.0</td>\n",
       "      <td>0.0</td>\n",
       "      <td>0.0</td>\n",
       "      <td>...</td>\n",
       "      <td>0.0</td>\n",
       "      <td>0.0</td>\n",
       "      <td>0.0</td>\n",
       "      <td>0.0</td>\n",
       "      <td>0.0</td>\n",
       "      <td>0.0</td>\n",
       "      <td>0.0</td>\n",
       "      <td>0.0</td>\n",
       "      <td>0.0</td>\n",
       "      <td>0.0</td>\n",
       "    </tr>\n",
       "    <tr>\n",
       "      <th>3Vandoo</th>\n",
       "      <td>0.0</td>\n",
       "      <td>0.0</td>\n",
       "      <td>0.0</td>\n",
       "      <td>0.0</td>\n",
       "      <td>0.0</td>\n",
       "      <td>0.0</td>\n",
       "      <td>0.0</td>\n",
       "      <td>0.0</td>\n",
       "      <td>0.0</td>\n",
       "      <td>0.0</td>\n",
       "      <td>...</td>\n",
       "      <td>0.0</td>\n",
       "      <td>0.0</td>\n",
       "      <td>0.0</td>\n",
       "      <td>0.0</td>\n",
       "      <td>0.0</td>\n",
       "      <td>0.0</td>\n",
       "      <td>0.0</td>\n",
       "      <td>0.0</td>\n",
       "      <td>0.0</td>\n",
       "      <td>0.0</td>\n",
       "    </tr>\n",
       "    <tr>\n",
       "      <th>4000qtrap</th>\n",
       "      <td>0.0</td>\n",
       "      <td>0.0</td>\n",
       "      <td>0.0</td>\n",
       "      <td>0.0</td>\n",
       "      <td>0.0</td>\n",
       "      <td>0.0</td>\n",
       "      <td>0.0</td>\n",
       "      <td>0.0</td>\n",
       "      <td>0.0</td>\n",
       "      <td>0.0</td>\n",
       "      <td>...</td>\n",
       "      <td>0.0</td>\n",
       "      <td>0.0</td>\n",
       "      <td>0.0</td>\n",
       "      <td>0.0</td>\n",
       "      <td>0.0</td>\n",
       "      <td>0.0</td>\n",
       "      <td>0.0</td>\n",
       "      <td>0.0</td>\n",
       "      <td>0.0</td>\n",
       "      <td>0.0</td>\n",
       "    </tr>\n",
       "    <tr>\n",
       "      <th>4DAloveofSTOUT</th>\n",
       "      <td>0.0</td>\n",
       "      <td>0.0</td>\n",
       "      <td>0.0</td>\n",
       "      <td>0.0</td>\n",
       "      <td>0.0</td>\n",
       "      <td>0.0</td>\n",
       "      <td>0.0</td>\n",
       "      <td>0.0</td>\n",
       "      <td>0.0</td>\n",
       "      <td>0.0</td>\n",
       "      <td>...</td>\n",
       "      <td>0.0</td>\n",
       "      <td>0.0</td>\n",
       "      <td>0.0</td>\n",
       "      <td>0.0</td>\n",
       "      <td>0.0</td>\n",
       "      <td>0.0</td>\n",
       "      <td>0.0</td>\n",
       "      <td>0.0</td>\n",
       "      <td>0.0</td>\n",
       "      <td>0.0</td>\n",
       "    </tr>\n",
       "  </tbody>\n",
       "</table>\n",
       "<p>5 rows × 2499 columns</p>\n",
       "</div>"
      ],
      "text/plain": [
       "beer_beerid         5      6      7      10     14     15     17     19     \\\n",
       "review_profilename                                                           \n",
       "1759Girl              0.0    0.0    0.0    0.0    0.0    0.0    0.0    0.0   \n",
       "1fastz28              0.0    0.0    0.0    0.0    0.0    0.0    0.0    0.0   \n",
       "3Vandoo               0.0    0.0    0.0    0.0    0.0    0.0    0.0    0.0   \n",
       "4000qtrap             0.0    0.0    0.0    0.0    0.0    0.0    0.0    0.0   \n",
       "4DAloveofSTOUT        0.0    0.0    0.0    0.0    0.0    0.0    0.0    0.0   \n",
       "\n",
       "beer_beerid         30     31     ...  74123  74272  74321  74323  74390  \\\n",
       "review_profilename                ...                                      \n",
       "1759Girl              0.0    0.0  ...    0.0    0.0    0.0    0.0    0.0   \n",
       "1fastz28              0.0    0.0  ...    0.0    0.0    0.0    0.0    0.0   \n",
       "3Vandoo               0.0    0.0  ...    0.0    0.0    0.0    0.0    0.0   \n",
       "4000qtrap             0.0    0.0  ...    0.0    0.0    0.0    0.0    0.0   \n",
       "4DAloveofSTOUT        0.0    0.0  ...    0.0    0.0    0.0    0.0    0.0   \n",
       "\n",
       "beer_beerid         74530  74548  74579  74986  75086  \n",
       "review_profilename                                     \n",
       "1759Girl              0.0    0.0    0.0    0.0    0.0  \n",
       "1fastz28              0.0    0.0    0.0    0.0    0.0  \n",
       "3Vandoo               0.0    0.0    0.0    0.0    0.0  \n",
       "4000qtrap             0.0    0.0    0.0    0.0    0.0  \n",
       "4DAloveofSTOUT        0.0    0.0    0.0    0.0    0.0  \n",
       "\n",
       "[5 rows x 2499 columns]"
      ]
     },
     "execution_count": 83,
     "metadata": {},
     "output_type": "execute_result"
    }
   ],
   "source": [
    "test_item_predicted_ratings = (np.dot(test_item_correlation, test_beer_item.fillna(0))).T\n",
    "test_item_final_rating = np.multiply(test_item_predicted_ratings,dummy_test)\n",
    "test_item_final_rating.head()"
   ]
  },
  {
   "cell_type": "code",
   "execution_count": 84,
   "metadata": {},
   "outputs": [
    {
     "name": "stderr",
     "output_type": "stream",
     "text": [
      "C:\\Users\\Divya Kota\\AppData\\Roaming\\Python\\Python37\\site-packages\\sklearn\\preprocessing\\_data.py:373: RuntimeWarning: All-NaN slice encountered\n",
      "  data_min = np.nanmin(X, axis=0)\n",
      "C:\\Users\\Divya Kota\\AppData\\Roaming\\Python\\Python37\\site-packages\\sklearn\\preprocessing\\_data.py:374: RuntimeWarning: All-NaN slice encountered\n",
      "  data_max = np.nanmax(X, axis=0)\n"
     ]
    },
    {
     "name": "stdout",
     "output_type": "stream",
     "text": [
      "MinMaxScaler(feature_range=(1, 5))\n"
     ]
    }
   ],
   "source": [
    "from sklearn.preprocessing import MinMaxScaler\n",
    "from numpy import *\n",
    "\n",
    "X  = test_item_final_rating.copy() \n",
    "X = X[X>0]\n",
    "\n",
    "scaler = MinMaxScaler(feature_range=(1, 5))\n",
    "print(scaler.fit(X))\n",
    "y = (scaler.transform(X))\n",
    "\n",
    "\n",
    "test_beer = test.pivot_table(\n",
    "    index='review_profilename',\n",
    "    columns='beer_beerid',\n",
    "    values='reviews'\n",
    ")\n",
    "# Finding total non-NaN value\n",
    "total_non_nan = np.count_nonzero(~np.isnan(y))"
   ]
  },
  {
   "cell_type": "code",
   "execution_count": 85,
   "metadata": {},
   "outputs": [
    {
     "name": "stdout",
     "output_type": "stream",
     "text": [
      "2.1441010876035245\n"
     ]
    }
   ],
   "source": [
    "rmse = (sum(sum((test_beer - y )**2))/total_non_nan)**0.5\n",
    "print(rmse)"
   ]
  },
  {
   "cell_type": "markdown",
   "metadata": {},
   "source": [
    "### Suggestion for Better Model\n",
    "\n",
    "The lower values of RMSE would mostly indicate the better fit of the mode.RMSE is considered as a good measure for the accurate prediction of the model response and in this case the RMSE for the user based model is 1.62 and the rmse for the item based similarity is 2.14.Therefore, it is implied that the user based model is of better fit in this particular scenario.\n"
   ]
  },
  {
   "cell_type": "markdown",
   "metadata": {},
   "source": [
    "### Suggestions for the TOP 5 Beers\n",
    "\n",
    "According to the project requirements the names of the top 5 beers are 'cokes', 'genog' and 'giblet' using both the models.\n",
    "\n",
    "### User Based"
   ]
  },
  {
   "cell_type": "code",
   "execution_count": 86,
   "metadata": {},
   "outputs": [
    {
     "data": {
      "text/html": [
       "<div>\n",
       "<style scoped>\n",
       "    .dataframe tbody tr th:only-of-type {\n",
       "        vertical-align: middle;\n",
       "    }\n",
       "\n",
       "    .dataframe tbody tr th {\n",
       "        vertical-align: top;\n",
       "    }\n",
       "\n",
       "    .dataframe thead th {\n",
       "        text-align: right;\n",
       "    }\n",
       "</style>\n",
       "<table border=\"1\" class=\"dataframe\">\n",
       "  <thead>\n",
       "    <tr style=\"text-align: right;\">\n",
       "      <th>review_profilename</th>\n",
       "      <th>cokes</th>\n",
       "    </tr>\n",
       "    <tr>\n",
       "      <th>beer_beerid</th>\n",
       "      <th></th>\n",
       "    </tr>\n",
       "  </thead>\n",
       "  <tbody>\n",
       "    <tr>\n",
       "      <th>1904</th>\n",
       "      <td>22.389063</td>\n",
       "    </tr>\n",
       "    <tr>\n",
       "      <th>92</th>\n",
       "      <td>21.744764</td>\n",
       "    </tr>\n",
       "    <tr>\n",
       "      <th>34</th>\n",
       "      <td>21.665512</td>\n",
       "    </tr>\n",
       "    <tr>\n",
       "      <th>412</th>\n",
       "      <td>21.577222</td>\n",
       "    </tr>\n",
       "    <tr>\n",
       "      <th>645</th>\n",
       "      <td>20.478778</td>\n",
       "    </tr>\n",
       "  </tbody>\n",
       "</table>\n",
       "</div>"
      ],
      "text/plain": [
       "review_profilename      cokes\n",
       "beer_beerid                  \n",
       "1904                22.389063\n",
       "92                  21.744764\n",
       "34                  21.665512\n",
       "412                 21.577222\n",
       "645                 20.478778"
      ]
     },
     "execution_count": 86,
     "metadata": {},
     "output_type": "execute_result"
    }
   ],
   "source": [
    "cokes = pd.DataFrame(user_final_rating[user_final_rating.index=='cokes']).T\n",
    "cokes.sort_values(by='cokes',ascending=False)[0:5]"
   ]
  },
  {
   "cell_type": "code",
   "execution_count": 87,
   "metadata": {},
   "outputs": [
    {
     "data": {
      "text/html": [
       "<div>\n",
       "<style scoped>\n",
       "    .dataframe tbody tr th:only-of-type {\n",
       "        vertical-align: middle;\n",
       "    }\n",
       "\n",
       "    .dataframe tbody tr th {\n",
       "        vertical-align: top;\n",
       "    }\n",
       "\n",
       "    .dataframe thead th {\n",
       "        text-align: right;\n",
       "    }\n",
       "</style>\n",
       "<table border=\"1\" class=\"dataframe\">\n",
       "  <thead>\n",
       "    <tr style=\"text-align: right;\">\n",
       "      <th>review_profilename</th>\n",
       "      <th>genog</th>\n",
       "    </tr>\n",
       "    <tr>\n",
       "      <th>beer_beerid</th>\n",
       "      <th></th>\n",
       "    </tr>\n",
       "  </thead>\n",
       "  <tbody>\n",
       "    <tr>\n",
       "      <th>2093</th>\n",
       "      <td>28.814806</td>\n",
       "    </tr>\n",
       "    <tr>\n",
       "      <th>7971</th>\n",
       "      <td>28.383994</td>\n",
       "    </tr>\n",
       "    <tr>\n",
       "      <th>1093</th>\n",
       "      <td>26.822160</td>\n",
       "    </tr>\n",
       "    <tr>\n",
       "      <th>412</th>\n",
       "      <td>26.573622</td>\n",
       "    </tr>\n",
       "    <tr>\n",
       "      <th>645</th>\n",
       "      <td>26.387561</td>\n",
       "    </tr>\n",
       "  </tbody>\n",
       "</table>\n",
       "</div>"
      ],
      "text/plain": [
       "review_profilename      genog\n",
       "beer_beerid                  \n",
       "2093                28.814806\n",
       "7971                28.383994\n",
       "1093                26.822160\n",
       "412                 26.573622\n",
       "645                 26.387561"
      ]
     },
     "execution_count": 87,
     "metadata": {},
     "output_type": "execute_result"
    }
   ],
   "source": [
    "genog = pd.DataFrame(user_final_rating[user_final_rating.index=='genog']).T\n",
    "genog.sort_values(by='genog',ascending=False)[0:5]"
   ]
  },
  {
   "cell_type": "code",
   "execution_count": 88,
   "metadata": {},
   "outputs": [
    {
     "data": {
      "text/html": [
       "<div>\n",
       "<style scoped>\n",
       "    .dataframe tbody tr th:only-of-type {\n",
       "        vertical-align: middle;\n",
       "    }\n",
       "\n",
       "    .dataframe tbody tr th {\n",
       "        vertical-align: top;\n",
       "    }\n",
       "\n",
       "    .dataframe thead th {\n",
       "        text-align: right;\n",
       "    }\n",
       "</style>\n",
       "<table border=\"1\" class=\"dataframe\">\n",
       "  <thead>\n",
       "    <tr style=\"text-align: right;\">\n",
       "      <th>review_profilename</th>\n",
       "      <th>giblet</th>\n",
       "    </tr>\n",
       "    <tr>\n",
       "      <th>beer_beerid</th>\n",
       "      <th></th>\n",
       "    </tr>\n",
       "  </thead>\n",
       "  <tbody>\n",
       "    <tr>\n",
       "      <th>412</th>\n",
       "      <td>38.971836</td>\n",
       "    </tr>\n",
       "    <tr>\n",
       "      <th>2093</th>\n",
       "      <td>37.398848</td>\n",
       "    </tr>\n",
       "    <tr>\n",
       "      <th>34</th>\n",
       "      <td>37.246135</td>\n",
       "    </tr>\n",
       "    <tr>\n",
       "      <th>1708</th>\n",
       "      <td>35.503418</td>\n",
       "    </tr>\n",
       "    <tr>\n",
       "      <th>131</th>\n",
       "      <td>33.826487</td>\n",
       "    </tr>\n",
       "  </tbody>\n",
       "</table>\n",
       "</div>"
      ],
      "text/plain": [
       "review_profilename     giblet\n",
       "beer_beerid                  \n",
       "412                 38.971836\n",
       "2093                37.398848\n",
       "34                  37.246135\n",
       "1708                35.503418\n",
       "131                 33.826487"
      ]
     },
     "execution_count": 88,
     "metadata": {},
     "output_type": "execute_result"
    }
   ],
   "source": [
    "giblet = pd.DataFrame(user_final_rating[user_final_rating.index=='giblet']).T\n",
    "giblet.sort_values(by='giblet',ascending=False)[0:5]"
   ]
  },
  {
   "cell_type": "markdown",
   "metadata": {},
   "source": [
    "### Item Based Similarity"
   ]
  },
  {
   "cell_type": "code",
   "execution_count": 89,
   "metadata": {},
   "outputs": [
    {
     "data": {
      "text/html": [
       "<div>\n",
       "<style scoped>\n",
       "    .dataframe tbody tr th:only-of-type {\n",
       "        vertical-align: middle;\n",
       "    }\n",
       "\n",
       "    .dataframe tbody tr th {\n",
       "        vertical-align: top;\n",
       "    }\n",
       "\n",
       "    .dataframe thead th {\n",
       "        text-align: right;\n",
       "    }\n",
       "</style>\n",
       "<table border=\"1\" class=\"dataframe\">\n",
       "  <thead>\n",
       "    <tr style=\"text-align: right;\">\n",
       "      <th>review_profilename</th>\n",
       "      <th>cokes</th>\n",
       "    </tr>\n",
       "    <tr>\n",
       "      <th>beer_beerid</th>\n",
       "      <th></th>\n",
       "    </tr>\n",
       "  </thead>\n",
       "  <tbody>\n",
       "    <tr>\n",
       "      <th>9135</th>\n",
       "      <td>1.066708</td>\n",
       "    </tr>\n",
       "    <tr>\n",
       "      <th>2671</th>\n",
       "      <td>0.909246</td>\n",
       "    </tr>\n",
       "    <tr>\n",
       "      <th>2389</th>\n",
       "      <td>0.723337</td>\n",
       "    </tr>\n",
       "    <tr>\n",
       "      <th>2437</th>\n",
       "      <td>0.698753</td>\n",
       "    </tr>\n",
       "    <tr>\n",
       "      <th>5051</th>\n",
       "      <td>0.697886</td>\n",
       "    </tr>\n",
       "  </tbody>\n",
       "</table>\n",
       "</div>"
      ],
      "text/plain": [
       "review_profilename     cokes\n",
       "beer_beerid                 \n",
       "9135                1.066708\n",
       "2671                0.909246\n",
       "2389                0.723337\n",
       "2437                0.698753\n",
       "5051                0.697886"
      ]
     },
     "execution_count": 89,
     "metadata": {},
     "output_type": "execute_result"
    }
   ],
   "source": [
    "cokes_item = pd.DataFrame(item_final_rating[item_final_rating.index=='cokes']).T\n",
    "cokes_item.sort_values(by='cokes',ascending=False)[0:5]"
   ]
  },
  {
   "cell_type": "code",
   "execution_count": 90,
   "metadata": {},
   "outputs": [
    {
     "data": {
      "text/html": [
       "<div>\n",
       "<style scoped>\n",
       "    .dataframe tbody tr th:only-of-type {\n",
       "        vertical-align: middle;\n",
       "    }\n",
       "\n",
       "    .dataframe tbody tr th {\n",
       "        vertical-align: top;\n",
       "    }\n",
       "\n",
       "    .dataframe thead th {\n",
       "        text-align: right;\n",
       "    }\n",
       "</style>\n",
       "<table border=\"1\" class=\"dataframe\">\n",
       "  <thead>\n",
       "    <tr style=\"text-align: right;\">\n",
       "      <th>review_profilename</th>\n",
       "      <th>genog</th>\n",
       "    </tr>\n",
       "    <tr>\n",
       "      <th>beer_beerid</th>\n",
       "      <th></th>\n",
       "    </tr>\n",
       "  </thead>\n",
       "  <tbody>\n",
       "    <tr>\n",
       "      <th>732</th>\n",
       "      <td>0.370711</td>\n",
       "    </tr>\n",
       "    <tr>\n",
       "      <th>29721</th>\n",
       "      <td>0.357506</td>\n",
       "    </tr>\n",
       "    <tr>\n",
       "      <th>41110</th>\n",
       "      <td>0.338507</td>\n",
       "    </tr>\n",
       "    <tr>\n",
       "      <th>60681</th>\n",
       "      <td>0.337643</td>\n",
       "    </tr>\n",
       "    <tr>\n",
       "      <th>62432</th>\n",
       "      <td>0.337515</td>\n",
       "    </tr>\n",
       "  </tbody>\n",
       "</table>\n",
       "</div>"
      ],
      "text/plain": [
       "review_profilename     genog\n",
       "beer_beerid                 \n",
       "732                 0.370711\n",
       "29721               0.357506\n",
       "41110               0.338507\n",
       "60681               0.337643\n",
       "62432               0.337515"
      ]
     },
     "execution_count": 90,
     "metadata": {},
     "output_type": "execute_result"
    }
   ],
   "source": [
    "genog_item = pd.DataFrame(item_final_rating[item_final_rating.index=='genog']).T\n",
    "genog_item.sort_values(by='genog',ascending=False)[0:5]"
   ]
  },
  {
   "cell_type": "code",
   "execution_count": 91,
   "metadata": {},
   "outputs": [
    {
     "data": {
      "text/html": [
       "<div>\n",
       "<style scoped>\n",
       "    .dataframe tbody tr th:only-of-type {\n",
       "        vertical-align: middle;\n",
       "    }\n",
       "\n",
       "    .dataframe tbody tr th {\n",
       "        vertical-align: top;\n",
       "    }\n",
       "\n",
       "    .dataframe thead th {\n",
       "        text-align: right;\n",
       "    }\n",
       "</style>\n",
       "<table border=\"1\" class=\"dataframe\">\n",
       "  <thead>\n",
       "    <tr style=\"text-align: right;\">\n",
       "      <th>review_profilename</th>\n",
       "      <th>giblet</th>\n",
       "    </tr>\n",
       "    <tr>\n",
       "      <th>beer_beerid</th>\n",
       "      <th></th>\n",
       "    </tr>\n",
       "  </thead>\n",
       "  <tbody>\n",
       "    <tr>\n",
       "      <th>36341</th>\n",
       "      <td>0.230292</td>\n",
       "    </tr>\n",
       "    <tr>\n",
       "      <th>58876</th>\n",
       "      <td>0.227390</td>\n",
       "    </tr>\n",
       "    <tr>\n",
       "      <th>51483</th>\n",
       "      <td>0.215511</td>\n",
       "    </tr>\n",
       "    <tr>\n",
       "      <th>35201</th>\n",
       "      <td>0.203865</td>\n",
       "    </tr>\n",
       "    <tr>\n",
       "      <th>2588</th>\n",
       "      <td>0.195016</td>\n",
       "    </tr>\n",
       "  </tbody>\n",
       "</table>\n",
       "</div>"
      ],
      "text/plain": [
       "review_profilename    giblet\n",
       "beer_beerid                 \n",
       "36341               0.230292\n",
       "58876               0.227390\n",
       "51483               0.215511\n",
       "35201               0.203865\n",
       "2588                0.195016"
      ]
     },
     "execution_count": 91,
     "metadata": {},
     "output_type": "execute_result"
    }
   ],
   "source": [
    "giblet_item = pd.DataFrame(item_final_rating[item_final_rating.index=='giblet']).T\n",
    "giblet_item.sort_values(by='giblet',ascending=False)[0:5]"
   ]
  },
  {
   "cell_type": "markdown",
   "metadata": {},
   "source": [
    "### Summary\n",
    "\n",
    "The data has been checked for any quality issues such as null values,missing values and duplicate information.The data was cleaned and the right values with optimal number of N has been chosen.The data was prepared, unique values identified and the average beers, users and average number of beer reviews and users have been visualised.The recommendation models based on item based similarity and user based similarity were performed.The ten beers and users were identifited and the similarity between them based on their correlation has been visualised.The different steps to identify and suggest the top five beers to the customers is performed and th ebetter model among the two has been evlauated by using RMSE as the metric and the top five beers are suggested"
   ]
  },
  {
   "cell_type": "code",
   "execution_count": null,
   "metadata": {},
   "outputs": [],
   "source": []
  }
 ],
 "metadata": {
  "kernelspec": {
   "display_name": "Python 3",
   "language": "python",
   "name": "python3"
  },
  "language_info": {
   "codemirror_mode": {
    "name": "ipython",
    "version": 3
   },
   "file_extension": ".py",
   "mimetype": "text/x-python",
   "name": "python",
   "nbconvert_exporter": "python",
   "pygments_lexer": "ipython3",
   "version": "3.7.6"
  }
 },
 "nbformat": 4,
 "nbformat_minor": 4
}
